{
 "cells": [
  {
   "cell_type": "code",
   "execution_count": 2,
   "id": "1be208be-0804-46cd-b175-f6df70c05b19",
   "metadata": {
    "tags": []
   },
   "outputs": [
    {
     "name": "stdout",
     "output_type": "stream",
     "text": [
      "Requirement already satisfied: tensorflow in /opt/conda/lib/python3.7/site-packages (2.11.0)\n",
      "Requirement already satisfied: absl-py>=1.0.0 in /opt/conda/lib/python3.7/site-packages (from tensorflow) (1.4.0)\n",
      "Requirement already satisfied: astunparse>=1.6.0 in /opt/conda/lib/python3.7/site-packages (from tensorflow) (1.6.3)\n",
      "Requirement already satisfied: flatbuffers>=2.0 in /opt/conda/lib/python3.7/site-packages (from tensorflow) (2.0.7)\n",
      "Requirement already satisfied: gast<=0.4.0,>=0.2.1 in /opt/conda/lib/python3.7/site-packages (from tensorflow) (0.4.0)\n",
      "Requirement already satisfied: google-pasta>=0.1.1 in /opt/conda/lib/python3.7/site-packages (from tensorflow) (0.2.0)\n",
      "Requirement already satisfied: grpcio<2.0,>=1.24.3 in /opt/conda/lib/python3.7/site-packages (from tensorflow) (1.56.0)\n",
      "Requirement already satisfied: h5py>=2.9.0 in /opt/conda/lib/python3.7/site-packages (from tensorflow) (2.10.0)\n",
      "Requirement already satisfied: keras<2.12,>=2.11.0 in /opt/conda/lib/python3.7/site-packages (from tensorflow) (2.11.0)\n",
      "Requirement already satisfied: libclang>=13.0.0 in /opt/conda/lib/python3.7/site-packages (from tensorflow) (16.0.0)\n",
      "Requirement already satisfied: numpy>=1.20 in /opt/conda/lib/python3.7/site-packages (from tensorflow) (1.21.6)\n",
      "Requirement already satisfied: opt-einsum>=2.3.2 in /opt/conda/lib/python3.7/site-packages (from tensorflow) (3.3.0)\n",
      "Requirement already satisfied: packaging in /opt/conda/lib/python3.7/site-packages (from tensorflow) (23.1)\n",
      "Requirement already satisfied: protobuf<3.20,>=3.9.2 in /opt/conda/lib/python3.7/site-packages (from tensorflow) (3.19.6)\n",
      "Requirement already satisfied: setuptools in /opt/conda/lib/python3.7/site-packages (from tensorflow) (65.5.1)\n",
      "Requirement already satisfied: six>=1.12.0 in /opt/conda/lib/python3.7/site-packages (from tensorflow) (1.14.0)\n",
      "Requirement already satisfied: tensorboard<2.12,>=2.11 in /opt/conda/lib/python3.7/site-packages (from tensorflow) (2.11.2)\n",
      "Requirement already satisfied: tensorflow-estimator<2.12,>=2.11.0 in /opt/conda/lib/python3.7/site-packages (from tensorflow) (2.11.0)\n",
      "Requirement already satisfied: termcolor>=1.1.0 in /opt/conda/lib/python3.7/site-packages (from tensorflow) (2.3.0)\n",
      "Requirement already satisfied: typing-extensions>=3.6.6 in /opt/conda/lib/python3.7/site-packages (from tensorflow) (4.6.3)\n",
      "Requirement already satisfied: wrapt>=1.11.0 in /opt/conda/lib/python3.7/site-packages (from tensorflow) (1.11.2)\n",
      "Requirement already satisfied: tensorflow-io-gcs-filesystem>=0.23.1 in /opt/conda/lib/python3.7/site-packages (from tensorflow) (0.32.0)\n",
      "Requirement already satisfied: wheel<1.0,>=0.23.0 in /opt/conda/lib/python3.7/site-packages (from astunparse>=1.6.0->tensorflow) (0.40.0)\n",
      "Requirement already satisfied: google-auth<3,>=1.6.3 in /opt/conda/lib/python3.7/site-packages (from tensorboard<2.12,>=2.11->tensorflow) (2.20.0)\n",
      "Requirement already satisfied: google-auth-oauthlib<0.5,>=0.4.1 in /opt/conda/lib/python3.7/site-packages (from tensorboard<2.12,>=2.11->tensorflow) (0.4.6)\n",
      "Requirement already satisfied: markdown>=2.6.8 in /opt/conda/lib/python3.7/site-packages (from tensorboard<2.12,>=2.11->tensorflow) (3.4.3)\n",
      "Requirement already satisfied: requests<3,>=2.21.0 in /opt/conda/lib/python3.7/site-packages (from tensorboard<2.12,>=2.11->tensorflow) (2.31.0)\n",
      "Requirement already satisfied: tensorboard-data-server<0.7.0,>=0.6.0 in /opt/conda/lib/python3.7/site-packages (from tensorboard<2.12,>=2.11->tensorflow) (0.6.1)\n",
      "Requirement already satisfied: tensorboard-plugin-wit>=1.6.0 in /opt/conda/lib/python3.7/site-packages (from tensorboard<2.12,>=2.11->tensorflow) (1.8.1)\n",
      "Requirement already satisfied: werkzeug>=1.0.1 in /opt/conda/lib/python3.7/site-packages (from tensorboard<2.12,>=2.11->tensorflow) (2.2.3)\n",
      "Requirement already satisfied: cachetools<6.0,>=2.0.0 in /opt/conda/lib/python3.7/site-packages (from google-auth<3,>=1.6.3->tensorboard<2.12,>=2.11->tensorflow) (5.3.1)\n",
      "Requirement already satisfied: pyasn1-modules>=0.2.1 in /opt/conda/lib/python3.7/site-packages (from google-auth<3,>=1.6.3->tensorboard<2.12,>=2.11->tensorflow) (0.3.0)\n",
      "Requirement already satisfied: rsa<5,>=3.1.4 in /opt/conda/lib/python3.7/site-packages (from google-auth<3,>=1.6.3->tensorboard<2.12,>=2.11->tensorflow) (4.9)\n",
      "Requirement already satisfied: urllib3<2.0 in /opt/conda/lib/python3.7/site-packages (from google-auth<3,>=1.6.3->tensorboard<2.12,>=2.11->tensorflow) (1.26.16)\n",
      "Requirement already satisfied: requests-oauthlib>=0.7.0 in /opt/conda/lib/python3.7/site-packages (from google-auth-oauthlib<0.5,>=0.4.1->tensorboard<2.12,>=2.11->tensorflow) (1.3.1)\n",
      "Requirement already satisfied: importlib-metadata>=4.4 in /opt/conda/lib/python3.7/site-packages (from markdown>=2.6.8->tensorboard<2.12,>=2.11->tensorflow) (6.6.0)\n",
      "Requirement already satisfied: charset-normalizer<4,>=2 in /opt/conda/lib/python3.7/site-packages (from requests<3,>=2.21.0->tensorboard<2.12,>=2.11->tensorflow) (2.0.4)\n",
      "Requirement already satisfied: idna<4,>=2.5 in /opt/conda/lib/python3.7/site-packages (from requests<3,>=2.21.0->tensorboard<2.12,>=2.11->tensorflow) (2.8)\n",
      "Requirement already satisfied: certifi>=2017.4.17 in /opt/conda/lib/python3.7/site-packages (from requests<3,>=2.21.0->tensorboard<2.12,>=2.11->tensorflow) (2023.5.7)\n",
      "Requirement already satisfied: MarkupSafe>=2.1.1 in /opt/conda/lib/python3.7/site-packages (from werkzeug>=1.0.1->tensorboard<2.12,>=2.11->tensorflow) (2.1.3)\n",
      "Requirement already satisfied: zipp>=0.5 in /opt/conda/lib/python3.7/site-packages (from importlib-metadata>=4.4->markdown>=2.6.8->tensorboard<2.12,>=2.11->tensorflow) (2.2.0)\n",
      "Requirement already satisfied: pyasn1<0.6.0,>=0.4.6 in /opt/conda/lib/python3.7/site-packages (from pyasn1-modules>=0.2.1->google-auth<3,>=1.6.3->tensorboard<2.12,>=2.11->tensorflow) (0.5.0)\n",
      "Requirement already satisfied: oauthlib>=3.0.0 in /opt/conda/lib/python3.7/site-packages (from requests-oauthlib>=0.7.0->google-auth-oauthlib<0.5,>=0.4.1->tensorboard<2.12,>=2.11->tensorflow) (3.2.2)\n",
      "\u001b[33mWARNING: Running pip as the 'root' user can result in broken permissions and conflicting behaviour with the system package manager. It is recommended to use a virtual environment instead: https://pip.pypa.io/warnings/venv\u001b[0m\u001b[33m\n",
      "\u001b[0m"
     ]
    }
   ],
   "source": [
    "!pip install tensorflow"
   ]
  },
  {
   "cell_type": "code",
   "execution_count": 3,
   "id": "1e4eba5f-f0e5-4dc1-99ca-54598daf82b5",
   "metadata": {
    "tags": []
   },
   "outputs": [
    {
     "name": "stdout",
     "output_type": "stream",
     "text": [
      "Collecting xformers\n",
      "  Using cached xformers-0.0.20.tar.gz (7.6 MB)\n",
      "  Preparing metadata (setup.py) ... \u001b[?25ldone\n",
      "\u001b[?25hRequirement already satisfied: torch>=1.12 in /opt/conda/lib/python3.7/site-packages (from xformers) (1.13.1)\n",
      "Requirement already satisfied: numpy in /opt/conda/lib/python3.7/site-packages (from xformers) (1.21.6)\n",
      "Collecting pyre-extensions==0.0.29 (from xformers)\n",
      "  Using cached pyre_extensions-0.0.29-py3-none-any.whl (12 kB)\n",
      "Collecting typing-inspect (from pyre-extensions==0.0.29->xformers)\n",
      "  Using cached typing_inspect-0.9.0-py3-none-any.whl (8.8 kB)\n",
      "Requirement already satisfied: typing-extensions in /opt/conda/lib/python3.7/site-packages (from pyre-extensions==0.0.29->xformers) (4.6.3)\n",
      "Requirement already satisfied: nvidia-cuda-runtime-cu11==11.7.99 in /opt/conda/lib/python3.7/site-packages (from torch>=1.12->xformers) (11.7.99)\n",
      "Requirement already satisfied: nvidia-cudnn-cu11==8.5.0.96 in /opt/conda/lib/python3.7/site-packages (from torch>=1.12->xformers) (8.5.0.96)\n",
      "Requirement already satisfied: nvidia-cublas-cu11==11.10.3.66 in /opt/conda/lib/python3.7/site-packages (from torch>=1.12->xformers) (11.10.3.66)\n",
      "Requirement already satisfied: nvidia-cuda-nvrtc-cu11==11.7.99 in /opt/conda/lib/python3.7/site-packages (from torch>=1.12->xformers) (11.7.99)\n",
      "Requirement already satisfied: setuptools in /opt/conda/lib/python3.7/site-packages (from nvidia-cublas-cu11==11.10.3.66->torch>=1.12->xformers) (65.5.1)\n",
      "Requirement already satisfied: wheel in /opt/conda/lib/python3.7/site-packages (from nvidia-cublas-cu11==11.10.3.66->torch>=1.12->xformers) (0.40.0)\n",
      "Collecting mypy-extensions>=0.3.0 (from typing-inspect->pyre-extensions==0.0.29->xformers)\n",
      "  Using cached mypy_extensions-1.0.0-py3-none-any.whl (4.7 kB)\n",
      "Building wheels for collected packages: xformers\n",
      "  Building wheel for xformers (setup.py) ... \u001b[?25lerror\n",
      "  \u001b[1;31merror\u001b[0m: \u001b[1msubprocess-exited-with-error\u001b[0m\n",
      "  \n",
      "  \u001b[31m×\u001b[0m \u001b[32mpython setup.py bdist_wheel\u001b[0m did not run successfully.\n",
      "  \u001b[31m│\u001b[0m exit code: \u001b[1;36m1\u001b[0m\n",
      "  \u001b[31m╰─>\u001b[0m \u001b[31m[258 lines of output]\u001b[0m\n",
      "  \u001b[31m   \u001b[0m running bdist_wheel\n",
      "  \u001b[31m   \u001b[0m /opt/conda/lib/python3.7/site-packages/torch/utils/cpp_extension.py:476: UserWarning: Attempted to use ninja as the BuildExtension backend but we could not find ninja.. Falling back to using the slow distutils backend.\n",
      "  \u001b[31m   \u001b[0m   warnings.warn(msg.format('we could not find ninja.'))\n",
      "  \u001b[31m   \u001b[0m running build\n",
      "  \u001b[31m   \u001b[0m running build_py\n",
      "  \u001b[31m   \u001b[0m creating build\n",
      "  \u001b[31m   \u001b[0m creating build/lib.linux-x86_64-cpython-37\n",
      "  \u001b[31m   \u001b[0m creating build/lib.linux-x86_64-cpython-37/xformers\n",
      "  \u001b[31m   \u001b[0m copying xformers/__init__.py -> build/lib.linux-x86_64-cpython-37/xformers\n",
      "  \u001b[31m   \u001b[0m copying xformers/_cpp_lib.py -> build/lib.linux-x86_64-cpython-37/xformers\n",
      "  \u001b[31m   \u001b[0m copying xformers/info.py -> build/lib.linux-x86_64-cpython-37/xformers\n",
      "  \u001b[31m   \u001b[0m copying xformers/test.py -> build/lib.linux-x86_64-cpython-37/xformers\n",
      "  \u001b[31m   \u001b[0m copying xformers/utils.py -> build/lib.linux-x86_64-cpython-37/xformers\n",
      "  \u001b[31m   \u001b[0m copying xformers/version.py -> build/lib.linux-x86_64-cpython-37/xformers\n",
      "  \u001b[31m   \u001b[0m creating build/lib.linux-x86_64-cpython-37/xformers/benchmarks\n",
      "  \u001b[31m   \u001b[0m copying xformers/benchmarks/__init__.py -> build/lib.linux-x86_64-cpython-37/xformers/benchmarks\n",
      "  \u001b[31m   \u001b[0m copying xformers/benchmarks/benchmark_blocksparse_transformers.py -> build/lib.linux-x86_64-cpython-37/xformers/benchmarks\n",
      "  \u001b[31m   \u001b[0m copying xformers/benchmarks/benchmark_causal_blocksparse.py -> build/lib.linux-x86_64-cpython-37/xformers/benchmarks\n",
      "  \u001b[31m   \u001b[0m copying xformers/benchmarks/benchmark_core.py -> build/lib.linux-x86_64-cpython-37/xformers/benchmarks\n",
      "  \u001b[31m   \u001b[0m copying xformers/benchmarks/benchmark_encoder.py -> build/lib.linux-x86_64-cpython-37/xformers/benchmarks\n",
      "  \u001b[31m   \u001b[0m copying xformers/benchmarks/benchmark_indexing.py -> build/lib.linux-x86_64-cpython-37/xformers/benchmarks\n",
      "  \u001b[31m   \u001b[0m copying xformers/benchmarks/benchmark_mem_eff_attention.py -> build/lib.linux-x86_64-cpython-37/xformers/benchmarks\n",
      "  \u001b[31m   \u001b[0m copying xformers/benchmarks/benchmark_mlp.py -> build/lib.linux-x86_64-cpython-37/xformers/benchmarks\n",
      "  \u001b[31m   \u001b[0m copying xformers/benchmarks/benchmark_multi_head_dispatch.py -> build/lib.linux-x86_64-cpython-37/xformers/benchmarks\n",
      "  \u001b[31m   \u001b[0m copying xformers/benchmarks/benchmark_nvfuser.py -> build/lib.linux-x86_64-cpython-37/xformers/benchmarks\n",
      "  \u001b[31m   \u001b[0m copying xformers/benchmarks/benchmark_nystrom_utils.py -> build/lib.linux-x86_64-cpython-37/xformers/benchmarks\n",
      "  \u001b[31m   \u001b[0m copying xformers/benchmarks/benchmark_pytorch_transformer.py -> build/lib.linux-x86_64-cpython-37/xformers/benchmarks\n",
      "  \u001b[31m   \u001b[0m copying xformers/benchmarks/benchmark_revnet.py -> build/lib.linux-x86_64-cpython-37/xformers/benchmarks\n",
      "  \u001b[31m   \u001b[0m copying xformers/benchmarks/benchmark_sddmm.py -> build/lib.linux-x86_64-cpython-37/xformers/benchmarks\n",
      "  \u001b[31m   \u001b[0m copying xformers/benchmarks/benchmark_swiglu.py -> build/lib.linux-x86_64-cpython-37/xformers/benchmarks\n",
      "  \u001b[31m   \u001b[0m copying xformers/benchmarks/benchmark_transformer.py -> build/lib.linux-x86_64-cpython-37/xformers/benchmarks\n",
      "  \u001b[31m   \u001b[0m copying xformers/benchmarks/benchmark_triton_blocksparse.py -> build/lib.linux-x86_64-cpython-37/xformers/benchmarks\n",
      "  \u001b[31m   \u001b[0m copying xformers/benchmarks/benchmark_triton_dropout.py -> build/lib.linux-x86_64-cpython-37/xformers/benchmarks\n",
      "  \u001b[31m   \u001b[0m copying xformers/benchmarks/benchmark_triton_fused_linear.py -> build/lib.linux-x86_64-cpython-37/xformers/benchmarks\n",
      "  \u001b[31m   \u001b[0m copying xformers/benchmarks/benchmark_triton_layernorm.py -> build/lib.linux-x86_64-cpython-37/xformers/benchmarks\n",
      "  \u001b[31m   \u001b[0m copying xformers/benchmarks/benchmark_triton_softmax.py -> build/lib.linux-x86_64-cpython-37/xformers/benchmarks\n",
      "  \u001b[31m   \u001b[0m copying xformers/benchmarks/benchmark_triton_stride_sum.py -> build/lib.linux-x86_64-cpython-37/xformers/benchmarks\n",
      "  \u001b[31m   \u001b[0m copying xformers/benchmarks/utils.py -> build/lib.linux-x86_64-cpython-37/xformers/benchmarks\n",
      "  \u001b[31m   \u001b[0m creating build/lib.linux-x86_64-cpython-37/xformers/components\n",
      "  \u001b[31m   \u001b[0m copying xformers/components/__init__.py -> build/lib.linux-x86_64-cpython-37/xformers/components\n",
      "  \u001b[31m   \u001b[0m copying xformers/components/activations.py -> build/lib.linux-x86_64-cpython-37/xformers/components\n",
      "  \u001b[31m   \u001b[0m copying xformers/components/input_projection.py -> build/lib.linux-x86_64-cpython-37/xformers/components\n",
      "  \u001b[31m   \u001b[0m copying xformers/components/multi_head_dispatch.py -> build/lib.linux-x86_64-cpython-37/xformers/components\n",
      "  \u001b[31m   \u001b[0m copying xformers/components/patch_embedding.py -> build/lib.linux-x86_64-cpython-37/xformers/components\n",
      "  \u001b[31m   \u001b[0m copying xformers/components/residual.py -> build/lib.linux-x86_64-cpython-37/xformers/components\n",
      "  \u001b[31m   \u001b[0m copying xformers/components/reversible.py -> build/lib.linux-x86_64-cpython-37/xformers/components\n",
      "  \u001b[31m   \u001b[0m copying xformers/components/simplicial_embedding.py -> build/lib.linux-x86_64-cpython-37/xformers/components\n",
      "  \u001b[31m   \u001b[0m creating build/lib.linux-x86_64-cpython-37/xformers/factory\n",
      "  \u001b[31m   \u001b[0m copying xformers/factory/__init__.py -> build/lib.linux-x86_64-cpython-37/xformers/factory\n",
      "  \u001b[31m   \u001b[0m copying xformers/factory/block_configs.py -> build/lib.linux-x86_64-cpython-37/xformers/factory\n",
      "  \u001b[31m   \u001b[0m copying xformers/factory/block_factory.py -> build/lib.linux-x86_64-cpython-37/xformers/factory\n",
      "  \u001b[31m   \u001b[0m copying xformers/factory/hydra_helper.py -> build/lib.linux-x86_64-cpython-37/xformers/factory\n",
      "  \u001b[31m   \u001b[0m copying xformers/factory/model_factory.py -> build/lib.linux-x86_64-cpython-37/xformers/factory\n",
      "  \u001b[31m   \u001b[0m copying xformers/factory/weight_init.py -> build/lib.linux-x86_64-cpython-37/xformers/factory\n",
      "  \u001b[31m   \u001b[0m creating build/lib.linux-x86_64-cpython-37/xformers/helpers\n",
      "  \u001b[31m   \u001b[0m copying xformers/helpers/__init__.py -> build/lib.linux-x86_64-cpython-37/xformers/helpers\n",
      "  \u001b[31m   \u001b[0m copying xformers/helpers/hierarchical_configs.py -> build/lib.linux-x86_64-cpython-37/xformers/helpers\n",
      "  \u001b[31m   \u001b[0m copying xformers/helpers/test_utils.py -> build/lib.linux-x86_64-cpython-37/xformers/helpers\n",
      "  \u001b[31m   \u001b[0m copying xformers/helpers/timm_sparse_attention.py -> build/lib.linux-x86_64-cpython-37/xformers/helpers\n",
      "  \u001b[31m   \u001b[0m creating build/lib.linux-x86_64-cpython-37/xformers/ops\n",
      "  \u001b[31m   \u001b[0m copying xformers/ops/__init__.py -> build/lib.linux-x86_64-cpython-37/xformers/ops\n",
      "  \u001b[31m   \u001b[0m copying xformers/ops/common.py -> build/lib.linux-x86_64-cpython-37/xformers/ops\n",
      "  \u001b[31m   \u001b[0m copying xformers/ops/indexing.py -> build/lib.linux-x86_64-cpython-37/xformers/ops\n",
      "  \u001b[31m   \u001b[0m copying xformers/ops/swiglu_op.py -> build/lib.linux-x86_64-cpython-37/xformers/ops\n",
      "  \u001b[31m   \u001b[0m copying xformers/ops/unbind.py -> build/lib.linux-x86_64-cpython-37/xformers/ops\n",
      "  \u001b[31m   \u001b[0m creating build/lib.linux-x86_64-cpython-37/xformers/profiler\n",
      "  \u001b[31m   \u001b[0m copying xformers/profiler/__init__.py -> build/lib.linux-x86_64-cpython-37/xformers/profiler\n",
      "  \u001b[31m   \u001b[0m copying xformers/profiler/api.py -> build/lib.linux-x86_64-cpython-37/xformers/profiler\n",
      "  \u001b[31m   \u001b[0m copying xformers/profiler/device_limits.py -> build/lib.linux-x86_64-cpython-37/xformers/profiler\n",
      "  \u001b[31m   \u001b[0m copying xformers/profiler/profiler.py -> build/lib.linux-x86_64-cpython-37/xformers/profiler\n",
      "  \u001b[31m   \u001b[0m copying xformers/profiler/slow_ops_profiler.py -> build/lib.linux-x86_64-cpython-37/xformers/profiler\n",
      "  \u001b[31m   \u001b[0m creating build/lib.linux-x86_64-cpython-37/xformers/sparse\n",
      "  \u001b[31m   \u001b[0m copying xformers/sparse/__init__.py -> build/lib.linux-x86_64-cpython-37/xformers/sparse\n",
      "  \u001b[31m   \u001b[0m copying xformers/sparse/_csr_ops.py -> build/lib.linux-x86_64-cpython-37/xformers/sparse\n",
      "  \u001b[31m   \u001b[0m copying xformers/sparse/blocksparse_tensor.py -> build/lib.linux-x86_64-cpython-37/xformers/sparse\n",
      "  \u001b[31m   \u001b[0m copying xformers/sparse/csr_tensor.py -> build/lib.linux-x86_64-cpython-37/xformers/sparse\n",
      "  \u001b[31m   \u001b[0m copying xformers/sparse/utils.py -> build/lib.linux-x86_64-cpython-37/xformers/sparse\n",
      "  \u001b[31m   \u001b[0m creating build/lib.linux-x86_64-cpython-37/xformers/triton\n",
      "  \u001b[31m   \u001b[0m copying xformers/triton/__init__.py -> build/lib.linux-x86_64-cpython-37/xformers/triton\n",
      "  \u001b[31m   \u001b[0m copying xformers/triton/dropout.py -> build/lib.linux-x86_64-cpython-37/xformers/triton\n",
      "  \u001b[31m   \u001b[0m copying xformers/triton/fused_linear_layer.py -> build/lib.linux-x86_64-cpython-37/xformers/triton\n",
      "  \u001b[31m   \u001b[0m copying xformers/triton/k_activations.py -> build/lib.linux-x86_64-cpython-37/xformers/triton\n",
      "  \u001b[31m   \u001b[0m copying xformers/triton/k_dropout.py -> build/lib.linux-x86_64-cpython-37/xformers/triton\n",
      "  \u001b[31m   \u001b[0m copying xformers/triton/k_fused_matmul_bw.py -> build/lib.linux-x86_64-cpython-37/xformers/triton\n",
      "  \u001b[31m   \u001b[0m copying xformers/triton/k_fused_matmul_fw.py -> build/lib.linux-x86_64-cpython-37/xformers/triton\n",
      "  \u001b[31m   \u001b[0m copying xformers/triton/k_layer_norm.py -> build/lib.linux-x86_64-cpython-37/xformers/triton\n",
      "  \u001b[31m   \u001b[0m copying xformers/triton/k_softmax.py -> build/lib.linux-x86_64-cpython-37/xformers/triton\n",
      "  \u001b[31m   \u001b[0m copying xformers/triton/k_sum.py -> build/lib.linux-x86_64-cpython-37/xformers/triton\n",
      "  \u001b[31m   \u001b[0m copying xformers/triton/layer_norm.py -> build/lib.linux-x86_64-cpython-37/xformers/triton\n",
      "  \u001b[31m   \u001b[0m copying xformers/triton/softmax.py -> build/lib.linux-x86_64-cpython-37/xformers/triton\n",
      "  \u001b[31m   \u001b[0m copying xformers/triton/sum_strided.py -> build/lib.linux-x86_64-cpython-37/xformers/triton\n",
      "  \u001b[31m   \u001b[0m copying xformers/triton/utils.py -> build/lib.linux-x86_64-cpython-37/xformers/triton\n",
      "  \u001b[31m   \u001b[0m creating build/lib.linux-x86_64-cpython-37/xformers/_flash_attn\n",
      "  \u001b[31m   \u001b[0m copying xformers/_flash_attn/__init__.py -> build/lib.linux-x86_64-cpython-37/xformers/_flash_attn\n",
      "  \u001b[31m   \u001b[0m copying xformers/_flash_attn/bert_padding.py -> build/lib.linux-x86_64-cpython-37/xformers/_flash_attn\n",
      "  \u001b[31m   \u001b[0m copying xformers/_flash_attn/flash_attention.py -> build/lib.linux-x86_64-cpython-37/xformers/_flash_attn\n",
      "  \u001b[31m   \u001b[0m copying xformers/_flash_attn/flash_attn_interface.py -> build/lib.linux-x86_64-cpython-37/xformers/_flash_attn\n",
      "  \u001b[31m   \u001b[0m copying xformers/_flash_attn/flash_attn_triton.py -> build/lib.linux-x86_64-cpython-37/xformers/_flash_attn\n",
      "  \u001b[31m   \u001b[0m copying xformers/_flash_attn/flash_attn_triton_og.py -> build/lib.linux-x86_64-cpython-37/xformers/_flash_attn\n",
      "  \u001b[31m   \u001b[0m copying xformers/_flash_attn/flash_blocksparse_attention.py -> build/lib.linux-x86_64-cpython-37/xformers/_flash_attn\n",
      "  \u001b[31m   \u001b[0m copying xformers/_flash_attn/flash_blocksparse_attn_interface.py -> build/lib.linux-x86_64-cpython-37/xformers/_flash_attn\n",
      "  \u001b[31m   \u001b[0m copying xformers/_flash_attn/fused_softmax.py -> build/lib.linux-x86_64-cpython-37/xformers/_flash_attn\n",
      "  \u001b[31m   \u001b[0m creating build/lib.linux-x86_64-cpython-37/xformers/benchmarks/LRA\n",
      "  \u001b[31m   \u001b[0m copying xformers/benchmarks/LRA/__init__.py -> build/lib.linux-x86_64-cpython-37/xformers/benchmarks/LRA\n",
      "  \u001b[31m   \u001b[0m copying xformers/benchmarks/LRA/batch_fetch_results.py -> build/lib.linux-x86_64-cpython-37/xformers/benchmarks/LRA\n",
      "  \u001b[31m   \u001b[0m copying xformers/benchmarks/LRA/batch_submit.py -> build/lib.linux-x86_64-cpython-37/xformers/benchmarks/LRA\n",
      "  \u001b[31m   \u001b[0m copying xformers/benchmarks/LRA/run_grid_search.py -> build/lib.linux-x86_64-cpython-37/xformers/benchmarks/LRA\n",
      "  \u001b[31m   \u001b[0m copying xformers/benchmarks/LRA/run_tasks.py -> build/lib.linux-x86_64-cpython-37/xformers/benchmarks/LRA\n",
      "  \u001b[31m   \u001b[0m copying xformers/benchmarks/LRA/run_with_submitit.py -> build/lib.linux-x86_64-cpython-37/xformers/benchmarks/LRA\n",
      "  \u001b[31m   \u001b[0m creating build/lib.linux-x86_64-cpython-37/xformers/benchmarks/LRA/code\n",
      "  \u001b[31m   \u001b[0m copying xformers/benchmarks/LRA/code/__init__.py -> build/lib.linux-x86_64-cpython-37/xformers/benchmarks/LRA/code\n",
      "  \u001b[31m   \u001b[0m copying xformers/benchmarks/LRA/code/dataset.py -> build/lib.linux-x86_64-cpython-37/xformers/benchmarks/LRA/code\n",
      "  \u001b[31m   \u001b[0m copying xformers/benchmarks/LRA/code/model_wrapper.py -> build/lib.linux-x86_64-cpython-37/xformers/benchmarks/LRA/code\n",
      "  \u001b[31m   \u001b[0m creating build/lib.linux-x86_64-cpython-37/xformers/components/attention\n",
      "  \u001b[31m   \u001b[0m copying xformers/components/attention/__init__.py -> build/lib.linux-x86_64-cpython-37/xformers/components/attention\n",
      "  \u001b[31m   \u001b[0m copying xformers/components/attention/_sputnik_sparse.py -> build/lib.linux-x86_64-cpython-37/xformers/components/attention\n",
      "  \u001b[31m   \u001b[0m copying xformers/components/attention/attention_mask.py -> build/lib.linux-x86_64-cpython-37/xformers/components/attention\n",
      "  \u001b[31m   \u001b[0m copying xformers/components/attention/attention_patterns.py -> build/lib.linux-x86_64-cpython-37/xformers/components/attention\n",
      "  \u001b[31m   \u001b[0m copying xformers/components/attention/base.py -> build/lib.linux-x86_64-cpython-37/xformers/components/attention\n",
      "  \u001b[31m   \u001b[0m copying xformers/components/attention/blocksparse.py -> build/lib.linux-x86_64-cpython-37/xformers/components/attention\n",
      "  \u001b[31m   \u001b[0m copying xformers/components/attention/compositional.py -> build/lib.linux-x86_64-cpython-37/xformers/components/attention\n",
      "  \u001b[31m   \u001b[0m copying xformers/components/attention/core.py -> build/lib.linux-x86_64-cpython-37/xformers/components/attention\n",
      "  \u001b[31m   \u001b[0m copying xformers/components/attention/favor.py -> build/lib.linux-x86_64-cpython-37/xformers/components/attention\n",
      "  \u001b[31m   \u001b[0m copying xformers/components/attention/fourier_mix.py -> build/lib.linux-x86_64-cpython-37/xformers/components/attention\n",
      "  \u001b[31m   \u001b[0m copying xformers/components/attention/global_tokens.py -> build/lib.linux-x86_64-cpython-37/xformers/components/attention\n",
      "  \u001b[31m   \u001b[0m copying xformers/components/attention/lambda_layer.py -> build/lib.linux-x86_64-cpython-37/xformers/components/attention\n",
      "  \u001b[31m   \u001b[0m copying xformers/components/attention/linformer.py -> build/lib.linux-x86_64-cpython-37/xformers/components/attention\n",
      "  \u001b[31m   \u001b[0m copying xformers/components/attention/local.py -> build/lib.linux-x86_64-cpython-37/xformers/components/attention\n",
      "  \u001b[31m   \u001b[0m copying xformers/components/attention/nystrom.py -> build/lib.linux-x86_64-cpython-37/xformers/components/attention\n",
      "  \u001b[31m   \u001b[0m copying xformers/components/attention/ortho.py -> build/lib.linux-x86_64-cpython-37/xformers/components/attention\n",
      "  \u001b[31m   \u001b[0m copying xformers/components/attention/pooling.py -> build/lib.linux-x86_64-cpython-37/xformers/components/attention\n",
      "  \u001b[31m   \u001b[0m copying xformers/components/attention/random.py -> build/lib.linux-x86_64-cpython-37/xformers/components/attention\n",
      "  \u001b[31m   \u001b[0m copying xformers/components/attention/scaled_dot_product.py -> build/lib.linux-x86_64-cpython-37/xformers/components/attention\n",
      "  \u001b[31m   \u001b[0m copying xformers/components/attention/sparsity_config.py -> build/lib.linux-x86_64-cpython-37/xformers/components/attention\n",
      "  \u001b[31m   \u001b[0m copying xformers/components/attention/utils.py -> build/lib.linux-x86_64-cpython-37/xformers/components/attention\n",
      "  \u001b[31m   \u001b[0m copying xformers/components/attention/visual.py -> build/lib.linux-x86_64-cpython-37/xformers/components/attention\n",
      "  \u001b[31m   \u001b[0m creating build/lib.linux-x86_64-cpython-37/xformers/components/feedforward\n",
      "  \u001b[31m   \u001b[0m copying xformers/components/feedforward/__init__.py -> build/lib.linux-x86_64-cpython-37/xformers/components/feedforward\n",
      "  \u001b[31m   \u001b[0m copying xformers/components/feedforward/base.py -> build/lib.linux-x86_64-cpython-37/xformers/components/feedforward\n",
      "  \u001b[31m   \u001b[0m copying xformers/components/feedforward/conv_mlp.py -> build/lib.linux-x86_64-cpython-37/xformers/components/feedforward\n",
      "  \u001b[31m   \u001b[0m copying xformers/components/feedforward/fused_mlp.py -> build/lib.linux-x86_64-cpython-37/xformers/components/feedforward\n",
      "  \u001b[31m   \u001b[0m copying xformers/components/feedforward/mixture_of_experts.py -> build/lib.linux-x86_64-cpython-37/xformers/components/feedforward\n",
      "  \u001b[31m   \u001b[0m copying xformers/components/feedforward/mlp.py -> build/lib.linux-x86_64-cpython-37/xformers/components/feedforward\n",
      "  \u001b[31m   \u001b[0m creating build/lib.linux-x86_64-cpython-37/xformers/components/nvfuser\n",
      "  \u001b[31m   \u001b[0m copying xformers/components/nvfuser/__init__.py -> build/lib.linux-x86_64-cpython-37/xformers/components/nvfuser\n",
      "  \u001b[31m   \u001b[0m copying xformers/components/nvfuser/bias_act_dropout.py -> build/lib.linux-x86_64-cpython-37/xformers/components/nvfuser\n",
      "  \u001b[31m   \u001b[0m copying xformers/components/nvfuser/bias_dropout_res.py -> build/lib.linux-x86_64-cpython-37/xformers/components/nvfuser\n",
      "  \u001b[31m   \u001b[0m copying xformers/components/nvfuser/bias_dropout_res_layernorm.py -> build/lib.linux-x86_64-cpython-37/xformers/components/nvfuser\n",
      "  \u001b[31m   \u001b[0m copying xformers/components/nvfuser/utils.py -> build/lib.linux-x86_64-cpython-37/xformers/components/nvfuser\n",
      "  \u001b[31m   \u001b[0m creating build/lib.linux-x86_64-cpython-37/xformers/components/positional_embedding\n",
      "  \u001b[31m   \u001b[0m copying xformers/components/positional_embedding/__init__.py -> build/lib.linux-x86_64-cpython-37/xformers/components/positional_embedding\n",
      "  \u001b[31m   \u001b[0m copying xformers/components/positional_embedding/base.py -> build/lib.linux-x86_64-cpython-37/xformers/components/positional_embedding\n",
      "  \u001b[31m   \u001b[0m copying xformers/components/positional_embedding/param.py -> build/lib.linux-x86_64-cpython-37/xformers/components/positional_embedding\n",
      "  \u001b[31m   \u001b[0m copying xformers/components/positional_embedding/rotary.py -> build/lib.linux-x86_64-cpython-37/xformers/components/positional_embedding\n",
      "  \u001b[31m   \u001b[0m copying xformers/components/positional_embedding/sine.py -> build/lib.linux-x86_64-cpython-37/xformers/components/positional_embedding\n",
      "  \u001b[31m   \u001b[0m copying xformers/components/positional_embedding/vocab.py -> build/lib.linux-x86_64-cpython-37/xformers/components/positional_embedding\n",
      "  \u001b[31m   \u001b[0m creating build/lib.linux-x86_64-cpython-37/xformers/components/attention/feature_maps\n",
      "  \u001b[31m   \u001b[0m copying xformers/components/attention/feature_maps/__init__.py -> build/lib.linux-x86_64-cpython-37/xformers/components/attention/feature_maps\n",
      "  \u001b[31m   \u001b[0m copying xformers/components/attention/feature_maps/base.py -> build/lib.linux-x86_64-cpython-37/xformers/components/attention/feature_maps\n",
      "  \u001b[31m   \u001b[0m copying xformers/components/attention/feature_maps/softmax.py -> build/lib.linux-x86_64-cpython-37/xformers/components/attention/feature_maps\n",
      "  \u001b[31m   \u001b[0m creating build/lib.linux-x86_64-cpython-37/xformers/ops/fmha\n",
      "  \u001b[31m   \u001b[0m copying xformers/ops/fmha/__init__.py -> build/lib.linux-x86_64-cpython-37/xformers/ops/fmha\n",
      "  \u001b[31m   \u001b[0m copying xformers/ops/fmha/attn_bias.py -> build/lib.linux-x86_64-cpython-37/xformers/ops/fmha\n",
      "  \u001b[31m   \u001b[0m copying xformers/ops/fmha/common.py -> build/lib.linux-x86_64-cpython-37/xformers/ops/fmha\n",
      "  \u001b[31m   \u001b[0m copying xformers/ops/fmha/cutlass.py -> build/lib.linux-x86_64-cpython-37/xformers/ops/fmha\n",
      "  \u001b[31m   \u001b[0m copying xformers/ops/fmha/dispatch.py -> build/lib.linux-x86_64-cpython-37/xformers/ops/fmha\n",
      "  \u001b[31m   \u001b[0m copying xformers/ops/fmha/flash.py -> build/lib.linux-x86_64-cpython-37/xformers/ops/fmha\n",
      "  \u001b[31m   \u001b[0m copying xformers/ops/fmha/small_k.py -> build/lib.linux-x86_64-cpython-37/xformers/ops/fmha\n",
      "  \u001b[31m   \u001b[0m copying xformers/ops/fmha/triton.py -> build/lib.linux-x86_64-cpython-37/xformers/ops/fmha\n",
      "  \u001b[31m   \u001b[0m creating build/lib.linux-x86_64-cpython-37/xformers/_flash_attn/layers\n",
      "  \u001b[31m   \u001b[0m copying xformers/_flash_attn/layers/__init__.py -> build/lib.linux-x86_64-cpython-37/xformers/_flash_attn/layers\n",
      "  \u001b[31m   \u001b[0m copying xformers/_flash_attn/layers/patch_embed.py -> build/lib.linux-x86_64-cpython-37/xformers/_flash_attn/layers\n",
      "  \u001b[31m   \u001b[0m copying xformers/_flash_attn/layers/rotary.py -> build/lib.linux-x86_64-cpython-37/xformers/_flash_attn/layers\n",
      "  \u001b[31m   \u001b[0m creating build/lib.linux-x86_64-cpython-37/xformers/_flash_attn/losses\n",
      "  \u001b[31m   \u001b[0m copying xformers/_flash_attn/losses/__init__.py -> build/lib.linux-x86_64-cpython-37/xformers/_flash_attn/losses\n",
      "  \u001b[31m   \u001b[0m copying xformers/_flash_attn/losses/cross_entropy.py -> build/lib.linux-x86_64-cpython-37/xformers/_flash_attn/losses\n",
      "  \u001b[31m   \u001b[0m creating build/lib.linux-x86_64-cpython-37/xformers/_flash_attn/models\n",
      "  \u001b[31m   \u001b[0m copying xformers/_flash_attn/models/__init__.py -> build/lib.linux-x86_64-cpython-37/xformers/_flash_attn/models\n",
      "  \u001b[31m   \u001b[0m copying xformers/_flash_attn/models/bert.py -> build/lib.linux-x86_64-cpython-37/xformers/_flash_attn/models\n",
      "  \u001b[31m   \u001b[0m copying xformers/_flash_attn/models/gpt.py -> build/lib.linux-x86_64-cpython-37/xformers/_flash_attn/models\n",
      "  \u001b[31m   \u001b[0m copying xformers/_flash_attn/models/gpt_neox.py -> build/lib.linux-x86_64-cpython-37/xformers/_flash_attn/models\n",
      "  \u001b[31m   \u001b[0m copying xformers/_flash_attn/models/gptj.py -> build/lib.linux-x86_64-cpython-37/xformers/_flash_attn/models\n",
      "  \u001b[31m   \u001b[0m copying xformers/_flash_attn/models/llama.py -> build/lib.linux-x86_64-cpython-37/xformers/_flash_attn/models\n",
      "  \u001b[31m   \u001b[0m copying xformers/_flash_attn/models/opt.py -> build/lib.linux-x86_64-cpython-37/xformers/_flash_attn/models\n",
      "  \u001b[31m   \u001b[0m copying xformers/_flash_attn/models/vit.py -> build/lib.linux-x86_64-cpython-37/xformers/_flash_attn/models\n",
      "  \u001b[31m   \u001b[0m creating build/lib.linux-x86_64-cpython-37/xformers/_flash_attn/modules\n",
      "  \u001b[31m   \u001b[0m copying xformers/_flash_attn/modules/__init__.py -> build/lib.linux-x86_64-cpython-37/xformers/_flash_attn/modules\n",
      "  \u001b[31m   \u001b[0m copying xformers/_flash_attn/modules/block.py -> build/lib.linux-x86_64-cpython-37/xformers/_flash_attn/modules\n",
      "  \u001b[31m   \u001b[0m copying xformers/_flash_attn/modules/embedding.py -> build/lib.linux-x86_64-cpython-37/xformers/_flash_attn/modules\n",
      "  \u001b[31m   \u001b[0m copying xformers/_flash_attn/modules/mha.py -> build/lib.linux-x86_64-cpython-37/xformers/_flash_attn/modules\n",
      "  \u001b[31m   \u001b[0m copying xformers/_flash_attn/modules/mlp.py -> build/lib.linux-x86_64-cpython-37/xformers/_flash_attn/modules\n",
      "  \u001b[31m   \u001b[0m creating build/lib.linux-x86_64-cpython-37/xformers/_flash_attn/ops\n",
      "  \u001b[31m   \u001b[0m copying xformers/_flash_attn/ops/__init__.py -> build/lib.linux-x86_64-cpython-37/xformers/_flash_attn/ops\n",
      "  \u001b[31m   \u001b[0m copying xformers/_flash_attn/ops/activations.py -> build/lib.linux-x86_64-cpython-37/xformers/_flash_attn/ops\n",
      "  \u001b[31m   \u001b[0m copying xformers/_flash_attn/ops/fused_dense.py -> build/lib.linux-x86_64-cpython-37/xformers/_flash_attn/ops\n",
      "  \u001b[31m   \u001b[0m copying xformers/_flash_attn/ops/layer_norm.py -> build/lib.linux-x86_64-cpython-37/xformers/_flash_attn/ops\n",
      "  \u001b[31m   \u001b[0m copying xformers/_flash_attn/ops/rms_norm.py -> build/lib.linux-x86_64-cpython-37/xformers/_flash_attn/ops\n",
      "  \u001b[31m   \u001b[0m creating build/lib.linux-x86_64-cpython-37/xformers/_flash_attn/utils\n",
      "  \u001b[31m   \u001b[0m copying xformers/_flash_attn/utils/__init__.py -> build/lib.linux-x86_64-cpython-37/xformers/_flash_attn/utils\n",
      "  \u001b[31m   \u001b[0m copying xformers/_flash_attn/utils/benchmark.py -> build/lib.linux-x86_64-cpython-37/xformers/_flash_attn/utils\n",
      "  \u001b[31m   \u001b[0m copying xformers/_flash_attn/utils/distributed.py -> build/lib.linux-x86_64-cpython-37/xformers/_flash_attn/utils\n",
      "  \u001b[31m   \u001b[0m copying xformers/_flash_attn/utils/generation.py -> build/lib.linux-x86_64-cpython-37/xformers/_flash_attn/utils\n",
      "  \u001b[31m   \u001b[0m copying xformers/_flash_attn/utils/pretrained.py -> build/lib.linux-x86_64-cpython-37/xformers/_flash_attn/utils\n",
      "  \u001b[31m   \u001b[0m running build_ext\n",
      "  \u001b[31m   \u001b[0m Traceback (most recent call last):\n",
      "  \u001b[31m   \u001b[0m   File \"<string>\", line 36, in <module>\n",
      "  \u001b[31m   \u001b[0m   File \"<pip-setuptools-caller>\", line 34, in <module>\n",
      "  \u001b[31m   \u001b[0m   File \"/tmp/pip-install-dp7ay9ct/xformers_5e67842c89b5490589fd4c29f38f6d78/setup.py\", line 419, in <module>\n",
      "  \u001b[31m   \u001b[0m     zip_safe=False,\n",
      "  \u001b[31m   \u001b[0m   File \"/opt/conda/lib/python3.7/site-packages/setuptools/__init__.py\", line 87, in setup\n",
      "  \u001b[31m   \u001b[0m     return distutils.core.setup(**attrs)\n",
      "  \u001b[31m   \u001b[0m   File \"/opt/conda/lib/python3.7/site-packages/setuptools/_distutils/core.py\", line 185, in setup\n",
      "  \u001b[31m   \u001b[0m     return run_commands(dist)\n",
      "  \u001b[31m   \u001b[0m   File \"/opt/conda/lib/python3.7/site-packages/setuptools/_distutils/core.py\", line 201, in run_commands\n",
      "  \u001b[31m   \u001b[0m     dist.run_commands()\n",
      "  \u001b[31m   \u001b[0m   File \"/opt/conda/lib/python3.7/site-packages/setuptools/_distutils/dist.py\", line 968, in run_commands\n",
      "  \u001b[31m   \u001b[0m     self.run_command(cmd)\n",
      "  \u001b[31m   \u001b[0m   File \"/opt/conda/lib/python3.7/site-packages/setuptools/dist.py\", line 1217, in run_command\n",
      "  \u001b[31m   \u001b[0m     super().run_command(command)\n",
      "  \u001b[31m   \u001b[0m   File \"/opt/conda/lib/python3.7/site-packages/setuptools/_distutils/dist.py\", line 987, in run_command\n",
      "  \u001b[31m   \u001b[0m     cmd_obj.run()\n",
      "  \u001b[31m   \u001b[0m   File \"/opt/conda/lib/python3.7/site-packages/wheel/bdist_wheel.py\", line 343, in run\n",
      "  \u001b[31m   \u001b[0m     self.run_command(\"build\")\n",
      "  \u001b[31m   \u001b[0m   File \"/opt/conda/lib/python3.7/site-packages/setuptools/_distutils/cmd.py\", line 319, in run_command\n",
      "  \u001b[31m   \u001b[0m     self.distribution.run_command(command)\n",
      "  \u001b[31m   \u001b[0m   File \"/opt/conda/lib/python3.7/site-packages/setuptools/dist.py\", line 1217, in run_command\n",
      "  \u001b[31m   \u001b[0m     super().run_command(command)\n",
      "  \u001b[31m   \u001b[0m   File \"/opt/conda/lib/python3.7/site-packages/setuptools/_distutils/dist.py\", line 987, in run_command\n",
      "  \u001b[31m   \u001b[0m     cmd_obj.run()\n",
      "  \u001b[31m   \u001b[0m   File \"/opt/conda/lib/python3.7/site-packages/setuptools/_distutils/command/build.py\", line 132, in run\n",
      "  \u001b[31m   \u001b[0m     self.run_command(cmd_name)\n",
      "  \u001b[31m   \u001b[0m   File \"/opt/conda/lib/python3.7/site-packages/setuptools/_distutils/cmd.py\", line 319, in run_command\n",
      "  \u001b[31m   \u001b[0m     self.distribution.run_command(command)\n",
      "  \u001b[31m   \u001b[0m   File \"/opt/conda/lib/python3.7/site-packages/setuptools/dist.py\", line 1217, in run_command\n",
      "  \u001b[31m   \u001b[0m     super().run_command(command)\n",
      "  \u001b[31m   \u001b[0m   File \"/opt/conda/lib/python3.7/site-packages/setuptools/_distutils/dist.py\", line 987, in run_command\n",
      "  \u001b[31m   \u001b[0m     cmd_obj.run()\n",
      "  \u001b[31m   \u001b[0m   File \"/opt/conda/lib/python3.7/site-packages/setuptools/command/build_ext.py\", line 84, in run\n",
      "  \u001b[31m   \u001b[0m     _build_ext.run(self)\n",
      "  \u001b[31m   \u001b[0m   File \"/opt/conda/lib/python3.7/site-packages/Cython/Distutils/old_build_ext.py\", line 186, in run\n",
      "  \u001b[31m   \u001b[0m     _build_ext.build_ext.run(self)\n",
      "  \u001b[31m   \u001b[0m   File \"/opt/conda/lib/python3.7/site-packages/setuptools/_distutils/command/build_ext.py\", line 346, in run\n",
      "  \u001b[31m   \u001b[0m     self.build_extensions()\n",
      "  \u001b[31m   \u001b[0m   File \"/tmp/pip-install-dp7ay9ct/xformers_5e67842c89b5490589fd4c29f38f6d78/setup.py\", line 332, in build_extensions\n",
      "  \u001b[31m   \u001b[0m     super().build_extensions()\n",
      "  \u001b[31m   \u001b[0m   File \"/opt/conda/lib/python3.7/site-packages/torch/utils/cpp_extension.py\", line 485, in build_extensions\n",
      "  \u001b[31m   \u001b[0m     compiler_name, compiler_version = self._check_abi()\n",
      "  \u001b[31m   \u001b[0m   File \"/opt/conda/lib/python3.7/site-packages/torch/utils/cpp_extension.py\", line 869, in _check_abi\n",
      "  \u001b[31m   \u001b[0m     _, version = get_compiler_abi_compatibility_and_version(compiler)\n",
      "  \u001b[31m   \u001b[0m   File \"/opt/conda/lib/python3.7/site-packages/torch/utils/cpp_extension.py\", line 336, in get_compiler_abi_compatibility_and_version\n",
      "  \u001b[31m   \u001b[0m     if not check_compiler_ok_for_platform(compiler):\n",
      "  \u001b[31m   \u001b[0m   File \"/opt/conda/lib/python3.7/site-packages/torch/utils/cpp_extension.py\", line 290, in check_compiler_ok_for_platform\n",
      "  \u001b[31m   \u001b[0m     which = subprocess.check_output(['which', compiler], stderr=subprocess.STDOUT)\n",
      "  \u001b[31m   \u001b[0m   File \"/opt/conda/lib/python3.7/subprocess.py\", line 411, in check_output\n",
      "  \u001b[31m   \u001b[0m     **kwargs).stdout\n",
      "  \u001b[31m   \u001b[0m   File \"/opt/conda/lib/python3.7/subprocess.py\", line 512, in run\n",
      "  \u001b[31m   \u001b[0m     output=stdout, stderr=stderr)\n",
      "  \u001b[31m   \u001b[0m subprocess.CalledProcessError: Command '['which', 'g++']' returned non-zero exit status 1.\n",
      "  \u001b[31m   \u001b[0m \u001b[31m[end of output]\u001b[0m\n",
      "  \n",
      "  \u001b[1;35mnote\u001b[0m: This error originates from a subprocess, and is likely not a problem with pip.\n",
      "\u001b[31m  ERROR: Failed building wheel for xformers\u001b[0m\u001b[31m\n",
      "\u001b[0m\u001b[?25h  Running setup.py clean for xformers\n",
      "Failed to build xformers\n",
      "\u001b[31mERROR: Could not build wheels for xformers, which is required to install pyproject.toml-based projects\u001b[0m\u001b[31m\n",
      "\u001b[0m"
     ]
    }
   ],
   "source": [
    "!pip install xformers"
   ]
  },
  {
   "cell_type": "code",
   "execution_count": 4,
   "id": "4e6eae72-b854-4bc4-a50a-303f59918803",
   "metadata": {
    "tags": []
   },
   "outputs": [
    {
     "name": "stdout",
     "output_type": "stream",
     "text": [
      "Requirement already satisfied: transformers[torch] in /opt/conda/lib/python3.7/site-packages (4.30.2)\n",
      "Requirement already satisfied: filelock in /opt/conda/lib/python3.7/site-packages (from transformers[torch]) (3.0.12)\n",
      "Requirement already satisfied: huggingface-hub<1.0,>=0.14.1 in /opt/conda/lib/python3.7/site-packages (from transformers[torch]) (0.15.1)\n",
      "Requirement already satisfied: numpy>=1.17 in /opt/conda/lib/python3.7/site-packages (from transformers[torch]) (1.21.6)\n",
      "Requirement already satisfied: packaging>=20.0 in /opt/conda/lib/python3.7/site-packages (from transformers[torch]) (23.1)\n",
      "Requirement already satisfied: pyyaml>=5.1 in /opt/conda/lib/python3.7/site-packages (from transformers[torch]) (6.0)\n",
      "Requirement already satisfied: regex!=2019.12.17 in /opt/conda/lib/python3.7/site-packages (from transformers[torch]) (2023.6.3)\n",
      "Requirement already satisfied: requests in /opt/conda/lib/python3.7/site-packages (from transformers[torch]) (2.31.0)\n",
      "Requirement already satisfied: tokenizers!=0.11.3,<0.14,>=0.11.1 in /opt/conda/lib/python3.7/site-packages (from transformers[torch]) (0.13.3)\n",
      "Requirement already satisfied: safetensors>=0.3.1 in /opt/conda/lib/python3.7/site-packages (from transformers[torch]) (0.3.1)\n",
      "Requirement already satisfied: tqdm>=4.27 in /opt/conda/lib/python3.7/site-packages (from transformers[torch]) (4.42.1)\n",
      "Requirement already satisfied: importlib-metadata in /opt/conda/lib/python3.7/site-packages (from transformers[torch]) (6.6.0)\n",
      "Requirement already satisfied: torch!=1.12.0,>=1.9 in /opt/conda/lib/python3.7/site-packages (from transformers[torch]) (1.13.1)\n",
      "Requirement already satisfied: accelerate>=0.20.2 in /opt/conda/lib/python3.7/site-packages (from transformers[torch]) (0.20.3)\n",
      "Requirement already satisfied: psutil in /opt/conda/lib/python3.7/site-packages (from accelerate>=0.20.2->transformers[torch]) (5.6.7)\n",
      "Requirement already satisfied: fsspec in /opt/conda/lib/python3.7/site-packages (from huggingface-hub<1.0,>=0.14.1->transformers[torch]) (2023.1.0)\n",
      "Requirement already satisfied: typing-extensions>=3.7.4.3 in /opt/conda/lib/python3.7/site-packages (from huggingface-hub<1.0,>=0.14.1->transformers[torch]) (4.6.3)\n",
      "Requirement already satisfied: nvidia-cuda-runtime-cu11==11.7.99 in /opt/conda/lib/python3.7/site-packages (from torch!=1.12.0,>=1.9->transformers[torch]) (11.7.99)\n",
      "Requirement already satisfied: nvidia-cudnn-cu11==8.5.0.96 in /opt/conda/lib/python3.7/site-packages (from torch!=1.12.0,>=1.9->transformers[torch]) (8.5.0.96)\n",
      "Requirement already satisfied: nvidia-cublas-cu11==11.10.3.66 in /opt/conda/lib/python3.7/site-packages (from torch!=1.12.0,>=1.9->transformers[torch]) (11.10.3.66)\n",
      "Requirement already satisfied: nvidia-cuda-nvrtc-cu11==11.7.99 in /opt/conda/lib/python3.7/site-packages (from torch!=1.12.0,>=1.9->transformers[torch]) (11.7.99)\n",
      "Requirement already satisfied: setuptools in /opt/conda/lib/python3.7/site-packages (from nvidia-cublas-cu11==11.10.3.66->torch!=1.12.0,>=1.9->transformers[torch]) (65.5.1)\n",
      "Requirement already satisfied: wheel in /opt/conda/lib/python3.7/site-packages (from nvidia-cublas-cu11==11.10.3.66->torch!=1.12.0,>=1.9->transformers[torch]) (0.40.0)\n",
      "Requirement already satisfied: zipp>=0.5 in /opt/conda/lib/python3.7/site-packages (from importlib-metadata->transformers[torch]) (2.2.0)\n",
      "Requirement already satisfied: charset-normalizer<4,>=2 in /opt/conda/lib/python3.7/site-packages (from requests->transformers[torch]) (2.0.4)\n",
      "Requirement already satisfied: idna<4,>=2.5 in /opt/conda/lib/python3.7/site-packages (from requests->transformers[torch]) (2.8)\n",
      "Requirement already satisfied: urllib3<3,>=1.21.1 in /opt/conda/lib/python3.7/site-packages (from requests->transformers[torch]) (1.26.16)\n",
      "Requirement already satisfied: certifi>=2017.4.17 in /opt/conda/lib/python3.7/site-packages (from requests->transformers[torch]) (2023.5.7)\n",
      "\u001b[33mWARNING: Running pip as the 'root' user can result in broken permissions and conflicting behaviour with the system package manager. It is recommended to use a virtual environment instead: https://pip.pypa.io/warnings/venv\u001b[0m\u001b[33m\n",
      "\u001b[0m"
     ]
    }
   ],
   "source": [
    "!pip install \"transformers[torch]\""
   ]
  },
  {
   "cell_type": "code",
   "execution_count": 5,
   "id": "c89f61ac-fe00-4497-a9e3-d230744b2239",
   "metadata": {
    "tags": []
   },
   "outputs": [
    {
     "name": "stdout",
     "output_type": "stream",
     "text": [
      "Requirement already satisfied: transformers[tf-cpu] in /opt/conda/lib/python3.7/site-packages (4.30.2)\n",
      "Requirement already satisfied: filelock in /opt/conda/lib/python3.7/site-packages (from transformers[tf-cpu]) (3.0.12)\n",
      "Requirement already satisfied: huggingface-hub<1.0,>=0.14.1 in /opt/conda/lib/python3.7/site-packages (from transformers[tf-cpu]) (0.15.1)\n",
      "Requirement already satisfied: numpy>=1.17 in /opt/conda/lib/python3.7/site-packages (from transformers[tf-cpu]) (1.21.6)\n",
      "Requirement already satisfied: packaging>=20.0 in /opt/conda/lib/python3.7/site-packages (from transformers[tf-cpu]) (23.1)\n",
      "Requirement already satisfied: pyyaml>=5.1 in /opt/conda/lib/python3.7/site-packages (from transformers[tf-cpu]) (6.0)\n",
      "Requirement already satisfied: regex!=2019.12.17 in /opt/conda/lib/python3.7/site-packages (from transformers[tf-cpu]) (2023.6.3)\n",
      "Requirement already satisfied: requests in /opt/conda/lib/python3.7/site-packages (from transformers[tf-cpu]) (2.31.0)\n",
      "Requirement already satisfied: tokenizers!=0.11.3,<0.14,>=0.11.1 in /opt/conda/lib/python3.7/site-packages (from transformers[tf-cpu]) (0.13.3)\n",
      "Requirement already satisfied: safetensors>=0.3.1 in /opt/conda/lib/python3.7/site-packages (from transformers[tf-cpu]) (0.3.1)\n",
      "Requirement already satisfied: tqdm>=4.27 in /opt/conda/lib/python3.7/site-packages (from transformers[tf-cpu]) (4.42.1)\n",
      "Requirement already satisfied: importlib-metadata in /opt/conda/lib/python3.7/site-packages (from transformers[tf-cpu]) (6.6.0)\n",
      "Requirement already satisfied: tensorflow-cpu<2.13,>=2.4 in /opt/conda/lib/python3.7/site-packages (from transformers[tf-cpu]) (2.11.0)\n",
      "Requirement already satisfied: onnxconverter-common in /opt/conda/lib/python3.7/site-packages (from transformers[tf-cpu]) (1.13.0)\n",
      "Requirement already satisfied: tf2onnx in /opt/conda/lib/python3.7/site-packages (from transformers[tf-cpu]) (1.14.0)\n",
      "Requirement already satisfied: tensorflow-text<2.13 in /opt/conda/lib/python3.7/site-packages (from transformers[tf-cpu]) (2.11.0)\n",
      "Requirement already satisfied: keras-nlp>=0.3.1 in /opt/conda/lib/python3.7/site-packages (from transformers[tf-cpu]) (0.3.1)\n",
      "Requirement already satisfied: fsspec in /opt/conda/lib/python3.7/site-packages (from huggingface-hub<1.0,>=0.14.1->transformers[tf-cpu]) (2023.1.0)\n",
      "Requirement already satisfied: typing-extensions>=3.7.4.3 in /opt/conda/lib/python3.7/site-packages (from huggingface-hub<1.0,>=0.14.1->transformers[tf-cpu]) (4.6.3)\n",
      "Requirement already satisfied: absl-py in /opt/conda/lib/python3.7/site-packages (from keras-nlp>=0.3.1->transformers[tf-cpu]) (1.4.0)\n",
      "Requirement already satisfied: tensorflow in /opt/conda/lib/python3.7/site-packages (from keras-nlp>=0.3.1->transformers[tf-cpu]) (2.11.0)\n",
      "Requirement already satisfied: astunparse>=1.6.0 in /opt/conda/lib/python3.7/site-packages (from tensorflow-cpu<2.13,>=2.4->transformers[tf-cpu]) (1.6.3)\n",
      "Requirement already satisfied: flatbuffers>=2.0 in /opt/conda/lib/python3.7/site-packages (from tensorflow-cpu<2.13,>=2.4->transformers[tf-cpu]) (2.0.7)\n",
      "Requirement already satisfied: gast<=0.4.0,>=0.2.1 in /opt/conda/lib/python3.7/site-packages (from tensorflow-cpu<2.13,>=2.4->transformers[tf-cpu]) (0.4.0)\n",
      "Requirement already satisfied: google-pasta>=0.1.1 in /opt/conda/lib/python3.7/site-packages (from tensorflow-cpu<2.13,>=2.4->transformers[tf-cpu]) (0.2.0)\n",
      "Requirement already satisfied: grpcio<2.0,>=1.24.3 in /opt/conda/lib/python3.7/site-packages (from tensorflow-cpu<2.13,>=2.4->transformers[tf-cpu]) (1.56.0)\n",
      "Requirement already satisfied: h5py>=2.9.0 in /opt/conda/lib/python3.7/site-packages (from tensorflow-cpu<2.13,>=2.4->transformers[tf-cpu]) (2.10.0)\n",
      "Requirement already satisfied: keras<2.12,>=2.11.0 in /opt/conda/lib/python3.7/site-packages (from tensorflow-cpu<2.13,>=2.4->transformers[tf-cpu]) (2.11.0)\n",
      "Requirement already satisfied: libclang>=13.0.0 in /opt/conda/lib/python3.7/site-packages (from tensorflow-cpu<2.13,>=2.4->transformers[tf-cpu]) (16.0.0)\n",
      "Requirement already satisfied: opt-einsum>=2.3.2 in /opt/conda/lib/python3.7/site-packages (from tensorflow-cpu<2.13,>=2.4->transformers[tf-cpu]) (3.3.0)\n",
      "Requirement already satisfied: protobuf<3.20,>=3.9.2 in /opt/conda/lib/python3.7/site-packages (from tensorflow-cpu<2.13,>=2.4->transformers[tf-cpu]) (3.19.6)\n",
      "Requirement already satisfied: setuptools in /opt/conda/lib/python3.7/site-packages (from tensorflow-cpu<2.13,>=2.4->transformers[tf-cpu]) (65.5.1)\n",
      "Requirement already satisfied: six>=1.12.0 in /opt/conda/lib/python3.7/site-packages (from tensorflow-cpu<2.13,>=2.4->transformers[tf-cpu]) (1.14.0)\n",
      "Requirement already satisfied: tensorboard<2.12,>=2.11 in /opt/conda/lib/python3.7/site-packages (from tensorflow-cpu<2.13,>=2.4->transformers[tf-cpu]) (2.11.2)\n",
      "Requirement already satisfied: tensorflow-estimator<2.12,>=2.11.0 in /opt/conda/lib/python3.7/site-packages (from tensorflow-cpu<2.13,>=2.4->transformers[tf-cpu]) (2.11.0)\n",
      "Requirement already satisfied: termcolor>=1.1.0 in /opt/conda/lib/python3.7/site-packages (from tensorflow-cpu<2.13,>=2.4->transformers[tf-cpu]) (2.3.0)\n",
      "Requirement already satisfied: wrapt>=1.11.0 in /opt/conda/lib/python3.7/site-packages (from tensorflow-cpu<2.13,>=2.4->transformers[tf-cpu]) (1.11.2)\n",
      "Requirement already satisfied: tensorflow-io-gcs-filesystem>=0.23.1 in /opt/conda/lib/python3.7/site-packages (from tensorflow-cpu<2.13,>=2.4->transformers[tf-cpu]) (0.32.0)\n",
      "Requirement already satisfied: tensorflow-hub>=0.8.0 in /opt/conda/lib/python3.7/site-packages (from tensorflow-text<2.13->transformers[tf-cpu]) (0.13.0)\n",
      "Requirement already satisfied: zipp>=0.5 in /opt/conda/lib/python3.7/site-packages (from importlib-metadata->transformers[tf-cpu]) (2.2.0)\n",
      "Requirement already satisfied: onnx in /opt/conda/lib/python3.7/site-packages (from onnxconverter-common->transformers[tf-cpu]) (1.12.0)\n",
      "Requirement already satisfied: charset-normalizer<4,>=2 in /opt/conda/lib/python3.7/site-packages (from requests->transformers[tf-cpu]) (2.0.4)\n",
      "Requirement already satisfied: idna<4,>=2.5 in /opt/conda/lib/python3.7/site-packages (from requests->transformers[tf-cpu]) (2.8)\n",
      "Requirement already satisfied: urllib3<3,>=1.21.1 in /opt/conda/lib/python3.7/site-packages (from requests->transformers[tf-cpu]) (1.26.16)\n",
      "Requirement already satisfied: certifi>=2017.4.17 in /opt/conda/lib/python3.7/site-packages (from requests->transformers[tf-cpu]) (2023.5.7)\n",
      "Requirement already satisfied: wheel<1.0,>=0.23.0 in /opt/conda/lib/python3.7/site-packages (from astunparse>=1.6.0->tensorflow-cpu<2.13,>=2.4->transformers[tf-cpu]) (0.40.0)\n",
      "Requirement already satisfied: google-auth<3,>=1.6.3 in /opt/conda/lib/python3.7/site-packages (from tensorboard<2.12,>=2.11->tensorflow-cpu<2.13,>=2.4->transformers[tf-cpu]) (2.20.0)\n",
      "Requirement already satisfied: google-auth-oauthlib<0.5,>=0.4.1 in /opt/conda/lib/python3.7/site-packages (from tensorboard<2.12,>=2.11->tensorflow-cpu<2.13,>=2.4->transformers[tf-cpu]) (0.4.6)\n",
      "Requirement already satisfied: markdown>=2.6.8 in /opt/conda/lib/python3.7/site-packages (from tensorboard<2.12,>=2.11->tensorflow-cpu<2.13,>=2.4->transformers[tf-cpu]) (3.4.3)\n",
      "Requirement already satisfied: tensorboard-data-server<0.7.0,>=0.6.0 in /opt/conda/lib/python3.7/site-packages (from tensorboard<2.12,>=2.11->tensorflow-cpu<2.13,>=2.4->transformers[tf-cpu]) (0.6.1)\n",
      "Requirement already satisfied: tensorboard-plugin-wit>=1.6.0 in /opt/conda/lib/python3.7/site-packages (from tensorboard<2.12,>=2.11->tensorflow-cpu<2.13,>=2.4->transformers[tf-cpu]) (1.8.1)\n",
      "Requirement already satisfied: werkzeug>=1.0.1 in /opt/conda/lib/python3.7/site-packages (from tensorboard<2.12,>=2.11->tensorflow-cpu<2.13,>=2.4->transformers[tf-cpu]) (2.2.3)\n",
      "Requirement already satisfied: cachetools<6.0,>=2.0.0 in /opt/conda/lib/python3.7/site-packages (from google-auth<3,>=1.6.3->tensorboard<2.12,>=2.11->tensorflow-cpu<2.13,>=2.4->transformers[tf-cpu]) (5.3.1)\n",
      "Requirement already satisfied: pyasn1-modules>=0.2.1 in /opt/conda/lib/python3.7/site-packages (from google-auth<3,>=1.6.3->tensorboard<2.12,>=2.11->tensorflow-cpu<2.13,>=2.4->transformers[tf-cpu]) (0.3.0)\n",
      "Requirement already satisfied: rsa<5,>=3.1.4 in /opt/conda/lib/python3.7/site-packages (from google-auth<3,>=1.6.3->tensorboard<2.12,>=2.11->tensorflow-cpu<2.13,>=2.4->transformers[tf-cpu]) (4.9)\n",
      "Requirement already satisfied: requests-oauthlib>=0.7.0 in /opt/conda/lib/python3.7/site-packages (from google-auth-oauthlib<0.5,>=0.4.1->tensorboard<2.12,>=2.11->tensorflow-cpu<2.13,>=2.4->transformers[tf-cpu]) (1.3.1)\n",
      "Requirement already satisfied: MarkupSafe>=2.1.1 in /opt/conda/lib/python3.7/site-packages (from werkzeug>=1.0.1->tensorboard<2.12,>=2.11->tensorflow-cpu<2.13,>=2.4->transformers[tf-cpu]) (2.1.3)\n",
      "Requirement already satisfied: pyasn1<0.6.0,>=0.4.6 in /opt/conda/lib/python3.7/site-packages (from pyasn1-modules>=0.2.1->google-auth<3,>=1.6.3->tensorboard<2.12,>=2.11->tensorflow-cpu<2.13,>=2.4->transformers[tf-cpu]) (0.5.0)\n",
      "Requirement already satisfied: oauthlib>=3.0.0 in /opt/conda/lib/python3.7/site-packages (from requests-oauthlib>=0.7.0->google-auth-oauthlib<0.5,>=0.4.1->tensorboard<2.12,>=2.11->tensorflow-cpu<2.13,>=2.4->transformers[tf-cpu]) (3.2.2)\n",
      "\u001b[33mWARNING: Running pip as the 'root' user can result in broken permissions and conflicting behaviour with the system package manager. It is recommended to use a virtual environment instead: https://pip.pypa.io/warnings/venv\u001b[0m\u001b[33m\n",
      "\u001b[0m"
     ]
    }
   ],
   "source": [
    "!pip install \"transformers[tf-cpu]\""
   ]
  },
  {
   "cell_type": "code",
   "execution_count": 6,
   "id": "7b4012cf-7140-4c45-ab6f-95ccb162a98e",
   "metadata": {
    "tags": []
   },
   "outputs": [
    {
     "name": "stdout",
     "output_type": "stream",
     "text": [
      "Requirement already satisfied: transformers in /opt/conda/lib/python3.7/site-packages (4.30.2)\n",
      "Requirement already satisfied: sentencepiece in /opt/conda/lib/python3.7/site-packages (0.1.99)\n",
      "Requirement already satisfied: filelock in /opt/conda/lib/python3.7/site-packages (from transformers) (3.0.12)\n",
      "Requirement already satisfied: huggingface-hub<1.0,>=0.14.1 in /opt/conda/lib/python3.7/site-packages (from transformers) (0.15.1)\n",
      "Requirement already satisfied: numpy>=1.17 in /opt/conda/lib/python3.7/site-packages (from transformers) (1.21.6)\n",
      "Requirement already satisfied: packaging>=20.0 in /opt/conda/lib/python3.7/site-packages (from transformers) (23.1)\n",
      "Requirement already satisfied: pyyaml>=5.1 in /opt/conda/lib/python3.7/site-packages (from transformers) (6.0)\n",
      "Requirement already satisfied: regex!=2019.12.17 in /opt/conda/lib/python3.7/site-packages (from transformers) (2023.6.3)\n",
      "Requirement already satisfied: requests in /opt/conda/lib/python3.7/site-packages (from transformers) (2.31.0)\n",
      "Requirement already satisfied: tokenizers!=0.11.3,<0.14,>=0.11.1 in /opt/conda/lib/python3.7/site-packages (from transformers) (0.13.3)\n",
      "Requirement already satisfied: safetensors>=0.3.1 in /opt/conda/lib/python3.7/site-packages (from transformers) (0.3.1)\n",
      "Requirement already satisfied: tqdm>=4.27 in /opt/conda/lib/python3.7/site-packages (from transformers) (4.42.1)\n",
      "Requirement already satisfied: importlib-metadata in /opt/conda/lib/python3.7/site-packages (from transformers) (6.6.0)\n",
      "Requirement already satisfied: protobuf<=3.20.3 in /opt/conda/lib/python3.7/site-packages (from transformers) (3.19.6)\n",
      "Requirement already satisfied: fsspec in /opt/conda/lib/python3.7/site-packages (from huggingface-hub<1.0,>=0.14.1->transformers) (2023.1.0)\n",
      "Requirement already satisfied: typing-extensions>=3.7.4.3 in /opt/conda/lib/python3.7/site-packages (from huggingface-hub<1.0,>=0.14.1->transformers) (4.6.3)\n",
      "Requirement already satisfied: zipp>=0.5 in /opt/conda/lib/python3.7/site-packages (from importlib-metadata->transformers) (2.2.0)\n",
      "Requirement already satisfied: charset-normalizer<4,>=2 in /opt/conda/lib/python3.7/site-packages (from requests->transformers) (2.0.4)\n",
      "Requirement already satisfied: idna<4,>=2.5 in /opt/conda/lib/python3.7/site-packages (from requests->transformers) (2.8)\n",
      "Requirement already satisfied: urllib3<3,>=1.21.1 in /opt/conda/lib/python3.7/site-packages (from requests->transformers) (1.26.16)\n",
      "Requirement already satisfied: certifi>=2017.4.17 in /opt/conda/lib/python3.7/site-packages (from requests->transformers) (2023.5.7)\n",
      "\u001b[33mWARNING: Running pip as the 'root' user can result in broken permissions and conflicting behaviour with the system package manager. It is recommended to use a virtual environment instead: https://pip.pypa.io/warnings/venv\u001b[0m\u001b[33m\n",
      "\u001b[0m"
     ]
    }
   ],
   "source": [
    "!pip install transformers sentencepiece transformers[sentencepiece]"
   ]
  },
  {
   "cell_type": "code",
   "execution_count": 7,
   "id": "3e8aad51-81cf-43a1-84ac-ecade89ba87a",
   "metadata": {
    "tags": []
   },
   "outputs": [],
   "source": [
    "try:\n",
    "    import sagemaker_datawrangler\n",
    "except ImportError:\n",
    "    !pip install --upgrade sagemaker-datawrangler\n",
    "    import sagemaker_datawrangler\n"
   ]
  },
  {
   "cell_type": "code",
   "execution_count": 8,
   "id": "08f75bd5-041a-4541-b762-5d6df5d4376f",
   "metadata": {
    "tags": []
   },
   "outputs": [],
   "source": [
    "from transformers import pipeline\n",
    "import numpy as np\n",
    "import pandas as pd\n",
    "import seaborn as sn\n",
    "import matplotlib.pyplot as plt\n",
    "\n",
    "from sklearn.metrics import roc_auc_score, f1_score, confusion_matrix\n",
    "from sklearn.model_selection import train_test_split\n",
    "import torch"
   ]
  },
  {
   "cell_type": "markdown",
   "id": "0d15c0a4-97c6-4b88-9d23-a8aeba028905",
   "metadata": {},
   "source": [
    "# Task 1: Sentiment Analisys with Huggin Face Transformers"
   ]
  },
  {
   "cell_type": "code",
   "execution_count": 9,
   "id": "9f7ccc14-2f8a-4f16-9d85-8f431bf36329",
   "metadata": {
    "tags": []
   },
   "outputs": [
    {
     "name": "stderr",
     "output_type": "stream",
     "text": [
      "No model was supplied, defaulted to distilbert-base-uncased-finetuned-sst-2-english and revision af0f99b (https://huggingface.co/distilbert-base-uncased-finetuned-sst-2-english).\n",
      "Using a pipeline without specifying a model name and revision in production is not recommended.\n"
     ]
    }
   ],
   "source": [
    "classifier = pipeline(\"sentiment-analysis\")"
   ]
  },
  {
   "cell_type": "code",
   "execution_count": 10,
   "id": "5b097c36-5ee7-4b83-b058-2b52b5b07664",
   "metadata": {
    "tags": []
   },
   "outputs": [
    {
     "data": {
      "text/plain": [
       "[{'label': 'POSITIVE', 'score': 0.9998806715011597},\n",
       " {'label': 'NEGATIVE', 'score': 0.9997954964637756}]"
      ]
     },
     "execution_count": 10,
     "metadata": {},
     "output_type": "execute_result"
    }
   ],
   "source": [
    "classifier([\"This movie is great\", \"This is not a great movie\"])"
   ]
  },
  {
   "cell_type": "code",
   "execution_count": 11,
   "id": "018bda34-5f60-4806-a308-2ab535b2df47",
   "metadata": {
    "tags": []
   },
   "outputs": [
    {
     "data": {
      "text/plain": [
       "[{'label': 'NEGATIVE', 'score': 0.9493795037269592}]"
      ]
     },
     "execution_count": 11,
     "metadata": {},
     "output_type": "execute_result"
    }
   ],
   "source": [
    "classifier([\"Esta pelicula no fue para nada buena\"])"
   ]
  },
  {
   "cell_type": "code",
   "execution_count": 16,
   "id": "e52b6e95-14f9-4e01-98ce-4f96be596870",
   "metadata": {},
   "outputs": [],
   "source": [
    "df_ = pd.read_csv('AirlineTweets.csv')"
   ]
  },
  {
   "cell_type": "code",
   "execution_count": 19,
   "id": "d917d9bf-1408-4f8f-9206-a12aba728d62",
   "metadata": {
    "tags": []
   },
   "outputs": [
    {
     "data": {
      "application/vnd.jupyter.widget-view+json": {
       "model_id": "42ae79b92f0f4d3d973e82154c4f6216"
      },
      "text/plain": [
       "                 tweet_id airline_sentiment  airline_sentiment_confidence  \\\n",
       "0      570306133677760513           neutral                        1.0000   \n",
       "1      570301130888122368          positive                        0.3486   \n",
       "2      570301083672813571           neutral                        0.6837   \n",
       "3      570301031407624196          negative                        1.0000   \n",
       "4      570300817074462722          negative                        1.0000   \n",
       "...                   ...               ...                           ...   \n",
       "14635  569587686496825344          positive                        0.3487   \n",
       "14636  569587371693355008          negative                        1.0000   \n",
       "14637  569587242672398336           neutral                        1.0000   \n",
       "14638  569587188687634433          negative                        1.0000   \n",
       "14639  569587140490866689           neutral                        0.6771   \n",
       "\n",
       "               negativereason  negativereason_confidence         airline  \\\n",
       "0                         NaN                        NaN  Virgin America   \n",
       "1                         NaN                     0.0000  Virgin America   \n",
       "2                         NaN                        NaN  Virgin America   \n",
       "3                  Bad Flight                     0.7033  Virgin America   \n",
       "4                  Can't Tell                     1.0000  Virgin America   \n",
       "...                       ...                        ...             ...   \n",
       "14635                     NaN                     0.0000        American   \n",
       "14636  Customer Service Issue                     1.0000        American   \n",
       "14637                     NaN                        NaN        American   \n",
       "14638  Customer Service Issue                     0.6659        American   \n",
       "14639                     NaN                     0.0000        American   \n",
       "\n",
       "      airline_sentiment_gold             name negativereason_gold  \\\n",
       "0                        NaN          cairdin                 NaN   \n",
       "1                        NaN         jnardino                 NaN   \n",
       "2                        NaN       yvonnalynn                 NaN   \n",
       "3                        NaN         jnardino                 NaN   \n",
       "4                        NaN         jnardino                 NaN   \n",
       "...                      ...              ...                 ...   \n",
       "14635                    NaN  KristenReenders                 NaN   \n",
       "14636                    NaN         itsropes                 NaN   \n",
       "14637                    NaN         sanyabun                 NaN   \n",
       "14638                    NaN       SraJackson                 NaN   \n",
       "14639                    NaN        daviddtwu                 NaN   \n",
       "\n",
       "       retweet_count                                               text  \\\n",
       "0                  0                @VirginAmerica What @dhepburn said.   \n",
       "1                  0  @VirginAmerica plus you've added commercials t...   \n",
       "2                  0  @VirginAmerica I didn't today... Must mean I n...   \n",
       "3                  0  @VirginAmerica it's really aggressive to blast...   \n",
       "4                  0  @VirginAmerica and it's a really big bad thing...   \n",
       "...              ...                                                ...   \n",
       "14635              0  @AmericanAir thank you we got on a different f...   \n",
       "14636              0  @AmericanAir leaving over 20 minutes Late Flig...   \n",
       "14637              0  @AmericanAir Please bring American Airlines to...   \n",
       "14638              0  @AmericanAir you have my money, you change my ...   \n",
       "14639              0  @AmericanAir we have 8 ppl so we need 2 know h...   \n",
       "\n",
       "      tweet_coord              tweet_created tweet_location  \\\n",
       "0             NaN  2015-02-24 11:35:52 -0800            NaN   \n",
       "1             NaN  2015-02-24 11:15:59 -0800            NaN   \n",
       "2             NaN  2015-02-24 11:15:48 -0800      Lets Play   \n",
       "3             NaN  2015-02-24 11:15:36 -0800            NaN   \n",
       "4             NaN  2015-02-24 11:14:45 -0800            NaN   \n",
       "...           ...                        ...            ...   \n",
       "14635         NaN  2015-02-22 12:01:01 -0800            NaN   \n",
       "14636         NaN  2015-02-22 11:59:46 -0800          Texas   \n",
       "14637         NaN  2015-02-22 11:59:15 -0800  Nigeria,lagos   \n",
       "14638         NaN  2015-02-22 11:59:02 -0800     New Jersey   \n",
       "14639         NaN  2015-02-22 11:58:51 -0800     dallas, TX   \n",
       "\n",
       "                    user_timezone  \n",
       "0      Eastern Time (US & Canada)  \n",
       "1      Pacific Time (US & Canada)  \n",
       "2      Central Time (US & Canada)  \n",
       "3      Pacific Time (US & Canada)  \n",
       "4      Pacific Time (US & Canada)  \n",
       "...                           ...  \n",
       "14635                         NaN  \n",
       "14636                         NaN  \n",
       "14637                         NaN  \n",
       "14638  Eastern Time (US & Canada)  \n",
       "14639                         NaN  \n",
       "\n",
       "[14640 rows x 15 columns]"
      ]
     },
     "metadata": {},
     "output_type": "display_data"
    }
   ],
   "source": [
    "display(df_)"
   ]
  },
  {
   "cell_type": "code",
   "execution_count": 21,
   "id": "aa93a8ed-732f-4503-9f04-92c81fa8ea5d",
   "metadata": {
    "tags": []
   },
   "outputs": [
    {
     "data": {
      "text/plain": [
       "Index(['tweet_id', 'airline_sentiment', 'airline_sentiment_confidence',\n",
       "       'negativereason', 'negativereason_confidence', 'airline',\n",
       "       'airline_sentiment_gold', 'name', 'negativereason_gold',\n",
       "       'retweet_count', 'text', 'tweet_coord', 'tweet_created',\n",
       "       'tweet_location', 'user_timezone'],\n",
       "      dtype='object')"
      ]
     },
     "execution_count": 21,
     "metadata": {},
     "output_type": "execute_result"
    }
   ],
   "source": [
    "df_.columns"
   ]
  },
  {
   "cell_type": "code",
   "execution_count": 22,
   "id": "7bf46fa7-2143-4899-b565-ce7f331c9ed9",
   "metadata": {
    "tags": []
   },
   "outputs": [],
   "source": [
    "df = df_[['airline_sentiment','text']].copy()"
   ]
  },
  {
   "cell_type": "code",
   "execution_count": 31,
   "id": "5e094ffd-5ab5-49e5-b608-d69b425a7cc3",
   "metadata": {
    "tags": []
   },
   "outputs": [
    {
     "data": {
      "text/plain": [
       "<matplotlib.axes._subplots.AxesSubplot at 0x7f6089f42c50>"
      ]
     },
     "execution_count": 31,
     "metadata": {},
     "output_type": "execute_result"
    },
    {
     "data": {
      "image/png": "[encoded data removed]",
      "text/plain": [
       "<Figure size 640x480 with 1 Axes>"
      ]
     },
     "metadata": {},
     "output_type": "display_data"
    }
   ],
   "source": [
    "%matplotlib inline\n",
    "df.airline_sentiment.value_counts().plot(kind='bar')"
   ]
  },
  {
   "cell_type": "code",
   "execution_count": 32,
   "id": "a2a19230-6584-428f-a438-a2631f5a87cb",
   "metadata": {
    "tags": []
   },
   "outputs": [
    {
     "data": {
      "application/vnd.jupyter.widget-view+json": {
       "model_id": "dd384b8008a640c29999bb35c749ab73"
      },
      "text/plain": [
       "      airline_sentiment                                               text\n",
       "1              positive  @VirginAmerica plus you've added commercials t...\n",
       "3              negative  @VirginAmerica it's really aggressive to blast...\n",
       "4              negative  @VirginAmerica and it's a really big bad thing...\n",
       "5              negative  @VirginAmerica seriously would pay $30 a fligh...\n",
       "6              positive  @VirginAmerica yes, nearly every time I fly VX...\n",
       "...                 ...                                                ...\n",
       "14633          negative  @AmericanAir my flight was Cancelled Flightled...\n",
       "14634          negative         @AmericanAir right on cue with the delays👌\n",
       "14635          positive  @AmericanAir thank you we got on a different f...\n",
       "14636          negative  @AmericanAir leaving over 20 minutes Late Flig...\n",
       "14638          negative  @AmericanAir you have my money, you change my ...\n",
       "\n",
       "[11541 rows x 2 columns]"
      ]
     },
     "metadata": {},
     "output_type": "display_data"
    }
   ],
   "source": [
    "df = df[df.airline_sentiment!= \"neutral\"].copy()\n",
    "df"
   ]
  },
  {
   "cell_type": "code",
   "execution_count": 35,
   "id": "35d3bd7d-4742-4074-94a9-ec531d1013ec",
   "metadata": {
    "tags": []
   },
   "outputs": [],
   "source": [
    "class_target_map = {'positive': 1, 'negative':0}\n",
    "df['target'] = df.airline_sentiment.map(class_target_map)"
   ]
  },
  {
   "cell_type": "code",
   "execution_count": 36,
   "id": "dec9510a-de7b-4170-b4fd-53df16f6bc96",
   "metadata": {
    "tags": []
   },
   "outputs": [
    {
     "data": {
      "application/vnd.jupyter.widget-view+json": {
       "model_id": "2f56a64f16a94680b19684ea16e17498"
      },
      "text/plain": [
       "      airline_sentiment                                               text  \\\n",
       "1              positive  @VirginAmerica plus you've added commercials t...   \n",
       "3              negative  @VirginAmerica it's really aggressive to blast...   \n",
       "4              negative  @VirginAmerica and it's a really big bad thing...   \n",
       "5              negative  @VirginAmerica seriously would pay $30 a fligh...   \n",
       "6              positive  @VirginAmerica yes, nearly every time I fly VX...   \n",
       "...                 ...                                                ...   \n",
       "14633          negative  @AmericanAir my flight was Cancelled Flightled...   \n",
       "14634          negative         @AmericanAir right on cue with the delays👌   \n",
       "14635          positive  @AmericanAir thank you we got on a different f...   \n",
       "14636          negative  @AmericanAir leaving over 20 minutes Late Flig...   \n",
       "14638          negative  @AmericanAir you have my money, you change my ...   \n",
       "\n",
       "       target  \n",
       "1           1  \n",
       "3           0  \n",
       "4           0  \n",
       "5           0  \n",
       "6           1  \n",
       "...       ...  \n",
       "14633       0  \n",
       "14634       0  \n",
       "14635       1  \n",
       "14636       0  \n",
       "14638       0  \n",
       "\n",
       "[11541 rows x 3 columns]"
      ]
     },
     "metadata": {},
     "output_type": "display_data"
    }
   ],
   "source": [
    "df"
   ]
  },
  {
   "cell_type": "code",
   "execution_count": 41,
   "id": "bf9b07a0-4893-4675-a202-d96dc8a0551c",
   "metadata": {
    "tags": []
   },
   "outputs": [
    {
     "data": {
      "text/plain": [
       "577"
      ]
     },
     "execution_count": 41,
     "metadata": {},
     "output_type": "execute_result"
    }
   ],
   "source": [
    "df_sample = df.sample(frac= 0.05)\n",
    "len(df_sample)"
   ]
  },
  {
   "cell_type": "code",
   "execution_count": 42,
   "id": "2bcbf6b9-de80-4fdf-97ec-eebd994f1ff7",
   "metadata": {
    "tags": []
   },
   "outputs": [],
   "source": [
    "texts = df_sample.text.to_list()"
   ]
  },
  {
   "cell_type": "code",
   "execution_count": 43,
   "id": "849f8a1f-cf13-4d37-9ff9-b24da43836b6",
   "metadata": {
    "tags": []
   },
   "outputs": [],
   "source": [
    "predictions = classifier(texts)"
   ]
  },
  {
   "cell_type": "code",
   "execution_count": 45,
   "id": "6032d670-47b8-4677-8bc8-32a7fbaf7718",
   "metadata": {
    "tags": []
   },
   "outputs": [
    {
     "data": {
      "text/plain": [
       "[{'label': 'POSITIVE', 'score': 0.9992371797561646},\n",
       " {'label': 'NEGATIVE', 'score': 0.9993276596069336},\n",
       " {'label': 'POSITIVE', 'score': 0.999567449092865},\n",
       " {'label': 'POSITIVE', 'score': 0.5126941204071045},\n",
       " {'label': 'NEGATIVE', 'score': 0.9995023012161255},\n",
       " {'label': 'POSITIVE', 'score': 0.987414538860321},\n",
       " {'label': 'NEGATIVE', 'score': 0.9988572597503662},\n",
       " {'label': 'NEGATIVE', 'score': 0.9996138215065002},\n",
       " {'label': 'NEGATIVE', 'score': 0.9997256398200989},\n",
       " {'label': 'NEGATIVE', 'score': 0.9998118281364441}]"
      ]
     },
     "execution_count": 45,
     "metadata": {},
     "output_type": "execute_result"
    }
   ],
   "source": [
    "predictions[:10]"
   ]
  },
  {
   "cell_type": "code",
   "execution_count": 48,
   "id": "59b1c613-fc74-4489-b34d-66a20b05259b",
   "metadata": {
    "tags": []
   },
   "outputs": [],
   "source": [
    "probabilities = [dict_['score'] if dict_['label'].startswith('P') else 1-dict_['score'] for dict_ in predictions]"
   ]
  },
  {
   "cell_type": "code",
   "execution_count": 46,
   "id": "1e6b6c7e-210d-481a-8a22-1923d27fefa8",
   "metadata": {
    "tags": []
   },
   "outputs": [],
   "source": [
    "bool_predictions = [1 if pr['label'].startswith('P') else 0 for pr in predictions]"
   ]
  },
  {
   "cell_type": "code",
   "execution_count": 50,
   "id": "f44f5966-6fa6-48c8-ac07-1360129c70ce",
   "metadata": {
    "tags": []
   },
   "outputs": [],
   "source": [
    "bool_predictions = np.array(bool_predictions)"
   ]
  },
  {
   "cell_type": "code",
   "execution_count": 54,
   "id": "e9102032-8212-4748-85d0-b972984db4b3",
   "metadata": {
    "tags": []
   },
   "outputs": [
    {
     "name": "stdout",
     "output_type": "stream",
     "text": [
      "acc: 0.8856152512998267\n"
     ]
    }
   ],
   "source": [
    "print('acc:', np.mean(df_sample.target ==bool_predictions))"
   ]
  },
  {
   "cell_type": "code",
   "execution_count": 55,
   "id": "124d12b1-9624-452e-bd28-a9cb312ae7c5",
   "metadata": {
    "tags": []
   },
   "outputs": [],
   "source": [
    "cm = confusion_matrix(df_sample.target, bool_predictions, normalize = 'true')"
   ]
  },
  {
   "cell_type": "code",
   "execution_count": 56,
   "id": "25c06e3c-d8ee-465a-9ea1-9519704204c4",
   "metadata": {
    "tags": []
   },
   "outputs": [
    {
     "data": {
      "text/plain": [
       "array([[0.90114943, 0.09885057],\n",
       "       [0.16197183, 0.83802817]])"
      ]
     },
     "execution_count": 56,
     "metadata": {},
     "output_type": "execute_result"
    }
   ],
   "source": [
    "cm"
   ]
  },
  {
   "cell_type": "code",
   "execution_count": 58,
   "id": "135d95e6-91c4-4fff-9da8-6be15d0671bd",
   "metadata": {
    "tags": []
   },
   "outputs": [],
   "source": [
    "def plot_cm(conf_matrix):\n",
    "    classes = ['negative', 'positive']\n",
    "    df_cm = pd.DataFrame(conf_matrix, index = classes, columns =classes)\n",
    "    ax = sn.heatmap(df_cm, annot =True, fmt ='g')\n",
    "    ax.set_xlabel(\"Predicted\")\n",
    "    ax.set_ylabel(\"Target\")"
   ]
  },
  {
   "cell_type": "code",
   "execution_count": 59,
   "id": "f619644a-c10d-486f-9740-f7031b6c6a4b",
   "metadata": {
    "tags": []
   },
   "outputs": [
    {
     "data": {
      "image/png": "[encoded data removed]",
      "text/plain": [
       "<Figure size 640x480 with 2 Axes>"
      ]
     },
     "metadata": {},
     "output_type": "display_data"
    }
   ],
   "source": [
    "plot_cm(cm)"
   ]
  },
  {
   "cell_type": "code",
   "execution_count": 60,
   "id": "2c08511a-f09b-4fd9-91f6-465c2de07b2b",
   "metadata": {
    "tags": []
   },
   "outputs": [
    {
     "data": {
      "text/plain": [
       "0.7828947368421053"
      ]
     },
     "execution_count": 60,
     "metadata": {},
     "output_type": "execute_result"
    }
   ],
   "source": [
    "f1_score(df_sample['target'], bool_predictions)"
   ]
  },
  {
   "cell_type": "code",
   "execution_count": 62,
   "id": "3404e062-acf4-4aa7-a6e8-258918b57f0e",
   "metadata": {
    "tags": []
   },
   "outputs": [
    {
     "data": {
      "text/plain": [
       "0.9223529411764706"
      ]
     },
     "execution_count": 62,
     "metadata": {},
     "output_type": "execute_result"
    }
   ],
   "source": [
    "f1_score(1- df_sample['target'], 1- bool_predictions)"
   ]
  },
  {
   "cell_type": "code",
   "execution_count": 63,
   "id": "cae66c84-1022-4e66-b3fb-f4256200081f",
   "metadata": {
    "tags": []
   },
   "outputs": [
    {
     "data": {
      "text/plain": [
       "0.9498947709243969"
      ]
     },
     "execution_count": 63,
     "metadata": {},
     "output_type": "execute_result"
    }
   ],
   "source": [
    "roc_auc_score(df_sample['target'], probabilities)"
   ]
  },
  {
   "cell_type": "code",
   "execution_count": 65,
   "id": "4acc2ecf-a063-4008-b54e-b2f58f984991",
   "metadata": {
    "tags": []
   },
   "outputs": [
    {
     "data": {
      "text/plain": [
       "0.9498947709243969"
      ]
     },
     "execution_count": 65,
     "metadata": {},
     "output_type": "execute_result"
    }
   ],
   "source": [
    "roc_auc_score(1- df_sample['target'], 1-np.array(probabilities))"
   ]
  },
  {
   "cell_type": "markdown",
   "id": "5001c7a6-1443-44be-ae11-08964597aada",
   "metadata": {},
   "source": [
    "# Task 2: Text Generation with Transformers"
   ]
  },
  {
   "cell_type": "code",
   "execution_count": 9,
   "id": "d41c43ec-e0e1-4516-92e5-ffdbeb695860",
   "metadata": {
    "tags": []
   },
   "outputs": [],
   "source": [
    "from transformers import pipeline, set_seed\n",
    "import textwrap\n",
    "from pprint import pprint"
   ]
  },
  {
   "cell_type": "code",
   "execution_count": 70,
   "id": "a24b1a30-55d3-4dc9-8443-b7e8f6b631d0",
   "metadata": {
    "collapsed": true,
    "jupyter": {
     "outputs_hidden": true
    },
    "tags": []
   },
   "outputs": [
    {
     "name": "stdout",
     "output_type": "stream",
     "text": [
      "Two roads diverged in a yellow wood,\n",
      "And sorry I could not travel both\n",
      "And be one traveler, long I stood\n",
      "And looked down one as far as I could\n",
      "To where it bent in the undergrowth; \n",
      "\n",
      "Then took the other, as just as fair,\n",
      "And having perhaps the better claim\n",
      "Because it was grassy and wanted wear,\n",
      "Though as for that the passing there\n",
      "Had worn them really about the same,\n",
      "\n",
      "And both that morning equally lay\n",
      "In leaves no step had trodden black.\n",
      "Oh, I kept the first for another day! \n",
      "Yet knowing how way leads on to way\n",
      "I doubted if I should ever come back.\n",
      "\n",
      "I shall be telling this with a sigh\n",
      "Somewhere ages and ages hence:\n",
      "Two roads diverged in a wood, and I,\n",
      "I took the one less traveled by,\n",
      "And that has made all the difference.\n",
      "\n",
      "Whose woods these are I think I know.\n",
      "His house is in the village, though; \n",
      "He will not see me stopping here\n",
      "To watch his woods fill up with snow.\n",
      "\n",
      "My little horse must think it queer\n",
      "To stop without a farmhouse near\n",
      "Between the woods and frozen lake\n",
      "The darkest evening of the year.\n",
      "\n",
      "He gives his harness bells a shake\n",
      "To ask if there is some mistake.\n",
      "The only other sound's the sweep\n",
      "Of easy wind and downy flake.\n",
      "\n",
      "The woods are lovely, dark and deep,\n",
      "But I have promises to keep,\n",
      "And miles to go before I sleep,\n",
      "And miles to go before I sleep. \n",
      "\n",
      "Some say the world will end in fire,\n",
      "Some say in ice.\n",
      "From what I've tasted of desire\n",
      "I hold with those who favor fire.\n",
      "But if it had to perish twice,\n",
      "I think I know enough of hate\n",
      "To say that for destruction ice\n",
      "Is also great\n",
      "And would suffice.\n",
      "\n",
      "Nature's first green is gold,\n",
      "Her hardest hue to hold.\n",
      "Her early leaf's a flower; \n",
      "But only so an hour.\n",
      "Then leaf subsides to leaf,\n",
      "So Eden sank to grief,\n",
      "So dawn goes down to day\n",
      "Nothing gold can stay.\n",
      "\n",
      "I have been one acquainted with the night.\n",
      "I have walked out in rain - and back in rain.\n",
      "I have outwalked the furthest city light.\n",
      "\n",
      "I have looked down the saddest city lane.\n",
      "I have passed by the watchman on his beat\n",
      "And dropped my eyes, unwilling to explain.\n",
      "\n",
      "I have stood still and stopped the sound of feet\n",
      "When far away an interrupted cry\n",
      "Came over houses from another street,\n",
      "\n",
      "But not to call me back or say good-bye; \n",
      "And further still at an unearthly height,\n",
      "One luminary clock against the sky\n",
      "\n",
      "Proclaimed the time was neither wrong nor right.\n",
      "I have been one acquainted with the night.\n",
      "\n",
      "When I go up through the mowing field,\n",
      "The headless aftermath,\n",
      "Smooth-laid like thatch with the heavy dew,\n",
      "Half closes the garden path.\n",
      "\n",
      "And when I come to the garden ground,\n",
      "The whir of sober birds\n",
      "Up from the tangle of withered weeds\n",
      "Is sadder than any words\n",
      "\n",
      "A tree beside the wall stands bare,\n",
      "But a leaf that lingered brown,\n",
      "Disturbed, I doubt not, by my thought,\n",
      "Comes softly rattling down.\n",
      "\n",
      "I end not far from my going forth\n",
      "By picking the faded blue\n",
      "Of the last remaining aster flower\n",
      "To carry again to you.\n",
      "\n",
      "A voice said, Look me in the stars\n",
      "And tell me truly, men of earth,\n",
      "If all the soul-and-body scars\n",
      "Were not too much to pay for birth.\n",
      "\n",
      "To think to know the country and now know\n",
      "The hillside on the day the sun lets go\n",
      "Ten million silver lizards out of snow!\n",
      "As often as I've seen it done before\n",
      "I can't pretend to tell the way it's done.\n",
      "It looks as if some magic of the sun\n",
      "Lifted the rug that bred them on the floor\n",
      "And the light breaking on them made them run.\n",
      "But if I though to stop the wet stampede,\n",
      "And caught one silver lizard by the tail,\n",
      "And put my foot on one without avail,\n",
      "And threw myself wet-elbowed and wet-kneed\n",
      "In front of twenty others' wriggling speed,- \n",
      "In the confusion of them all aglitter,\n",
      "And birds that joined in the excited fun\n",
      "By doubling and redoubling song and twitter,\n",
      "I have no doubt I'd end by holding none.\n",
      "\n",
      "It takes the moon for this. The sun's a wizard\n",
      "By all I tell; but so's the moon a witch.\n",
      "From the high west she makes a gentle cast\n",
      "And suddenly, without a jerk or twitch,\n",
      "She has her speel on every single lizard.\n",
      "I fancied when I looked at six o'clock\n",
      "The swarm still ran and scuttled just as fast.\n",
      "The moon was waiting for her chill effect.\n",
      "I looked at nine: the swarm was turned to rock\n",
      "In every lifelike posture of the swarm,\n",
      "Transfixed on mountain slopes almost erect.\n",
      "Across each other and side by side they lay.\n",
      "The spell that so could hold them as they were\n",
      "Was wrought through trees without a breath of storm\n",
      "To make a leaf, if there had been one, stir.\n",
      "One lizard at the end of every ray.\n",
      "The thought of my attempting such a stray! \n",
      "\n",
      "ONCE on the kind of day called \"weather breeder,\"\n",
      "When the heat slowly hazes and the sun\n",
      "By its own power seems to be undone,\n",
      "I was half boring through, half climbing through\n",
      "A swamp of cedar. Choked with oil of cedar\n",
      "And scurf of plants, and weary and over-heated,\n",
      "And sorry I ever left the road I knew,\n",
      "I paused and rested on a sort of hook\n",
      "That had me by the coat as good as seated,\n",
      "And since there was no other way to look,\n",
      "Looked up toward heaven, and there against the blue,\n",
      "Stood over me a resurrected tree,\n",
      "A tree that had been down and raised again—\n",
      "A barkless spectre. He had halted too,\n",
      "As if for fear of treading upon me.\n",
      "I saw the strange position of his hands—\n",
      "Up at his shoulders, dragging yellow strands\n",
      "Of wire with something in it from men to men.\n",
      "\"You here?\" I said. \"Where aren't you nowadays\n",
      "And what's the news you carry—if you know?\n",
      "And tell me where you're off for—Montreal?\n",
      "Me? I'm not off for anywhere at all.\n",
      "Sometimes I wander out of beaten ways\n",
      "Half looking for the orchid Calypso.\"\n",
      "\n",
      "Brown lived at such a lofty farm\n",
      "That everyone for miles could see\n",
      "His lantern when he did his chores\n",
      "In winter after half-past three.\n",
      "\n",
      "And many must have seen him make\n",
      "His wild descent from there one night,\n",
      "'Cross lots, 'cross walls, 'cross everything,\n",
      "Describing rings of lantern light.\n",
      "\n",
      "Between the house and barn the gale\n",
      "Got him by something he had on\n",
      "And blew him out on the icy crust\n",
      "That cased the world, and he was gone!\n",
      "\n",
      "Walls were all buried, trees were few:\n",
      "He saw no stay unless he stove\n",
      "A hole in somewhere with his heel.\n",
      "But though repeatedly he strove\n",
      "\n",
      "And stamped and said things to himself,\n",
      "And sometimes something seemed to yield,\n",
      "He gained no foothold, but pursued\n",
      "His journey down from field to field.\n",
      "\n",
      "Sometimes he came with arms outspread\n",
      "Like wings, revolving in the scene\n",
      "Upon his longer axis, and\n",
      "With no small dignity of mien.\n",
      "\n",
      "Faster or slower as he chanced,\n",
      "Sitting or standing as he chose,\n",
      "According as he feared to risk\n",
      "His neck, or thought to spare his clothes,\n",
      "\n",
      "He never let the lantern drop.\n",
      "And some exclaimed who saw afar\n",
      "The figures he described with it,\n",
      "\"I wonder what those signals are\n",
      "\n",
      "Brown makes at such an hour of night!\n",
      "He's celebrating something strange.\n",
      "I wonder if he's sold his farm,\n",
      "Or been made Master of the Grange.\"\n",
      "\n",
      "He reeled, he lurched, he bobbed, he checked;\n",
      "He fell and made the lantern rattle\n",
      "(But saved the light from going out.)\n",
      "So half-way down he fought the battle\n",
      "\n",
      "Incredulous of his own bad luck.\n",
      "And then becoming reconciled\n",
      "To everything, he gave it up\n",
      "And came down like a coasting child.\n",
      "\n",
      "\"Well—I—be—\" that was all he said,\n",
      "As standing in the river road,\n",
      "He looked back up the slippery slope\n",
      "(Two miles it was) to his abode.\n",
      "\n",
      "Sometimes as an authority\n",
      "On motor-cars, I'm asked if I\n",
      "Should say our stock was petered out,\n",
      "And this is my sincere reply:\n",
      "\n",
      "Yankees are what they always were.\n",
      "Don't think Brown ever gave up hope\n",
      "Of getting home again because\n",
      "He couldn't climb that slippery slope;\n",
      "\n",
      "Or even thought of standing there\n",
      "Until the January thaw\n",
      "Should take the polish off the crust.\n",
      "He bowed with grace to natural law,\n",
      "\n",
      "And then went round it on his feet,\n",
      "After the manner of our stock;\n",
      "Not much concerned for those to whom,\n",
      "At that particular time o'clock,\n",
      "\n",
      "It must have looked as if the course\n",
      "He steered was really straight away\n",
      "From that which he was headed for—\n",
      "Not much concerned for them, I say:\n",
      "\n",
      "No more so than became a man—\n",
      "And politician at odd seasons.\n",
      "I've kept Brown standing in the cold\n",
      "While I invested him with reasons;\n",
      "\n",
      "But now he snapped his eyes three times;\n",
      "Then shook his lantern, saying, \"Ile's\n",
      "'Bout out!\" and took the long way home\n",
      "By road, a matter of several miles.\n",
      "\n",
      "NOW that they've got it settled whose I be,\n",
      "I'm going to tell them something they won't like:\n",
      "They've got it settled wrong, and I can prove it.\n",
      "Flattered I must be to have two towns fighting\n",
      "To make a present of me to each other.\n",
      "They don't dispose me, either one of them,\n",
      "To spare them any trouble. Double trouble's\n",
      "Always the witch's motto anyway.\n",
      "I'll double theirs for both of them- you watch me.\n",
      "They'll find they've got the whole thing to do over,\n",
      "That is, if facts is what they want to go by.\n",
      "They set a lot (now don't they?) by a record\n",
      "Of Arthur Amy's having once been up\n",
      "For Hog Reeve in March Meeting here in Warren.\n",
      "I could have told them any time this twelvemonth\n",
      "The Arthur Amy I was married to\n",
      "Couldn't have been the one they say was up\n",
      "In Warren at March Meeting for the reason\n",
      "He wa'n't but fifteen at the time they say.\n",
      "The Arthur Amy I was married to\n",
      "voted the only times he ever voted,\n",
      "Which wasn't many, in the town of Wentworth.\n",
      "One of the times was when 'twas in the warrant\n",
      "To see if the town wanted to take over\n",
      "The tote road to our clearing where we lived.\n",
      "I'll tell you who'd remember- Heman Lapish.\n",
      "Their Arthur Amy was the father of mine.\n",
      "So now they've dragged it through the law courts once\n",
      "I guess they'd better drag it through again.\n",
      "Wentworth and Warren's both good towns to live in,\n",
      "Only I happen to prefer to live\n",
      "In Wentworth from now on; and when all's said,\n",
      "Right's right, and the temptation to do right\n",
      "When I can hurt someone by doing it\n",
      "Has always been too much for me, it has.\n",
      "I know of some folks that'd be set up\n",
      "At having in their town a noted witch:\n",
      "But most would have to think of the expense\n",
      "That even I would be. They ought to know\n",
      "That as a witch I'd often milk a bat\n",
      "And that'd be enough to last for days.\n",
      "It'd make my position stronger, I think,\n",
      "If I was to consent to give some sign\n",
      "To make it surer that I was a witch?\n",
      "It wa'n't no sign, I s'pose, when Mallice Huse\n",
      "Said that I took him out in his old age\n",
      "And rode all over everything on him\n",
      "Until I'd had him worn to skin and bones,\n",
      "And if I'd left him hitched unblanketed\n",
      "In front of one Town Hall, I'd left him hitched\n",
      "In front of every one in Grafton County.\n",
      "Some cried shame on me not to blanket him,\n",
      "The poor old man. It would have been all right\n",
      "If some one hadn't said to gnaw the posts\n",
      "He stood beside and leave his trade mark on them,\n",
      "So they could recognize them. Not a post\n",
      "That they could hear tell of was scarified.\n",
      "They made him keep on gnawing till he whined.\n",
      "Then that same smarty someone said to look- \n",
      "He'd bet Huse was a cribber and had gnawed\n",
      "The crib he slept in- and as sure's you're born\n",
      "They found he'd gnawed the four posts of his bed,\n",
      "All four of them to splinters. What did that prove?\n",
      "Not that he hadn't gnawed the hitching posts\n",
      "He said he had besides. Because a horse\n",
      "Gnaws in the stable ain't no proof to me\n",
      "He don't gnaw trees and posts and fences too.\n",
      "But everybody took it for proof.\n",
      "I was a strapping girl of twenty then.\n",
      "The smarty someone who spoiled everything\n",
      "Was Arthur Amy. You know who he was.\n",
      "That was the way he started courting me.\n",
      "He never said much after we were married,\n",
      "But I mistrusted he was none too proud\n",
      "Of having interfered in the Huse business.\n",
      "I guess he found he got more out of me\n",
      "By having me a witch. Or something happened\n",
      "To turn him round. He got to saying things\n",
      "To undo what he'd done and make it right,\n",
      "Like, 'No, she ain't come back from kiting yet.\n",
      "Last night was one of her nights out. She's kiting.\n",
      "She thinks when the wind makes a night of it\n",
      "She might as well herself.' But he liked best\n",
      "To let on he was plagued to death with me:\n",
      "If anyone had seen me coming home\n",
      "Over the ridgepole, 'stride of a broomstick,\n",
      "As often as he had in the tail of the night,\n",
      "He guessed they'd know what he had to put up with.\n",
      "Well, I showed Arthur Amy signs enough\n",
      "Off from the house as far as we could keep\n",
      "And from barn smells you can't wash out of ploughed ground\n",
      "With all the rain and snow of seven years;\n",
      "And I don't mean just skulls of Roger's Rangers\n",
      "On Moosilauke, but woman signs to man,\n",
      "Only bewitched so I would last him longer.\n",
      "Up where the trees grow short, the mosses tall,\n",
      "I made him gather me wet snow berries\n",
      "On slippery rocks beside a waterfall.\n",
      "I made him do it for me in the dark.\n",
      "And he liked everything I made him do.\n",
      "I hope if he is where he sees me now\n",
      "He's so far off he can't see what I've come to.\n",
      "You _can_ come down from everything to nothing.\n",
      "All is, if I'd a-known when I was young\n",
      "And full of it, that this would be the end,\n",
      "It doesn't seem as if I'd had the courage\n",
      "To make so free and kick up in folks' faces.\n",
      "I might have, but it doesn't seem as if.\n",
      "\n",
      "Old Davis owned a solid mica mountain\n",
      "In Dalton that would someday make his fortune.\n",
      "There'd been some Boston people out to see it:\n",
      "And experts said that deep down in the mountain\n",
      "The mica sheets were big as plate-glass windows.\n",
      "He'd like to take me there and show it to me.\n",
      "\n",
      "'I'll tell you what you show me. You remember\n",
      "You said you knew the place where once, on Kinsman,\n",
      "The early Mormons made a settlement\n",
      "And built a stone baptismal font outdoors-\n",
      "But Smith, or someone, called them off the mountain\n",
      "To go West to a worse fight with the desert.\n",
      "You said you'd seen the stone baptismal font.\n",
      "Well, take me there.'\n",
      "\n",
      "Someday I will.'\n",
      "\n",
      "'Today.'\n",
      "\n",
      "'Huh, that old bathtub, what is that to see?\n",
      "Let's talk about it.'\n",
      "\n",
      "'Let's go see the place.'\n",
      "\n",
      "'To shut you up I'll tell you what I'll do:\n",
      "I'll find that fountain if it takes all summer,\n",
      "And both of our united strengths, to do it.'\n",
      "\n",
      "'You've lost it, then?'\n",
      "\n",
      "'Not so but I can find it.\n",
      "No doubt it's grown up some to woods around it.\n",
      "The mountain may have shifted since I saw it\n",
      "In eighty-five.'\n",
      "\n",
      "'As long ago as that?'\n",
      "\n",
      "'If I remember rightly, it had sprung\n",
      "A leak and emptied then. And forty years\n",
      "Can do a good deal to bad masonry.\n",
      "You won't see any Mormon swimming in it.\n",
      "But you have said it, and we're off to find it.\n",
      "Old as I am, I'm going to let myself\n",
      "Be dragged by you all over everywhere- '\n",
      "'I thought you were a guide.'\n",
      "\n",
      "'I am a guide,\n",
      "And that's why I can't decently refuse you.'\n",
      "\n",
      "We made a day of it out of the world,\n",
      "Ascending to descend to reascend.\n",
      "The old man seriously took his bearings,\n",
      "And spoke his doubts in every open place.\n",
      "\n",
      "We came out on a look-off where we faced\n",
      "A cliff, and on the cliff a bottle painted,\n",
      "Or stained by vegetation from above,\n",
      "A likeness to surprise the thrilly tourist.\n",
      "\n",
      "'Well, if I haven't brought you to the fountain,\n",
      "At least I've brought you to the famous Bottle.'\n",
      "\n",
      "'I won't accept the substitute. It's empty.'\n",
      "\n",
      "'So's everything.'\n",
      "\n",
      "'I want my fountain.'\n",
      "\n",
      "'I guess you'd find the fountain just as empty.\n",
      "And anyway this tells me where I am.'\n",
      "\n",
      "'Hadn't you long suspected where you were?'\n",
      "\n",
      "'You mean miles from that Mormon settlement?\n",
      "Look here, you treat your guide with due respect\n",
      "If you don't want to spend the night outdoors.\n",
      "I vow we must be near the place from where\n",
      "The two converging slides, the avalanches,\n",
      "On Marshall, look like donkey's ears.\n",
      "We may as well see that and save the day.'\n",
      "\n",
      "'Don't donkey's ears suggest we shake our own?'\n",
      "\n",
      "'For God's sake, aren't you fond of viewing nature?\n",
      "You don't like nature. All you like is books.\n",
      "What signify a donkey's cars and bottle,\n",
      "However natural? Give you your books!\n",
      "Well then, right here is where I show you books.\n",
      "Come straight down off this mountain just as fast\n",
      "As we can fall and keep a-bouncing on our feet.\n",
      "It's hell for knees unless done hell-for-leather.'\n",
      "\n",
      "Be ready, I thought, for almost anything.\n",
      "\n",
      "We struck a road I didn't recognize,\n",
      "But welcomed for the chance to lave my shoes\n",
      "In dust once more. We followed this a mile,\n",
      "Perhaps, to where it ended at a house\n",
      "I didn't know was there. It was the kind\n",
      "To bring me to for broad-board paneling.\n",
      "I never saw so good a house deserted.\n",
      "\n",
      "'Excuse me if I ask you in a window\n",
      "That happens to be broken, Davis said.\n",
      "'The outside doors as yet have held against us.\n",
      "I want to introduce you to the people\n",
      "Who used to live here. They were Robinsons.\n",
      "You must have heard of Clara Robinson,\n",
      "The poetess who wrote the book of verses\n",
      "And had it published. It was all about\n",
      "The posies on her inner windowsill,\n",
      "And the birds on her outer windowsill,\n",
      "And how she tended both, or had them tended:\n",
      "She never tended anything herself.\n",
      "She was 'shut in' for life. She lived her whole\n",
      "Life long in bed, and wrote her things in bed.\n",
      "I'll show You how she had her sills extended\n",
      "To entertain the birds and hold the flowers.\n",
      "Our business first's up attic with her books.'\n",
      "\n",
      "We trod uncomfortably on crunching glass\n",
      "Through a house stripped of everything\n",
      "Except, it seemed, the poetess's poems.\n",
      "Books, I should say!- if books are what is needed.\n",
      "A whole edition in a packing case\n",
      "That, overflowing like a horn of plenty,\n",
      "Or like the poetess's heart of love,\n",
      "Had spilled them near the window, toward the light\n",
      "Where driven rain had wet and swollen them.\n",
      "Enough to stock a village library-\n",
      "Unfortunately all of one kind, though.\n",
      "They bad been brought home from some publisher\n",
      "And taken thus into the family.\n",
      "Boys and bad hunters had known what to do\n",
      "With stone and lead to unprotected glass:\n",
      "Shatter it inward on the unswept floors.\n",
      "How had the tender verse escaped their outrage?\n",
      "By being invisible for what it was,\n",
      "Or else by some remoteness that defied them\n",
      "To find out what to do to hurt a poem.\n",
      "Yet oh! the tempting flatness of a book,\n",
      "To send it sailing out the attic window\n",
      "Till it caught wind and, opening out its covers,\n",
      "Tried to improve on sailing like a tile\n",
      "By flying like a bird (silent in flight,\n",
      "But all the burden of its body song),\n",
      "Only to tumble like a stricken bird,\n",
      "And lie in stones and bushes unretrieved.\n",
      "Books were not thrown irreverently about.\n",
      "They simply lay where someone now and then,\n",
      "Having tried one, had dropped it at his feet\n",
      "And left it lying where it fell rejected.\n",
      "Here were all those the poetess's life\n",
      "Had been too short to sell or give away.\n",
      "\n",
      "'Take one,' Old Davis bade me graciously.\n",
      "\n",
      "'Why not take two or three?'\n",
      "\n",
      "'Take all you want.'\n",
      "Good-looking books like that.' He picked one fresh\n",
      "In virgin wrapper from deep in the box,\n",
      "And stroked it with a horny-handed kindness.\n",
      "He read in one and I read in another,\n",
      "Both either looking for or finding something.\n",
      "\n",
      "The attic wasps went missing by like bullets.\n",
      "\n",
      "I was soon satisfied for the time being.\n",
      "\n",
      "All the way home I kept remembering\n",
      "The small book in my pocket. It was there.\n",
      "The poetess had sighed, I knew, in heaven\n",
      "At having eased her heart of one more copy-\n",
      "Legitimately. My demand upon her,\n",
      "Though slight, was a demand. She felt the tug.\n",
      "In time she would be rid of all her books.\n",
      "\n",
      "I stay;\n",
      "But it isn't as if\n",
      "There wasn't always Hudson's Bay\n",
      "And the fur trade,\n",
      "A small skiff\n",
      "And a paddle blade.\n",
      "\n",
      "I can just see my tent pegged,\n",
      "And me on the floor,\n",
      "Cross-legged,\n",
      "And a trapper looking in at the door\n",
      "With furs to sell.\n",
      "\n",
      "His name's Joe,\n",
      "Alias John,\n",
      "And between what he doesn't know\n",
      "And won't tell\n",
      "About where Henry Hudson's gone,\n",
      "I can't say he's much help;\n",
      "But we get on.\n",
      "\n",
      "The seal yelp\n",
      "On an ice cake.\n",
      "It's not men by some mistake?\n",
      "No,\n",
      "There's not a soul\n",
      "For a windbreak\n",
      "Between me and the North Pole—\n",
      "\n",
      "Except always John-Joe,\n",
      "My French Indian Esquimaux,\n",
      "And he's off setting traps\n",
      "In one himself perhaps.\n",
      "\n",
      "Give a headshake\n",
      "Over so much bay\n",
      "Thrown away\n",
      "In snow and mist\n",
      "That doesn't exist,\n",
      "\n",
      "I was going to say,\n",
      "For God, man, or beast's sake,\n",
      "Yet does perhaps for all three.\n",
      "\n",
      "Don't ask Joe\n",
      "What it is to him.\n",
      "It's sometimes dim\n",
      "What it is to me,\n",
      "Unless it be\n",
      "It's the old captain's dark fate\n",
      "Who failed to find or force a strait\n",
      "In its two-thousand-mile coast;\n",
      "And his crew left him where be failed,\n",
      "And nothing came of all be sailed.\n",
      "\n",
      "It's to say, 'You and I—'\n",
      "To such a ghost—\n",
      "You and I\n",
      "Off here\n",
      "With the dead race of the Great Auk!'\n",
      "And, 'Better defeat almost,\n",
      "If seen clear,\n",
      "Than life's victories of doubt\n",
      "That need endless talk-talk\n",
      "To make them out.' \n",
      "\n",
      "I staid the night for shelter at a farm\n",
      "Behind the mountains, with a mother and son,\n",
      "Two old-believers. They did all the talking.\n",
      "\n",
      "MOTHER Folks think a witch who has familiar spirits\n",
      "She could call up to pass a winter evening,\n",
      "But won't, should be burned at the stake or something.\n",
      "Summoning spirits isn't 'Button, button,\n",
      "Who's got the button,' I would have them know.\n",
      "\n",
      "SON: Mother can make a common table rear\n",
      "And kick with two legs like an army mule.\n",
      "\n",
      "MOTHER: And when I've done it, what good have I\n",
      "done?\n",
      "Rather than tip a table for you, let me\n",
      "Tell you what Ralle the Sioux Control once told me.\n",
      "He said the dead had souls, but when I asked him\n",
      "How could that be - I thought the dead were souls,\n",
      "He broke my trance. Don't that make you suspicious\n",
      "That there's something the dead are keeping back?\n",
      "Yes, there's something the dead are keeping back.\n",
      "\n",
      "SON: You wouldn't want to tell him what we have\n",
      "Up attic, mother?\n",
      "\n",
      "MOTHER: Bones - a skeleton.\n",
      "\n",
      "SON: But the headboard of mother's bed is pushed\n",
      "Against the' attic door: the door is nailed.\n",
      "It's harmless. Mother hears it in the night\n",
      "Halting perplexed behind the barrier\n",
      "Of door and headboard. Where it wants to get\n",
      "Is back into the cellar where it came from.\n",
      "\n",
      "MOTHER: We'll never let them, will we, son! We'll\n",
      "never !\n",
      "\n",
      "SON: It left the cellar forty years ago\n",
      "And carried itself like a pile of dishes\n",
      "Up one flight from the cellar to the kitchen,\n",
      "Another from the kitchen to the bedroom,\n",
      "Another from the bedroom to the attic,\n",
      "Right past both father and mother, and neither stopped\n",
      "it.\n",
      "Father had gone upstairs; mother was downstairs.\n",
      "I was a baby: I don't know where I was.\n",
      "\n",
      "MOTHER: The only fault my husband found with me - \n",
      "I went to sleep before I went to bed,\n",
      "Especially in winter when the bed\n",
      "Might just as well be ice and the clothes snow.\n",
      "The night the bones came up the cellar-stairs\n",
      "Toffile had gone to bed alone and left me,\n",
      "But left an open door to cool the room off\n",
      "So as to sort of turn me out of it.\n",
      "I was just coming to myself enough\n",
      "To wonder where the cold was coming from,\n",
      "When I heard Toffile upstairs in the bedroom\n",
      "And thought I heard him downstairs in the cellar.\n",
      "The board we had laid down to walk dry-shod on\n",
      "When there was water in the cellar in spring\n",
      "Struck the hard cellar bottom. And then someone\n",
      "Began the stairs, two footsteps for each step,\n",
      "The way a man with one leg and a crutch,\n",
      "Or a little child, comes up. It wasn't Toffile:\n",
      "It wasn't anyone who could be there.\n",
      "The bulkhead double-doors were double-locked\n",
      "And swollen tight and buried under snow.\n",
      "The cellar windows were banked up with sawdust\n",
      "And swollen tight and buried under snow.\n",
      "It was the bones. I knew them - and good reason.\n",
      "My first impulse was to get to the knob\n",
      "And hold the door. But the bones didn't try\n",
      "The door; they halted helpless on the landing,\n",
      "Waiting for things to happen in their favour.'\n",
      "The faintest restless rustling ran all through them.\n",
      "I never could have done the thing I did\n",
      "If the wish hadn't been too strong in me\n",
      "To see how they were mounted for this walk.\n",
      "I had a vision of them put together\n",
      "Not like a man, but like a chandelier.\n",
      "So suddenly I flung the door wide on him.\n",
      "A moment he stood balancing with emotion,\n",
      "And all but lost himself. (A tongue of fire\n",
      "Flashed out and licked along his upper teeth.\n",
      "Smoke rolled inside the sockets of his eyes.)\n",
      "Then he came at me with one hand outstretched,\n",
      "The way he did in life once; but this time\n",
      "I struck the hand off brittle on the floor,\n",
      "And fell back from him on the floor myself.\n",
      "The finger-pieces slid in all directions.\n",
      "(Where did I see one of those pieces lately?\n",
      "Hand me my button-box- it must be there.)\n",
      "I sat up on the floor and shouted, 'Toffile,\n",
      "It's coming up to you.' It had its choice\n",
      "Of the door to the cellar or the hall.\n",
      "It took the hall door for the novelty,\n",
      "And set off briskly for so slow a thing,\n",
      "Stillgoing every which way in the joints, though,\n",
      "So that it looked like lightning or a scribble,\n",
      ">From the slap I had just now given its hand.\n",
      "I listened till it almost climbed the stairs\n",
      ">From the hall to the only finished bedroom,\n",
      "Before I got up to do anything;\n",
      "Then ran and shouted, 'Shut the bedroom door,\n",
      "Toffile, for my sake!' 'Company?' he said,\n",
      "'Don't make me get up; I'm too warm in bed.'\n",
      "So lying forward weakly on the handrail\n",
      "I pushed myself upstairs, and in the light\n",
      "(The kitchen had been dark) I had to own\n",
      "I could see nothing. 'Toffile, I don't see it.\n",
      "It's with us in the room though. It's the bones.'\n",
      "'What bones?' 'The cellar bones- out of the grave.'\n",
      "That made him throw his bare legs out of bed\n",
      "And sit up by me and take hold of me.\n",
      "I wanted to put out the light and see\n",
      "If I could see it, or else mow the room,\n",
      "With our arms at the level of our knees,\n",
      "And bring the chalk-pile down. 'I'll tell you what-\n",
      "It's looking for another door to try.\n",
      "The uncommonly deep snow has made him think\n",
      "Of his old song, The Wild Colonial Boy,\n",
      "He always used to sing along the tote-road.\n",
      "He's after an open door to get out-doors.\n",
      "Let's trap him with an open door up attic.'\n",
      "Toffile agreed to that, and sure enough,\n",
      "Almost the moment he was given an opening,\n",
      "The steps began to climb the attic stairs.\n",
      "I heard them. Toffile didn't seem to hear them.\n",
      "'Quick !' I slammed to the door and held the knob.\n",
      "'Toffile, get nails.' I made him nail the door shut,\n",
      "And push the headboard of the bed against it.\n",
      "Then we asked was there anything\n",
      "Up attic that we'd ever want again.\n",
      "The attic was less to us than the cellar.\n",
      "If the bones liked the attic, let them have it.\n",
      "Let them stay in the attic. When they sometimes\n",
      "Come down the stairs at night and stand perplexed\n",
      "Behind the door and headboard of the bed,\n",
      "Brushing their chalky skull with chalky fingers,\n",
      "With sounds like the dry rattling of a shutter,\n",
      "That's what I sit up in the dark to say-\n",
      "To no one any more since Toffile died.\n",
      "2o3 Let them stay in the attic since they went there.\n",
      "I promised Toffile to be cruel to them\n",
      "For helping them be cruel once to him.\n",
      "\n",
      "SON: We think they had a grave down in the cellar.\n",
      "\n",
      "MOTHER: We know they had a grave down in the cellar.\n",
      "\n",
      "SON: We never could find out whose bones they were.\n",
      "\n",
      "MOTHER: Yes, we could too, son. Tell the truth for once.\n",
      "They were a man's his father killed for me.\n",
      "I mean a man he killed instead of me.\n",
      "The least I could do was to help dig their grave.\n",
      "We were about it one night in the cellar.\n",
      "Son knows the story: but 'twas not for him\n",
      "To tell the truth, suppose the time had come.\n",
      "Son looks surprised to see me end a lie\n",
      "We'd kept all these years between ourselves\n",
      "So as to have it ready for outsiders.\n",
      "But to-night I don't care enough to lie-\n",
      "I don't remember why I ever cared.\n",
      "Toffile, if he were here, I don't believe\n",
      "Could tell you why he ever cared himself-\n",
      "\n",
      "She hadn't found the finger-bone she wanted\n",
      "Among the buttons poured out in her lap.\n",
      "I verified the name next morning: Toffile.\n",
      "The rural letter-box said Toffile Lajway.\n",
      "\n",
      "The west was getting out of gold,\n",
      "The breath of air had died of cold,\n",
      "When shoeing home across the white,\n",
      "I thought I saw a bird alight.\n",
      "\n",
      "In summer when I passed the place\n",
      "I had to stop and lift my face;\n",
      "A bird with an angelic gift\n",
      "Was singing in it sweet and swift.\n",
      "\n",
      "No bird was singing in it now.\n",
      "A single leaf was on a bough,\n",
      "And that was all there was to see\n",
      "In going twice around the tree.\n",
      "\n",
      "From my advantage on a hill\n",
      "I judged that such a crystal chill\n",
      "Was only adding frost to snow\n",
      "As gilt to gold that wouldn't show.\n",
      "\n",
      "A brush had left a crooked stroke\n",
      "Of what was either cloud or smoke\n",
      "From north to south across the blue;\n",
      "A piercing little star was through.\n",
      "\n",
      "A governor it was proclaimed this time, \n",
      "When all who would come seeking in New Hampshire \n",
      "Ancestral memories might come together. \n",
      "And those of the name Stark gathered in Bow, \n",
      "A rock-strewn town where farming has fallen off, \n",
      "And sprout-lands flourish where the axe has gone. \n",
      "Someone had literally run to earth \n",
      "In an old cellar hole in a by-road \n",
      "The origin of all the family there. \n",
      "Thence they were sprung, so numerous a tribe \n",
      "That now not all the houses left in town \n",
      "Made shift to shelter them without the help \n",
      "Of here and there a tent in grove and orchard. \n",
      "They were at Bow, but that was not enough: \n",
      "Nothing would do but they must fix a day \n",
      "To stand together on the crater's verge \n",
      "That turned them on the world, and try to fathom \n",
      "The past and get some strangeness out of it. \n",
      "But rain spoiled all. The day began uncertain, \n",
      "With clouds low trailing and moments of rain that misted. \n",
      "The young folk held some hope out to each other \n",
      "Till well toward noon when the storm settled down \n",
      "With a swish in the grass. 'What if the others \n",
      "Are there,' they said. 'It isn't going to rain.' \n",
      "Only one from a farm not far away \n",
      "Strolled thither, not expecting he would find \n",
      "Anyone else, but out of idleness. \n",
      "One, and one other, yes, for there were two. \n",
      "The second round the curving hillside road \n",
      "Was a girl; and she halted some way off \n",
      "To reconnoitre, and then made up her mind \n",
      "At least to pass by and see who he was, \n",
      "And perhaps hear some word about the weather. \n",
      "This was some Stark she didn't know. He nodded. \n",
      "'No fête to-day,' he said. \n",
      "'It looks that way.' \n",
      "She swept the heavens, turning on her heel. \n",
      "'I only idled down.' \n",
      "'I idled down.' \n",
      "Provision there had been for just such meeting \n",
      "Of stranger cousins, in a family tree \n",
      "Drawn on a sort of passport with the branch \n",
      "Of the one bearing it done in detail- \n",
      "Some zealous one's laborious device. \n",
      "She made a sudden movement toward her bodice, \n",
      "As one who clasps her heart. They laughed together. \n",
      "'Stark?' he inquired. 'No matter for the proof.' \n",
      "'Yes, Stark. And you?' \n",
      "'I'm Stark.' He drew his passport. \n",
      "'You know we might not be and still be cousins: \n",
      "The town is full of Chases, Lowes, and Baileys, \n",
      "All claiming some priority in Starkness. \n",
      "My mother was a Lane, yet might have married \n",
      "Anyone upon earth and still her children \n",
      "Would have been Starks, and doubtless here to-day.' \n",
      "'You riddle with your genealogy \n",
      "Like a Viola. I don't follow you.' \n",
      "'I only mean my mother was a Stark \n",
      "Several times over, and by marrying father \n",
      "No more than brought us back into the name.' \n",
      "'One ought not to be thrown into confusion \n",
      "By a plain statement of relationship, \n",
      "But I own what you say makes my head spin. \n",
      "You take my card- you seem so good at such things- \n",
      "And see if you can reckon our cousinship. \n",
      "Why not take seats here on the cellar wall \n",
      "And dangle feet among the raspberry vines?' \n",
      "'Under the shelter of the family tree.' \n",
      "'Just so- that ought to be enough protection.' \n",
      "'Not from the rain. I think it's going to rain.' \n",
      "'It's raining.' \n",
      "'No, it's misting; let's be fair. \n",
      "Does the rain seem to you to cool the eyes?' \n",
      "The situation was like this: the road \n",
      "Bowed outward on the mountain half-way up, \n",
      "And disappeared and ended not far off. \n",
      "No one went home that way. The only house \n",
      "Beyond where they were was a shattered seedpod. \n",
      "And below roared a brook hidden in trees, \n",
      "The sound of which was silence for the place. \n",
      "This he sat listening to till she gave judgment. \n",
      "'On father's side, it seems, we're- let me see- - ' \n",
      "'Don't be too technical.- You have three cards.' \n",
      "'Four cards, one yours, three mine, one for each branch \n",
      "Of the Stark family I'm a member of.' \n",
      "'D'you know a person so related to herself \n",
      "Is supposed to be mad.' \n",
      "'I may be mad.' \n",
      "'You look so, sitting out here in the rain \n",
      "Studying genealogy with me \n",
      "You never saw before. What will we come to \n",
      "With all this pride of ancestry, we Yankees? \n",
      "I think we're all mad. Tell me why we're here \n",
      "Drawn into town about this cellar hole \n",
      "Like wild geese on a lake before a storm? \n",
      "What do we see in such a hole, I wonder.' \n",
      "'The Indians had a myth of Chicamoztoc, \n",
      "Which means The Seven Caves that We Came out of. \n",
      "This is the pit from which we Starks were digged.' \n",
      "'You must be learned. That's what you see in it?' \n",
      "'And what do you see?' \n",
      "'Yes, what do I see? \n",
      "First let me look. I see raspberry vines- - ' \n",
      "'Oh, if you're going to use your eyes, just hear \n",
      "What I see. It's a little, little boy, \n",
      "As pale and dim as a match flame in the sun; \n",
      "He's groping in the cellar after jam, \n",
      "He thinks it's dark and it's flooded with daylight.' \n",
      "'He's nothing. Listen. When I lean like this \n",
      "I can make out old Grandsir Stark distinctly,- \n",
      "With his pipe in his mouth and his brown jug- \n",
      "Bless you, it isn't Grandsir Stark, it's Granny, \n",
      "But the pipe's there and smoking and the jug. \n",
      "She's after cider, the old girl, she's thirsty; \n",
      "Here's hoping she gets her drink and gets out safely.' \n",
      "'Tell me about her. Does she look like me?' \n",
      "'She should, shouldn't she, you're so many times \n",
      "Over descended from her. I believe \n",
      "She does look like you. Stay the way you are. \n",
      "The nose is just the same, and so's the chin- \n",
      "Making allowance, making due allowance.' \n",
      "'You poor, dear, great, great, great, great Granny!' \n",
      "'See that you get her greatness right. Don't stint her.' \n",
      "'Yes, it's important, though you think it isn't. \n",
      "I won't be teased. But see how wet I am.' \n",
      "'Yes, you must go; we can't stay here for ever. \n",
      "But wait until I give you a hand up. \n",
      "A bead of silver water more or less \n",
      "Strung on your hair won't hurt your summer looks. \n",
      "I wanted to try something with the noise \n",
      "That the brook raises in the empty valley. \n",
      "We have seen visions- now consult the voices. \n",
      "Something I must have learned riding in trains \n",
      "When I was young. I used the roar \n",
      "To set the voices speaking out of it, \n",
      "Speaking or singing, and the band-music playing. \n",
      "Perhaps you have the art of what I mean. \n",
      "I've never listened in among the sounds \n",
      "That a brook makes in such a wild descent. \n",
      "It ought to give a purer oracle.' \n",
      "'It's as you throw a picture on a screen: \n",
      "The meaning of it all is out of you; \n",
      "The voices give you what you wish to hear.' \n",
      "'Strangely, it's anything they wish to give.' \n",
      "'Then I don't know. It must be strange enough. \n",
      "I wonder if it's not your make-believe. \n",
      "What do you think you're like to hear to-day?' \n",
      "'From the sense of our having been together- \n",
      "But why take time for what I'm like to hear? \n",
      "I'll tell you what the voices really say. \n",
      "You will do very well right where you are \n",
      "A little longer. I mustn't feel too hurried, \n",
      "Or I can't give myself to hear the voices.' \n",
      "'Is this some trance you are withdrawing into?' \n",
      "'You must be very still; you mustn't talk.' \n",
      "'I'll hardly breathe.' \n",
      "'The voices seem to say- - ' \n",
      "'I'm waiting.' \n",
      "'Don't! The voices seem to say: \n",
      "Call her Nausicaa, the unafraid \n",
      "Of an acquaintance made adventurously.' \n",
      "'I let you say that- on consideration.' \n",
      "'I don't see very well how you can help it. \n",
      "You want the truth. I speak but by the voices. \n",
      "You see they know I haven't had your name, \n",
      "Though what a name should matter between us- - ' \n",
      "'I shall suspect- - ' \n",
      "'Be good. The voices say: \n",
      "Call her Nausicaa, and take a timber \n",
      "That you shall find lies in the cellar charred \n",
      "Among the raspberries, and hew and shape it \n",
      "For a door-sill or other corner piece \n",
      "In a new cottage on the ancient spot. \n",
      "The life is not yet all gone out of it. \n",
      "And come and make your summer dwelling here, \n",
      "And perhaps she will come, still unafraid, \n",
      "And sit before you in the open door \n",
      "With flowers in her lap until they fade, \n",
      "But not come in across the sacred sill- - ' \n",
      "'I wonder where your oracle is tending. \n",
      "You can see that there's something wrong with it, \n",
      "Or it would speak in dialect. Whose voice \n",
      "Does it purport to speak in? Not old Grandsir's \n",
      "Nor Granny's, surely. Call up one of them. \n",
      "They have best right to be heard in this place.' \n",
      "'You seem so partial to our great-grandmother \n",
      "(Nine times removed. Correct me if I err.) \n",
      "You will be likely to regard as sacred \n",
      "Anything she may say. But let me warn you, \n",
      "Folks in her day were given to plain speaking. \n",
      "You think you'd best tempt her at such a time?' \n",
      "'It rests with us always to cut her off.' \n",
      "'Well then, it's Granny speaking: 'I dunnow! \n",
      "Mebbe I'm wrong to take it as I do. \n",
      "There ain't no names quite like the old ones though, \n",
      "Nor never will be to my way of thinking. \n",
      "One mustn't bear too hard on the new comers, \n",
      "But there's a dite too many of them for comfort. \n",
      "I should feel easier if I could see \n",
      "More of the salt wherewith they're to be salted. \n",
      "Son, you do as you're told! You take the timber- \n",
      "It's as sound as the day when it was cut- \n",
      "And begin over- - ' There, she'd better stop. \n",
      "You can see what is troubling Granny, though. \n",
      "But don't you think we sometimes make too much \n",
      "Of the old stock? What counts is the ideals, \n",
      "And those will bear some keeping still about.' \n",
      "'I can see we are going to be good friends.' \n",
      "'I like your 'going to be.' You said just now \n",
      "It's going to rain.' \n",
      "'I know, and it was raining. \n",
      "I let you say all that. But I must go now.' \n",
      "'You let me say it? on consideration? \n",
      "How shall we say good-bye in such a case?' \n",
      "'How shall we?' \n",
      "'Will you leave the way to me?' \n",
      "'No, I don't trust your eyes. You've said enough. \n",
      "Now give me your hand up.- Pick me that flower.' \n",
      "'Where shall we meet again?' \n",
      "'Nowhere but here \n",
      "Once more before we meet elsewhere.' \n",
      "'In rain?' \n",
      "'It ought to be in rain. Sometime in rain. \n",
      "In rain to-morrow, shall we, if it rains? \n",
      "But if we must, in sunshine.' So she went.\n",
      "\n",
      "Builder, in building the little house,\n",
      "In every way you may please yourself;\n",
      "But please please me in the kitchen chimney:\n",
      "Don't build me a chimney upon a shelf.\n",
      "\n",
      "However far you must go for bricks,\n",
      "Whatever they cost a-piece or a pound,\n",
      "But me enough for a full-length chimney,\n",
      "And build the chimney clear from the ground.\n",
      "\n",
      "It's not that I'm greatly afraid of fire,\n",
      "But I never heard of a house that throve\n",
      "(And I know of one that didn't thrive)\n",
      "Where the chimney started above the stove.\n",
      "\n",
      "And I dread the ominous stain of tar\n",
      "That there always is on the papered walls,\n",
      "And the smell of fire drowned in rain\n",
      "That there always is when the chimney's false.\n",
      "\n",
      "A shelf's for a clock or vase or picture,\n",
      "But I don't see why it should have to bear\n",
      "A chimney that only would serve to remind me\n",
      "Of castles I used to build in air.\n",
      "\n",
      "I had for my winter evening walk- \n",
      "No one at all with whom to talk,\n",
      "But I had the cottages in a row\n",
      "Up to their shining eyes in snow.\n",
      "\n",
      "And I thought I had the folk within:\n",
      "I had the sound of a violin;\n",
      "I had a glimpse through curtain laces\n",
      "Of youthful forms and youthful faces.\n",
      "\n",
      "I had such company outward bound.\n",
      "I went till there were no cottages found.\n",
      "I turned and repented, but coming back\n",
      "I saw no window but that was black.\n",
      "\n",
      "Over the snow my creaking feet\n",
      "Disturbed the slumbering village street\n",
      "Like profanation, by your leave,\n",
      "At ten o'clock of a winter eve.\n",
      "\n",
      "Inscription for a Garden Wall\n",
      "\n",
      "Winds blow the open grassy places bleak;\n",
      "But where this old wall burns a sunny cheek,\n",
      "They eddy over it too toppling weak\n",
      "To blow the earth or anything self-clear;\n",
      "Moisture and color and odor thicken here.\n",
      "The hours of daylight gather atmosphere. \n",
      "\n",
      "To Ridgely Torrence\n",
      "On Last Looking into His 'Hesperides'\n",
      "\n",
      "I often see flowers from a passing car\n",
      "That are gone before I can tell what they are.\n",
      "\n",
      "I want to get out of the train and go back\n",
      "To see what they were beside the track.\n",
      "\n",
      "I name all the flowers I am sure they weren't;\n",
      "Not fireweed loving where woods have burnt- \n",
      "\n",
      "Not bluebells gracing a tunnel mouth- \n",
      "Not lupine living on sand and drouth.\n",
      "\n",
      "Was something brushed across my mind\n",
      "That no one on earth will ever find?\n",
      "\n",
      "Heaven gives it glimpses only to those\n",
      "Not in position to look too close.\n",
      "\n",
      "Back out of all this now too much for us,\n",
      "Back in a time made simple by the loss\n",
      "Of detail, burned, dissolved, and broken off\n",
      "Like graveyard marble sculpture in the weather,\n",
      "There is a house that is no more a house\n",
      "Upon a farm that is no more a farm\n",
      "And in a town that is no more a town.\n",
      "The road there, if you'll let a guide direct you\n",
      "Who only has at heart your getting lost,\n",
      "May seem as if it should have been a quarry -\n",
      "Great monolithic knees the former town\n",
      "Long since gave up pretense of keeping covered.\n",
      "And there's a story in a book about it:\n",
      "Besides the wear of iron wagon wheels\n",
      "The ledges show lines ruled southeast-northwest,\n",
      "The chisel work of an enormous Glacier\n",
      "That braced his feet against the Arctic Pole.\n",
      "You must not mind a certain coolness from him\n",
      "Still said to haunt this side of Panther Mountain.\n",
      "Nor need you mind the serial ordeal\n",
      "Of being watched from forty cellar holes\n",
      "As if by eye pairs out of forty firkins.\n",
      "As for the woods' excitement over you\n",
      "That sends light rustle rushes to their leaves,\n",
      "Charge that to upstart inexperience.\n",
      "Where were they all not twenty years ago?\n",
      "They think too much of having shaded out\n",
      "A few old pecker-fretted apple trees.\n",
      "Make yourself up a cheering song of how\n",
      "Someone's road home from work this once was,\n",
      "Who may be just ahead of you on foot\n",
      "Or creaking with a buggy load of grain.\n",
      "The height of the adventure is the height\n",
      "Of country where two village cultures faded\n",
      "Into each other. Both of them are lost.\n",
      "And if you're lost enough to find yourself\n",
      "By now, pull in your ladder road behind you\n",
      "And put a sign up CLOSED to all but me.\n",
      "Then make yourself at home. The only field\n",
      "Now left's no bigger than a harness gall.\n",
      "First there's the children's house of make-believe,\n",
      "Some shattered dishes underneath a pine,\n",
      "The playthings in the playhouse of the children.\n",
      "Weep for what little things could make them glad.\n",
      "Then for the house that is no more a house,\n",
      "But only a belilaced cellar hole,\n",
      "Now slowly closing like a dent in dough.\n",
      "This was no playhouse but a house in earnest.\n",
      "Your destination and your destiny's\n",
      "A brook that was the water of the house,\n",
      "Cold as a spring as yet so near its source,\n",
      "Too lofty and original to rage.\n",
      "(We know the valley streams that when aroused\n",
      "Will leave their tatters hung on barb and thorn.)\n",
      "I have kept hidden in the instep arch\n",
      "Of an old cedar at the waterside\n",
      "A broken drinking goblet like the Grail\n",
      "Under a spell so the wrong ones can't find it,\n",
      "So can't get saved, as Saint Mark says they mustn't.\n",
      "(I stole the goblet from the children's playhouse.)\n",
      "Here are your waters and your watering place.\n",
      "Drink and be whole again beyond confusion.\n",
      "\n",
      "I WALKED down alone Sunday after church\n",
      "To the place where John has been cutting trees\n",
      "To see for myself about the birch\n",
      "He said I could have to bush my peas.\n",
      "\n",
      "The sun in the new-cut narrow gap\n",
      "Was hot enough for the first of May,\n",
      "And stifling hot with the odor of sap\n",
      "From stumps still bleeding their life away.\n",
      "\n",
      "The frogs that were peeping a thousand shrill\n",
      "Wherever the ground was low and wet,\n",
      "The minute they heard my step went still\n",
      "To watch me and see what I came to get.\n",
      "\n",
      "Birch boughs enough piled everywhere!—\n",
      "All fresh and sound from the recent axe.\n",
      "Time someone came with cart and pair\n",
      "And got them off the wild flower's backs.\n",
      "\n",
      "They might be good for garden things\n",
      "To curl a little finger round,\n",
      "The same as you seize cat's-cradle strings,\n",
      "And lift themselves up off the ground.\n",
      "\n",
      "Small good to anything growing wild,\n",
      "They were crooking many a trillium\n",
      "That had budded before the boughs were piled\n",
      "And since it was coming up had to come.\n",
      "\n",
      "Over back where they speak of life as staying\n",
      "('You couldn't call it living, for it ain't'),\n",
      "There was an old, old house renewed with paint,\n",
      "And in it a piano loudly playing.\n",
      "\n",
      "Out in the plowed ground in the cold a digger,\n",
      "Among unearthed potatoes standing still,\n",
      "Was counting winter dinners, one a hill,\n",
      "With half an ear to the piano's vigor.\n",
      "\n",
      "All that piano and new paint back there,\n",
      "Was it some money suddenly come into?\n",
      "Or some extravagance young love had been to?\n",
      "Or old love on an impulse not to care- \n",
      "\n",
      "Not to sink under being man and wife,\n",
      "But get some color and music out of life?\n",
      "\n",
      "It was long I lay\n",
      "Awake that night\n",
      "Wishing that night\n",
      "Would name the hour\n",
      "And tell me whether\n",
      "To call it day\n",
      "(Though not yet light)\n",
      "And give up sleep.\n",
      "The snow fell deep\n",
      "With the hiss of spray;\n",
      "Two winds would meet,\n",
      "One down one street,\n",
      "One down another,\n",
      "And fight in a smother\n",
      "Of dust and feather.\n",
      "I could not say,\n",
      "But feared the cold\n",
      "Had checked the pace\n",
      "Of the tower clock\n",
      "By tying together\n",
      "Its hands of gold\n",
      "Before its face.\n",
      "\n",
      "Then cane one knock!\n",
      "A note unruffled\n",
      "Of earthly weather,\n",
      "Though strange and muffled.\n",
      "The tower said, 'One!'\n",
      "And then a steeple.\n",
      "They spoke to themselves\n",
      "And such few people\n",
      "As winds might rouse\n",
      "From sleeping warm\n",
      "(But not unhouse).\n",
      "They left the storm\n",
      "That struck en masse\n",
      "My window glass\n",
      "Like a beaded fur.\n",
      "In that grave One\n",
      "They spoke of the sun\n",
      "And moon and stars,\n",
      "Saturn and Mars\n",
      "And Jupiter.\n",
      "Still more unfettered,\n",
      "They left the named\n",
      "And spoke of the lettered,\n",
      "The sigmas and taus\n",
      "Of constellations.\n",
      "They filled their throats\n",
      "With the furthest bodies\n",
      "To which man sends his\n",
      "Speculation,\n",
      "Beyond which God is;\n",
      "The cosmic motes\n",
      "Of yawning lenses.\n",
      "Their solemn peals\n",
      "Were not their own:\n",
      "They spoke for the clock\n",
      "With whose vast wheels\n",
      "Theirs interlock.\n",
      "In that grave word\n",
      "Uttered alone\n",
      "The utmost star\n",
      "Trembled and stirred,\n",
      "Though set so far\n",
      "Its whirling frenzies\n",
      "Appear like standing\n",
      "in one self station.\n",
      "It has not ranged,\n",
      "And save for the wonder \n",
      "Of once expanding\n",
      "To be a nova,\n",
      "It has not changed\n",
      "To the eye of man\n",
      "On planets over\n",
      "Around and under\n",
      "It in creation\n",
      "Since man began\n",
      "To drag down man\n",
      "And nation nation.\n",
      "\n",
      "The surest thing there is is we are riders,\n",
      "And though none too successful at it, guiders,\n",
      "Through everything presented, land and tide\n",
      "And now the very air, of what we ride.\n",
      "\n",
      "What is this talked-of mystery of birth\n",
      "But being mounted bareback on the earth?\n",
      "We can just see the infant up astride,\n",
      "His small fist buried in the bushy hide.\n",
      "\n",
      "There is our wildest mount- a headless horse.\n",
      "But though it runs unbridled off its course,\n",
      "And all our blandishments would seem defied,\n",
      "We have ideas yet that we haven't tried.\n",
      "\n",
      "I let myself in at the kitchen door.\n",
      "'It's you,' she said. 'I can't get up. Forgive me \n",
      "Not answering your knock. I can no more \n",
      "Let people in than I can keep them out. \n",
      "I'm getting too old for my size, I tell them. \n",
      "My fingers are about all I've the use of \n",
      "So's to take any comfort. I can sew: \n",
      "I help out with this beadwork what I can.' \n",
      "'That's a smart pair of pumps you're beading there. \n",
      "Who are they for?' \n",
      "'You mean?- oh, for some miss. \n",
      "I can't keep track of other people's daughters. \n",
      "Lord, if I were to dream of everyone \n",
      "Whose shoes I primped to dance in!' \n",
      "'And where's John?' \n",
      "'Haven't you seen him? Strange what set you off \n",
      "To come to his house when he's gone to yours. \n",
      "You can't have passed each other. I know what: \n",
      "He must have changed his mind and gone to Garlands. \n",
      "He won't be long in that case. You can wait. \n",
      "Though what good you can be, or anyone- \n",
      "It's gone so far. You've heard? Estelle's run off.' \n",
      "'Yes, what's it all about? When did she go?' \n",
      "'Two weeks since.' \n",
      "'She's in earnest, it appears.' \n",
      "'I'm sure she won't come back. She's hiding somewhere. \n",
      "I don't know where myself. John thinks I do. \n",
      "He thinks I only have to say the word, \n",
      "And she'll come back. But, bless you, I'm her mother- \n",
      "I can't talk to her, and, Lord, if I could!' \n",
      "'It will go hard with John. What will he do? \n",
      "He can't find anyone to take her place.' \n",
      "'Oh, if you ask me that, what will he do? \n",
      "He gets some sort of bakeshop meals together, \n",
      "With me to sit and tell him everything, \n",
      "What's wanted and how much and where it is. \n",
      "But when I'm gone- of course I can't stay here: \n",
      "Estelle's to take me when she's settled down. \n",
      "He and I only hinder one another. \n",
      "I tell them they can't get me through the door, though: \n",
      "I've been built in here like a big church organ. \n",
      "We've been here fifteen years.' \n",
      "'That's a long time \n",
      "To live together and then pull apart. \n",
      "How do you see him living when you're gone? \n",
      "Two of you out will leave an empty house.' \n",
      "'I don't just see him living many years, \n",
      "Left here with nothing but the furniture. \n",
      "I hate to think of the old place when we're gone, \n",
      "With the brook going by below the yard, \n",
      "And no one here but hens blowing about. \n",
      "If he could sell the place, but then, he can't: \n",
      "No one will ever live on it again. \n",
      "It's too run down. This is the last of it. \n",
      "What I think he will do, is let things smash. \n",
      "He'll sort of swear the time away. He's awful! \n",
      "I never saw a man let family troubles \n",
      "Make so much difference in his man's affairs. \n",
      "He's just dropped everything. He's like a child. \n",
      "I blame his being brought up by his mother. \n",
      "He's got hay down that's been rained on three times. \n",
      "He hoed a little yesterday for me: \n",
      "I thought the growing things would do him good. \n",
      "Something went wrong. I saw him throw the hoe \n",
      "Sky-high with both hands. I can see it now- \n",
      "Come here- I'll show you- in that apple tree. \n",
      "That's no way for a man to do at his age: \n",
      "He's fifty-five, you know, if he's a day.' \n",
      "'Aren't you afraid of him? What's that gun for?' \n",
      "'Oh, that's been there for hawks since chicken-time. \n",
      "John Hall touch me! Not if he knows his friends. \n",
      "I'll say that for him, John's no threatener \n",
      "Like some men folk. No one's afraid of him; \n",
      "All is, he's made up his mind not to stand \n",
      "What he has got to stand.' \n",
      "'Where is Estelle? \n",
      "Couldn't one talk to her? What does she say? \n",
      "You say you don't know where she is.' \n",
      "'Nor want to! \n",
      "She thinks if it was bad to live with him, \n",
      "It must be right to leave him.' \n",
      "'Which is wrong!' \n",
      "'Yes, but he should have married her.' \n",
      "'I know.' \n",
      "'The strain's been too much for her all these years: \n",
      "I can't explain it any other way. \n",
      "It's different with a man, at least with John: \n",
      "He knows he's kinder than the run of men. \n",
      "Better than married ought to be as good \n",
      "As married- that's what he has always said. \n",
      "I know the way he's felt- but all the same!' \n",
      "'I wonder why he doesn't marry her \n",
      "And end it.' \n",
      "'Too late now: she wouldn't have him. \n",
      "He's given her time to think of something else. \n",
      "That's his mistake. The dear knows my interest \n",
      "Has been to keep the thing from breaking up. \n",
      "This is a good home: I don't ask for better. \n",
      "But when I've said, 'Why shouldn't they be married,' \n",
      "He'd say, 'Why should they?' no more words than that.' \n",
      "'And after all why should they? John's been fair \n",
      "I take it. What was his was always hers. \n",
      "There was no quarrel about property.' \n",
      "'Reason enough, there was no property. \n",
      "A friend or two as good as own the farm, \n",
      "Such as it is. It isn't worth the mortgage.' \n",
      "'I mean Estelle has always held the purse.' \n",
      "'The rights of that are harder to get at. \n",
      "I guess Estelle and I have filled the purse. \n",
      "'Twas we let him have money, not he us. \n",
      "John's a bad farmer. I'm not blaming him. \n",
      "Take it year in, year out, he doesn't make much. \n",
      "We came here for a home for me, you know, \n",
      "Estelle to do the housework for the board \n",
      "Of both of us. But look how it turns out: \n",
      "She seems to have the housework, and besides, \n",
      "Half of the outdoor work, though as for that, \n",
      "He'd say she does it more because she likes it. \n",
      "You see our pretty things are all outdoors. \n",
      "Our hens and cows and pigs are always better \n",
      "Than folks like us have any business with. \n",
      "Farmers around twice as well off as we \n",
      "Haven't as good. They don't go with the farm. \n",
      "One thing you can't help liking about John, \n",
      "He's fond of nice things- too fond, some would say. \n",
      "But Estelle don't complain: she's like him there. \n",
      "She wants our hens to be the best there are. \n",
      "You never saw this room before a show, \n",
      "Full of lank, shivery, half-drowned birds \n",
      "In separate coops, having their plumage done. \n",
      "The smell of the wet feathers in the heat! \n",
      "You spoke of John's not being safe to stay with. \n",
      "You don't know what a gentle lot we are: \n",
      "We wouldn't hurt a hen! You ought to see us \n",
      "Moving a flock of hens from place to place. \n",
      "We're not allowed to take them upside down, \n",
      "All we can hold together by the legs. \n",
      "Two at a time's the rule, one on each arm, \n",
      "No matter how far and how many times \n",
      "We have to go.' \n",
      "'You mean that's John's idea.' \n",
      "'And we live up to it; or I don't know \n",
      "What childishness he wouldn't give way to. \n",
      "He manages to keep the upper hand \n",
      "On his own farm. He's boss. But as to hens: \n",
      "We fence our flowers in and the hens range. \n",
      "Nothing's too good for them. We say it pays. \n",
      "John likes to tell the offers he has had, \n",
      "Twenty for this cock, twenty-five for that. \n",
      "He never takes the money. If they're worth \n",
      "That much to sell, they're worth as much to keep. \n",
      "Bless you, it's all expense, though. Reach me down \n",
      "The little tin box on the cupboard shelf, \n",
      "The upper shelf, the tin box. That's the one. \n",
      "I'll show you. Here you are.' \n",
      "'What's this?' \n",
      "'A bill- \n",
      "For fifty dollars for one Langshang cock- \n",
      "Receipted. And the cock is in the yard.' \n",
      "'Not in a glass case, then?' \n",
      "'He'd need a tall one: \n",
      "He can eat off a barrel from the ground. \n",
      "He's been in a glass case, as you may say, \n",
      "The Crystal Palace, London. He's imported. \n",
      "John bought him, and we paid the bill with beads- \n",
      "Wampum, I call it. Mind, we don't complain. \n",
      "But you see, don't you, we take care of him.' \n",
      "'And like it, too. It makes it all the worse.' \n",
      "'It seems as if. And that's not all: he's helpless \n",
      "In ways that I can hardly tell you of. \n",
      "Sometimes he gets possessed to keep accounts \n",
      "To see where all the money goes so fast. \n",
      "You know how men will be ridiculous. \n",
      "But it's just fun the way he gets bedeviled- \n",
      "If he's untidy now, what will he be- - ? \n",
      "'It makes it all the worse. You must be blind.' \n",
      "'Estelle's the one. You needn't talk to me.' \n",
      "'Can't you and I get to the root of it? \n",
      "What's the real trouble? What will satisfy her?' \n",
      "'It's as I say: she's turned from him, that's all.' \n",
      "'But why, when she's well off? Is it the neighbours, \n",
      "Being cut off from friends?' \n",
      "'We have our friends. \n",
      "That isn't it. Folks aren't afraid of us.' \n",
      "'She's let it worry her. You stood the strain, \n",
      "And you're her mother.' \n",
      "'But I didn't always. \n",
      "I didn't relish it along at first. \n",
      "But I got wonted to it. And besides- \n",
      "John said I was too old to have grandchildren. \n",
      "But what's the use of talking when it's done? \n",
      "She won't come back- it's worse than that- she can't.' \n",
      "'Why do you speak like that? What do you know? \n",
      "What do you mean?- she's done harm to herself?' \n",
      "'I mean she's married- married someone else.' \n",
      "'Oho, oho!' \n",
      "'You don't believe me.' \n",
      "'Yes, I do, \n",
      "Only too well. I knew there must be something! \n",
      "So that was what was back. She's bad, that's all!' \n",
      "'Bad to get married when she had the chance?' \n",
      "'Nonsense! See what's she done! But who, who- - ' \n",
      "'Who'd marry her straight out of such a mess? \n",
      "Say it right out- no matter for her mother. \n",
      "The man was found. I'd better name no names. \n",
      "John himself won't imagine who he is.' \n",
      "'Then it's all up. I think I'll get away. \n",
      "You'll be expecting John. I pity Estelle; \n",
      "I suppose she deserves some pity, too. \n",
      "You ought to have the kitchen to yourself \n",
      "To break it to him. You may have the job.' \n",
      "'You needn't think you're going to get away. \n",
      "John's almost here. I've had my eye on someone \n",
      "Coming down Ryan's Hill. I thought 'twas him. \n",
      "Here he is now. This box! Put it away. \n",
      "And this bill.' \n",
      "'What's the hurry? He'll unhitch.' \n",
      "'No, he won't, either. He'll just drop the reins \n",
      "And turn Doll out to pasture, rig and all. \n",
      "She won't get far before the wheels hang up \n",
      "On something- there's no harm. See, there he is! \n",
      "My, but he looks as if he must have heard!' \n",
      "John threw the door wide but he didn't enter.\n",
      "'How are you, neighbour? Just the man I'm after. \n",
      "Isn't it Hell,' he said. 'I want to know. \n",
      "Come out here if you want to hear me talk. \n",
      "I'll talk to you, old woman, afterward. \n",
      "I've got some news that maybe isn't news. \n",
      "What are they trying to do to me, these two?' \n",
      "'Do go along with him and stop his shouting.' \n",
      "She raised her voice against the closing door:\n",
      "'Who wants to hear your news, you- dreadful fool?'\n",
      "\n",
      "A winter garden in an alder swamp,\n",
      "Where conies now come out to sun and romp,\n",
      "As near a paradise as it can be\n",
      "And not melt snow or start a dormant tree.\n",
      "\n",
      "It lifts existence on a plane of snow\n",
      "One level higher than the earth below,\n",
      "One level nearer heaven overhead,\n",
      "And last year's berries shining scarlet red.\n",
      "\n",
      "It lifts a gaunt luxuriating beast\n",
      "Where he can stretch and hold his highest feat\n",
      "On some wild apple tree's young tender bark,\n",
      "What well may prove the year's high girdle mark.\n",
      "\n",
      "So near to paradise all pairing ends:\n",
      "Here loveless birds now flock as winter friends,\n",
      "Content with bud-inspecting. They presume\n",
      "To say which buds are leaf and which are bloom.\n",
      "\n",
      "A feather-hammer gives a double knock.\n",
      "This Eden day is done at two o'clock.\n",
      "An hour of winter day might seem too short\n",
      "To make it worth life's while to wake and sport."
     ]
    }
   ],
   "source": [
    "!cat robert_frost.txt"
   ]
  },
  {
   "cell_type": "code",
   "execution_count": 71,
   "id": "3771206f-b5e9-49ff-b28d-dc3a906a1201",
   "metadata": {
    "tags": []
   },
   "outputs": [],
   "source": [
    "lines = [line.rstrip() for line in open('robert_frost.txt')] \n",
    "lines = [line for line in lines if len(line)>0]"
   ]
  },
  {
   "cell_type": "code",
   "execution_count": 73,
   "id": "0fc12543-455f-4a2d-b68d-50ffcc87847f",
   "metadata": {
    "tags": []
   },
   "outputs": [
    {
     "name": "stderr",
     "output_type": "stream",
     "text": [
      "No model was supplied, defaulted to gpt2 and revision 6c0e608 (https://huggingface.co/gpt2).\n",
      "Using a pipeline without specifying a model name and revision in production is not recommended.\n"
     ]
    },
    {
     "data": {
      "application/vnd.jupyter.widget-view+json": {
       "model_id": "e444764b57d3494e9a05deacbe24783d",
       "version_major": 2,
       "version_minor": 0
      },
      "text/plain": [
       "HBox(children=(FloatProgress(value=0.0, description='Downloading (…)lve/main/config.json', max=665.0, style=Pr…"
      ]
     },
     "metadata": {},
     "output_type": "display_data"
    },
    {
     "name": "stdout",
     "output_type": "stream",
     "text": [
      "\n"
     ]
    },
    {
     "data": {
      "application/vnd.jupyter.widget-view+json": {
       "model_id": "5cb88096c54b4bcd91b2eab44c5d4425",
       "version_major": 2,
       "version_minor": 0
      },
      "text/plain": [
       "HBox(children=(FloatProgress(value=0.0, description='Downloading model.safetensors', max=548105171.0, style=Pr…"
      ]
     },
     "metadata": {},
     "output_type": "display_data"
    },
    {
     "name": "stdout",
     "output_type": "stream",
     "text": [
      "\n"
     ]
    },
    {
     "data": {
      "application/vnd.jupyter.widget-view+json": {
       "model_id": "fa95e2d7803c4f72a0a8d752c0f29462",
       "version_major": 2,
       "version_minor": 0
      },
      "text/plain": [
       "HBox(children=(FloatProgress(value=0.0, description='Downloading (…)neration_config.json', max=124.0, style=Pr…"
      ]
     },
     "metadata": {},
     "output_type": "display_data"
    },
    {
     "name": "stdout",
     "output_type": "stream",
     "text": [
      "\n"
     ]
    },
    {
     "data": {
      "application/vnd.jupyter.widget-view+json": {
       "model_id": "ba427909bab54aa2bec91d4ac4d27d0d",
       "version_major": 2,
       "version_minor": 0
      },
      "text/plain": [
       "HBox(children=(FloatProgress(value=1.0, bar_style='info', description='Downloading (…)olve/main/vocab.json', m…"
      ]
     },
     "metadata": {},
     "output_type": "display_data"
    },
    {
     "name": "stdout",
     "output_type": "stream",
     "text": [
      "\n"
     ]
    },
    {
     "data": {
      "application/vnd.jupyter.widget-view+json": {
       "model_id": "9ee8d5f666644503a4aa02acfb8e2748",
       "version_major": 2,
       "version_minor": 0
      },
      "text/plain": [
       "HBox(children=(FloatProgress(value=1.0, bar_style='info', description='Downloading (…)olve/main/merges.txt', m…"
      ]
     },
     "metadata": {},
     "output_type": "display_data"
    },
    {
     "name": "stdout",
     "output_type": "stream",
     "text": [
      "\n"
     ]
    },
    {
     "data": {
      "application/vnd.jupyter.widget-view+json": {
       "model_id": "d57bded1040a444ba211c84f6f168201",
       "version_major": 2,
       "version_minor": 0
      },
      "text/plain": [
       "HBox(children=(FloatProgress(value=1.0, bar_style='info', description='Downloading (…)/main/tokenizer.json', m…"
      ]
     },
     "metadata": {},
     "output_type": "display_data"
    },
    {
     "name": "stdout",
     "output_type": "stream",
     "text": [
      "\n"
     ]
    }
   ],
   "source": [
    "generator = pipeline('text-generation')"
   ]
  },
  {
   "cell_type": "code",
   "execution_count": 74,
   "id": "7181c9ae-ebed-482c-8bbe-fbda3d1d496d",
   "metadata": {
    "tags": []
   },
   "outputs": [
    {
     "data": {
      "text/plain": [
       "1436"
      ]
     },
     "execution_count": 74,
     "metadata": {},
     "output_type": "execute_result"
    }
   ],
   "source": [
    "len(lines)"
   ]
  },
  {
   "cell_type": "code",
   "execution_count": 75,
   "id": "42509de3-afe8-4aeb-8495-454ebb982aef",
   "metadata": {
    "tags": []
   },
   "outputs": [],
   "source": [
    "set_seed(1234)"
   ]
  },
  {
   "cell_type": "code",
   "execution_count": 78,
   "id": "0b7d729a-4997-4913-9eeb-8d605116512b",
   "metadata": {
    "tags": []
   },
   "outputs": [
    {
     "data": {
      "text/plain": [
       "['Two roads diverged in a yellow wood,',\n",
       " 'And sorry I could not travel both',\n",
       " 'And be one traveler, long I stood',\n",
       " 'And looked down one as far as I could',\n",
       " 'To where it bent in the undergrowth;']"
      ]
     },
     "execution_count": 78,
     "metadata": {},
     "output_type": "execute_result"
    }
   ],
   "source": [
    "lines[:5]"
   ]
  },
  {
   "cell_type": "code",
   "execution_count": 77,
   "id": "e4e46b44-57ef-4138-a1ee-93e68ff1f3e5",
   "metadata": {
    "tags": []
   },
   "outputs": [
    {
     "name": "stderr",
     "output_type": "stream",
     "text": [
      "Setting `pad_token_id` to `eos_token_id`:50256 for open-end generation.\n",
      "/opt/conda/lib/python3.7/site-packages/transformers/generation/utils.py:1357: UserWarning: Using `max_length`'s default (50) to control the generation length. This behaviour is deprecated and will be removed from the config in v5 of Transformers -- we recommend using `max_new_tokens` to control the maximum length of the generation.\n",
      "  UserWarning,\n"
     ]
    },
    {
     "data": {
      "text/plain": [
       "[{'generated_text': \"Two roads diverged in a yellow wood, while the road in a white puddle was a complete blue on account of the rain coming in. It had been raining outside for some time, so it hadn't taken long for people on both sides of\"}]"
      ]
     },
     "execution_count": 77,
     "metadata": {},
     "output_type": "execute_result"
    }
   ],
   "source": [
    "generator(lines[0])"
   ]
  },
  {
   "cell_type": "code",
   "execution_count": 82,
   "id": "b612f067-96c3-428f-ab46-d812005865f1",
   "metadata": {
    "tags": []
   },
   "outputs": [
    {
     "name": "stderr",
     "output_type": "stream",
     "text": [
      "Setting `pad_token_id` to `eos_token_id`:50256 for open-end generation.\n"
     ]
    },
    {
     "name": "stdout",
     "output_type": "stream",
     "text": [
      "[{'generated_text': 'Two roads diverged in a yellow wood, or \"black hole\" as '\n",
      "                    'it seems in some of our tales, when the first man, a man '\n",
      "                    'named \"Tommy,\" was brought aboard the Enterprise, and he '\n",
      "                    'found himself at the center of an international '\n",
      "                    'conspiracy to kidnap and destroy the crew as part of the '\n",
      "                    'plan. One man named \"Tom\" had a mysterious connection '\n",
      "                    'with the other. Tom had been one of the very few human '\n",
      "                    'beings not to have been taken alive (at least so far as'},\n",
      " {'generated_text': 'Two roads diverged in a yellow wood, a small town, and, '\n",
      "                    'with their streets not being as clear as the others, a '\n",
      "                    'small square of dirt between the town of Yum, Andon, and '\n",
      "                    'the road of the city of Iztak, were formed into the line '\n",
      "                    'of the first two roads. From Iztak a town was driven up '\n",
      "                    'two leagues from the east, and, on the same line, a field '\n",
      "                    'of sand was drawn between the two points, and there was '\n",
      "                    'no'},\n",
      " {'generated_text': 'Two roads diverged in a yellow wood, with only the two '\n",
      "                    'sides clearly visible. The road was in the center of the '\n",
      "                    'blacked out concrete block on the side dividing the '\n",
      "                    'middle of the house from the left driveway.\\n'\n",
      "                    '\\n'\n",
      "                    'The police also asked the residents to stand in the '\n",
      "                    'intersection or face the road.\\n'\n",
      "                    '\\n'\n",
      "                    'There is no indication that the police attempted to stop '\n",
      "                    'the car at this point. But because it was completely dark '\n",
      "                    \"and they didn't even see any of the two people in their \"\n",
      "                    'vehicle'}]\n"
     ]
    }
   ],
   "source": [
    "pprint(generator(lines[0], num_return_sequences=3, max_length =100))"
   ]
  },
  {
   "cell_type": "code",
   "execution_count": 83,
   "id": "58d8c5e3-89cf-40f4-9fa1-11df4c428886",
   "metadata": {
    "tags": []
   },
   "outputs": [],
   "source": [
    "def wrap(x):\n",
    "    return textwrap.fill(x, replace_whitespace = False, fix_sentence_endings = True)"
   ]
  },
  {
   "cell_type": "code",
   "execution_count": 85,
   "id": "0798fed0-5856-4c60-af12-407ea7b1a983",
   "metadata": {
    "tags": []
   },
   "outputs": [
    {
     "name": "stderr",
     "output_type": "stream",
     "text": [
      "Setting `pad_token_id` to `eos_token_id`:50256 for open-end generation.\n"
     ]
    },
    {
     "name": "stdout",
     "output_type": "stream",
     "text": [
      "[{'generated_text': \"Two roads diverged in a yellow wood, giving the green signal to the trucks that it's their turn for the rest of us, at which point I stopped and watched our children go down to the river. There was a huge crowd there, so I was sure that the town was full of kids, probably around 100, but my mom made up my mind to have only one kid, so I kept pulling along. The river wasn't nearly quite as good as I'd wanted it to be --\"}]\n",
      "\n",
      "\n",
      "Two roads diverged in a yellow wood, giving the green signal to the\n",
      "trucks that it's their turn for the rest of us, at which point I\n",
      "stopped and watched our children go down to the river.  There was a\n",
      "huge crowd there, so I was sure that the town was full of kids,\n",
      "probably around 100, but my mom made up my mind to have only one kid,\n",
      "so I kept pulling along.  The river wasn't nearly quite as good as I'd\n",
      "wanted it to be --\n"
     ]
    }
   ],
   "source": [
    "out = generator(lines[0],max_length =100)\n",
    "print(out)\n",
    "print('\\n')\n",
    "print(wrap(out[0]['generated_text']))"
   ]
  },
  {
   "cell_type": "code",
   "execution_count": 86,
   "id": "7a116ecb-ee38-4e53-a18f-e1e9b27559ce",
   "metadata": {
    "tags": []
   },
   "outputs": [
    {
     "name": "stderr",
     "output_type": "stream",
     "text": [
      "Setting `pad_token_id` to `eos_token_id`:50256 for open-end generation.\n"
     ]
    },
    {
     "name": "stdout",
     "output_type": "stream",
     "text": [
      "Two roads diverged in a yellow wood, giving the green signal to the\n",
      "trucks that it's their turn for the rest of us, at which point I\n",
      "stopped and watched our children go down to the river.  There was a\n",
      "huge crowd there, so I was sure that the town was full of kids,\n",
      "probably around 100, but my mom made up my mind to have only one kid,\n",
      "so I kept pulling along.  The river wasn't nearly quite as good as I'd\n",
      "wanted it to be --\n",
      "And sorry I could not travel both ways with you.  This is where I'll\n",
      "be coming from.  In case you're wondering, my daughter is taking care\n",
      "of a large set of her own.  I should be so happy I can carry you to\n",
      "somewhere warm.  I've got two bottles of vodka for you, and I should\n",
      "probably make some for you.  Oh well.  I'll make sure you don't mind\n",
      "too much, okay?  Goodnight, Mrs.  Potter.\n",
      "\n",
      "RAW Paste Data\n"
     ]
    }
   ],
   "source": [
    "out1 = generator(lines[1],max_length =100)\n",
    "out2 = wrap(out[0]['generated_text'])+ '\\n' + wrap(out1[0]['generated_text'])\n",
    "print(out2)"
   ]
  },
  {
   "cell_type": "code",
   "execution_count": 94,
   "id": "5ae5e937-2a75-4d31-b348-508a775f08b5",
   "metadata": {
    "tags": []
   },
   "outputs": [
    {
     "name": "stderr",
     "output_type": "stream",
     "text": [
      "Setting `pad_token_id` to `eos_token_id`:50256 for open-end generation.\n"
     ]
    },
    {
     "name": "stdout",
     "output_type": "stream",
     "text": [
      "Neural Networks with attention have been used with great success in\n",
      "natural language processing.  The use of the network protocol in\n",
      "artificial language processing has sparked interest in some different\n",
      "fields, but it is generally accepted that neural networks can be used\n",
      "with a much broader range of learning mechanisms in order to\n",
      "efficiently design neural network models.  Most neural networks have\n",
      "been developed to explore many of the same learning mechanisms, or\n",
      "even some that can be applied to many of these systems.  A general\n",
      "overview of neural networks is presented below.\n",
      "\n",
      "A large section of\n",
      "this paper focuses on learning algorithms for image formation and\n",
      "representation.  A more detailed review and some links to more current\n",
      "papers will be presented in the next sections.  Although there are\n",
      "more or less limited examples available of image recognition models,\n",
      "some basic concepts are common within these concepts.\n",
      "\n",
      "General\n",
      "principle\n",
      "\n",
      "If you work with a visual system, then you need to be able\n",
      "to take into account how both the natural language processing (MLP)\n",
      "and artificial neural network systems can create, and use, images.  By\n",
      "taking an MLP approach, you will be able to use this model and build\n",
      "the image into a computer model on your own, without the need for\n",
      "software programming.  This approach requires that you have some basic\n",
      "knowledge of what machine learning is.  The most common examples of\n",
      "machine learning are the visualizations and learning routines used by\n",
      "many different computer, video game, software and simulation games.\n",
      "An important step to understand it is to be able to use it with good\n",
      "accuracy\n"
     ]
    }
   ],
   "source": [
    "prompt = \"Neural Networks with attention have been used with great success\" + \" in natural language processing.\"\n",
    "out_p = generator(prompt, max_length = 300)\n",
    "print(wrap(out_p[0]['generated_text']))"
   ]
  },
  {
   "cell_type": "markdown",
   "id": "09bcacab-dce9-4554-bb2f-6d60f3856771",
   "metadata": {
    "tags": []
   },
   "source": [
    "# Task 3: Fill Mask"
   ]
  },
  {
   "cell_type": "code",
   "execution_count": 96,
   "id": "1f215605-c619-443e-aa80-90e7ae26994d",
   "metadata": {
    "tags": []
   },
   "outputs": [
    {
     "name": "stderr",
     "output_type": "stream",
     "text": [
      "No model was supplied, defaulted to distilroberta-base and revision ec58a5b (https://huggingface.co/distilroberta-base).\n",
      "Using a pipeline without specifying a model name and revision in production is not recommended.\n"
     ]
    },
    {
     "data": {
      "application/vnd.jupyter.widget-view+json": {
       "model_id": "68fe728c8ec64fa2a7b610fd8b515190",
       "version_major": 2,
       "version_minor": 0
      },
      "text/plain": [
       "HBox(children=(FloatProgress(value=0.0, description='Downloading (…)lve/main/config.json', max=480.0, style=Pr…"
      ]
     },
     "metadata": {},
     "output_type": "display_data"
    },
    {
     "name": "stdout",
     "output_type": "stream",
     "text": [
      "\n"
     ]
    },
    {
     "data": {
      "application/vnd.jupyter.widget-view+json": {
       "model_id": "c6f8e953895a49fcaddb8777b81445ff",
       "version_major": 2,
       "version_minor": 0
      },
      "text/plain": [
       "HBox(children=(FloatProgress(value=0.0, description='Downloading model.safetensors', max=331055963.0, style=Pr…"
      ]
     },
     "metadata": {},
     "output_type": "display_data"
    },
    {
     "name": "stdout",
     "output_type": "stream",
     "text": [
      "\n"
     ]
    },
    {
     "data": {
      "application/vnd.jupyter.widget-view+json": {
       "model_id": "8dc3111e6eec4fb69b08360490c4611a",
       "version_major": 2,
       "version_minor": 0
      },
      "text/plain": [
       "HBox(children=(FloatProgress(value=1.0, bar_style='info', description='Downloading (…)olve/main/vocab.json', m…"
      ]
     },
     "metadata": {},
     "output_type": "display_data"
    },
    {
     "name": "stdout",
     "output_type": "stream",
     "text": [
      "\n"
     ]
    },
    {
     "data": {
      "application/vnd.jupyter.widget-view+json": {
       "model_id": "6ce63da195c44a27b1e6f5e06d523ad4",
       "version_major": 2,
       "version_minor": 0
      },
      "text/plain": [
       "HBox(children=(FloatProgress(value=1.0, bar_style='info', description='Downloading (…)olve/main/merges.txt', m…"
      ]
     },
     "metadata": {},
     "output_type": "display_data"
    },
    {
     "name": "stdout",
     "output_type": "stream",
     "text": [
      "\n"
     ]
    },
    {
     "data": {
      "application/vnd.jupyter.widget-view+json": {
       "model_id": "0585ffbf7a9d4505ba01001311fefa90",
       "version_major": 2,
       "version_minor": 0
      },
      "text/plain": [
       "HBox(children=(FloatProgress(value=1.0, bar_style='info', description='Downloading (…)/main/tokenizer.json', m…"
      ]
     },
     "metadata": {},
     "output_type": "display_data"
    },
    {
     "name": "stdout",
     "output_type": "stream",
     "text": [
      "\n"
     ]
    }
   ],
   "source": [
    "mlm = pipeline(\"fill-mask\")"
   ]
  },
  {
   "cell_type": "code",
   "execution_count": 97,
   "id": "a92a6ed8-d526-44a6-80a8-94b8a2d0d4ce",
   "metadata": {
    "tags": []
   },
   "outputs": [
    {
     "data": {
      "text/plain": [
       "[{'score': 0.10449183732271194,\n",
       "  'token': 13855,\n",
       "  'token_str': ' jumps',\n",
       "  'sequence': 'The cat jumps over the box'},\n",
       " {'score': 0.05758372321724892,\n",
       "  'token': 33265,\n",
       "  'token_str': ' crawling',\n",
       "  'sequence': 'The cat crawling over the box'},\n",
       " {'score': 0.04840460047125816,\n",
       "  'token': 33189,\n",
       "  'token_str': ' leaping',\n",
       "  'sequence': 'The cat leaping over the box'},\n",
       " {'score': 0.04716670885682106,\n",
       "  'token': 10907,\n",
       "  'token_str': ' climbing',\n",
       "  'sequence': 'The cat climbing over the box'},\n",
       " {'score': 0.03080788441002369,\n",
       "  'token': 32564,\n",
       "  'token_str': ' leaps',\n",
       "  'sequence': 'The cat leaps over the box'}]"
      ]
     },
     "execution_count": 97,
     "metadata": {},
     "output_type": "execute_result"
    }
   ],
   "source": [
    "mlm (\"The cat <mask> over the box\")"
   ]
  },
  {
   "cell_type": "code",
   "execution_count": 98,
   "id": "dcfa6fb2-3a28-4983-ac30-b66d81907fc3",
   "metadata": {
    "tags": []
   },
   "outputs": [],
   "source": [
    "df_bbc = pd.read_csv('bbc_text_cls.csv')"
   ]
  },
  {
   "cell_type": "code",
   "execution_count": 99,
   "id": "efa0373f-cb15-4f57-887a-bad55e42f83f",
   "metadata": {
    "tags": []
   },
   "outputs": [
    {
     "data": {
      "application/vnd.jupyter.widget-view+json": {
       "model_id": "5c2276703b904685b6dbf653084b759c"
      },
      "text/plain": [
       "                                                   text    labels\n",
       "0     Ad sales boost Time Warner profit\\n\\nQuarterly...  business\n",
       "1     Dollar gains on Greenspan speech\\n\\nThe dollar...  business\n",
       "2     Yukos unit buyer faces loan claim\\n\\nThe owner...  business\n",
       "3     High fuel prices hit BA's profits\\n\\nBritish A...  business\n",
       "4     Pernod takeover talk lifts Domecq\\n\\nShares in...  business\n",
       "...                                                 ...       ...\n",
       "2220  BT program to beat dialler scams\\n\\nBT is intr...      tech\n",
       "2221  Spam e-mails tempt net shoppers\\n\\nComputer us...      tech\n",
       "2222  Be careful how you code\\n\\nA new European dire...      tech\n",
       "2223  US cyber security chief resigns\\n\\nThe man mak...      tech\n",
       "2224  Losing yourself in online gaming\\n\\nOnline rol...      tech\n",
       "\n",
       "[2225 rows x 2 columns]"
      ]
     },
     "metadata": {},
     "output_type": "display_data"
    }
   ],
   "source": [
    "display(df_bbc)"
   ]
  },
  {
   "cell_type": "code",
   "execution_count": 100,
   "id": "0dc2a613-ee18-4a03-85f4-73aa5ae27319",
   "metadata": {
    "tags": []
   },
   "outputs": [],
   "source": [
    "labels = set(df_bbc['labels'])"
   ]
  },
  {
   "cell_type": "code",
   "execution_count": 101,
   "id": "60f4ab07-b877-4af6-9bc0-cbf067248b1b",
   "metadata": {
    "tags": []
   },
   "outputs": [
    {
     "data": {
      "text/plain": [
       "{'business', 'entertainment', 'politics', 'sport', 'tech'}"
      ]
     },
     "execution_count": 101,
     "metadata": {},
     "output_type": "execute_result"
    }
   ],
   "source": [
    "labels"
   ]
  },
  {
   "cell_type": "code",
   "execution_count": 102,
   "id": "61e535b9-476c-475f-89ec-f2b90dbb7c3d",
   "metadata": {
    "tags": []
   },
   "outputs": [],
   "source": [
    "label = \"business\""
   ]
  },
  {
   "cell_type": "code",
   "execution_count": 103,
   "id": "72b6fbca-3114-4e7d-ae90-0c045bef19d8",
   "metadata": {
    "tags": []
   },
   "outputs": [],
   "source": [
    "texts = df_bbc[df_bbc['labels'] == label]['text']"
   ]
  },
  {
   "cell_type": "code",
   "execution_count": null,
   "id": "5a2bfa79-cc30-4f3f-a766-2e438dc02edc",
   "metadata": {},
   "outputs": [],
   "source": [
    "np.random.seed(1234)"
   ]
  },
  {
   "cell_type": "code",
   "execution_count": 106,
   "id": "e36ba7c1-d8b3-41e9-b6f1-c6fd3adbc01f",
   "metadata": {
    "tags": []
   },
   "outputs": [],
   "source": [
    "i = np.random.choice(len(texts))"
   ]
  },
  {
   "cell_type": "code",
   "execution_count": 108,
   "id": "0778a3a9-3186-4fd3-a383-479beaf14cf7",
   "metadata": {
    "tags": []
   },
   "outputs": [],
   "source": [
    "doc = texts.iloc[i]"
   ]
  },
  {
   "cell_type": "code",
   "execution_count": 110,
   "id": "59408367-bdee-4506-9fae-7fdd515a2072",
   "metadata": {
    "tags": []
   },
   "outputs": [
    {
     "data": {
      "text/plain": [
       "'Bombardier chief to leave company\\n\\nShares in train and plane-making giant Bombardier have fallen to a 10-year low following the departure of its chief executive and two members of the board.\\n\\nPaul Tellier, who was also Bombardier\\'s president, left the company amid an ongoing restructuring. Laurent Beaudoin, part of the family that controls the Montreal-based firm, will take on the role of CEO under a newly created management structure. Analysts said the resignations seem to have stemmed from a boardroom dispute. Under Mr Tellier\\'s tenure at the company, which began in January 2003, plans to cut the worldwide workforce of 75,000 by almost a third by 2006 were announced. The firm\\'s snowmobile division and defence services unit were also sold and Bombardier started the development of a new aircraft seating 110 to 135 passengers.\\n\\nMr Tellier had indicated he wanted to stay at the world\\'s top train maker and third largest manufacturer of civil aircraft until the restructuring was complete. But Bombardier has been faced with a declining share price and profits. Earlier this month the firm said it earned $10m (£19.2m) in the third quarter, down from a profit of $133m a year ago. \"I understand the board\\'s concern that I would not be there for the long-term and the need to develop and execute strategies, and the need to reshape the management structure at this time,\" Mr Tellier said in a statement on Monday. Bombardier said restructuring plans drawn up by Mr Tellier\\'s would continue to be implemented. Shares in Bombardier lost 65 Canadian cents or 25% on the news to 1.90 Canadian dollars before rallying to 2.20 Canadian dollars.'"
      ]
     },
     "execution_count": 110,
     "metadata": {},
     "output_type": "execute_result"
    }
   ],
   "source": [
    "doc"
   ]
  },
  {
   "cell_type": "code",
   "execution_count": 111,
   "id": "83d4e788-11b5-47a5-a02a-560a7a9d6b2b",
   "metadata": {
    "tags": []
   },
   "outputs": [
    {
     "name": "stdout",
     "output_type": "stream",
     "text": [
      "Bombardier chief to leave company\n",
      "\n",
      "Shares in train and plane-making\n",
      "giant Bombardier have fallen to a 10-year low following the departure\n",
      "of its chief executive and two members of the board.\n",
      "\n",
      "Paul Tellier,\n",
      "who was also Bombardier's president, left the company amid an ongoing\n",
      "restructuring.  Laurent Beaudoin, part of the family that controls the\n",
      "Montreal-based firm, will take on the role of CEO under a newly\n",
      "created management structure.  Analysts said the resignations seem to\n",
      "have stemmed from a boardroom dispute.  Under Mr Tellier's tenure at\n",
      "the company, which began in January 2003, plans to cut the worldwide\n",
      "workforce of 75,000 by almost a third by 2006 were announced.  The\n",
      "firm's snowmobile division and defence services unit were also sold\n",
      "and Bombardier started the development of a new aircraft seating 110\n",
      "to 135 passengers.\n",
      "\n",
      "Mr Tellier had indicated he wanted to stay at the\n",
      "world's top train maker and third largest manufacturer of civil\n",
      "aircraft until the restructuring was complete.  But Bombardier has\n",
      "been faced with a declining share price and profits.  Earlier this\n",
      "month the firm said it earned $10m (£19.2m) in the third quarter, down\n",
      "from a profit of $133m a year ago.  \"I understand the board's concern\n",
      "that I would not be there for the long-term and the need to develop\n",
      "and execute strategies, and the need to reshape the management\n",
      "structure at this time,\" Mr Tellier said in a statement on Monday.\n",
      "Bombardier said restructuring plans drawn up by Mr Tellier's would\n",
      "continue to be implemented.  Shares in Bombardier lost 65 Canadian\n",
      "cents or 25% on the news to 1.90 Canadian dollars before rallying to\n",
      "2.20 Canadian dollars.\n"
     ]
    }
   ],
   "source": [
    "print(textwrap.fill(doc, replace_whitespace = False, fix_sentence_endings = True))"
   ]
  },
  {
   "cell_type": "code",
   "execution_count": 113,
   "id": "2f758e91-fab3-4858-aa24-1eed423a8f50",
   "metadata": {
    "tags": []
   },
   "outputs": [
    {
     "data": {
      "text/plain": [
       "[{'score': 0.1042889654636383,\n",
       "  'token': 9313,\n",
       "  'token_str': ' »',\n",
       "  'sequence': 'Bombardier chief to leave company »'},\n",
       " {'score': 0.05480385571718216,\n",
       "  'token': 14789,\n",
       "  'token_str': ' fold',\n",
       "  'sequence': 'Bombardier chief to leave company fold'},\n",
       " {'score': 0.04706911742687225,\n",
       "  'token': 792,\n",
       "  'token_str': ' board',\n",
       "  'sequence': 'Bombardier chief to leave company board'},\n",
       " {'score': 0.04189793020486832,\n",
       "  'token': 4,\n",
       "  'token_str': '.',\n",
       "  'sequence': 'Bombardier chief to leave company.'},\n",
       " {'score': 0.025414438918232918,\n",
       "  'token': 10984,\n",
       "  'token_str': ' payroll',\n",
       "  'sequence': 'Bombardier chief to leave company payroll'}]"
      ]
     },
     "execution_count": 113,
     "metadata": {},
     "output_type": "execute_result"
    }
   ],
   "source": [
    "mlm('Bombardier chief to leave company <mask>')"
   ]
  },
  {
   "cell_type": "code",
   "execution_count": 118,
   "id": "79cc23db-1fba-4a05-8c82-a6ec7ece0791",
   "metadata": {
    "tags": []
   },
   "outputs": [
    {
     "data": {
      "text/plain": [
       "[{'score': 0.9855499863624573,\n",
       "  'token': 1031,\n",
       "  'token_str': ' executive',\n",
       "  'sequence': 'Shares in and plane-makinggiant Bombardier have fallen to a 10-year low following the departureof its chief executive and two members of the board.'},\n",
       " {'score': 0.01038985513150692,\n",
       "  'token': 4585,\n",
       "  'token_str': ' executives',\n",
       "  'sequence': 'Shares in and plane-makinggiant Bombardier have fallen to a 10-year low following the departureof its chief executives and two members of the board.'},\n",
       " {'score': 0.0011134527157992125,\n",
       "  'token': 1036,\n",
       "  'token_str': ' officer',\n",
       "  'sequence': 'Shares in and plane-makinggiant Bombardier have fallen to a 10-year low following the departureof its chief officer and two members of the board.'},\n",
       " {'score': 0.0007766957278363407,\n",
       "  'token': 7473,\n",
       "  'token_str': ' economist',\n",
       "  'sequence': 'Shares in and plane-makinggiant Bombardier have fallen to a 10-year low following the departureof its chief economist and two members of the board.'},\n",
       " {'score': 0.0004533157334662974,\n",
       "  'token': 8083,\n",
       "  'token_str': ' engineer',\n",
       "  'sequence': 'Shares in and plane-makinggiant Bombardier have fallen to a 10-year low following the departureof its chief engineer and two members of the board.'}]"
      ]
     },
     "execution_count": 118,
     "metadata": {},
     "output_type": "execute_result"
    }
   ],
   "source": [
    "mlm ('Shares in and plane-making'+\\\n",
    "'giant Bombardier have fallen to a 10-year low following the departure' +\\\n",
    "'of its chief <mask> and two members of the board.')"
   ]
  },
  {
   "cell_type": "markdown",
   "id": "048a8c30-d53a-4764-b8c7-2ba3ef2145cf",
   "metadata": {},
   "source": [
    "### Mask excersice"
   ]
  },
  {
   "cell_type": "code",
   "execution_count": 119,
   "id": "b355cd39-3930-461d-aa95-91bbb09de0b2",
   "metadata": {
    "tags": []
   },
   "outputs": [
    {
     "data": {
      "text/plain": [
       "510"
      ]
     },
     "execution_count": 119,
     "metadata": {},
     "output_type": "execute_result"
    }
   ],
   "source": [
    "len(texts)"
   ]
  },
  {
   "cell_type": "code",
   "execution_count": 127,
   "id": "2af07593-ab64-44d5-b366-aca4a32516d7",
   "metadata": {
    "tags": []
   },
   "outputs": [
    {
     "data": {
      "text/plain": [
       "0      Ad sales boost Time Warner profit\\n\\nQuarterly...\n",
       "1      Dollar gains on Greenspan speech\\n\\nThe dollar...\n",
       "2      Yukos unit buyer faces loan claim\\n\\nThe owner...\n",
       "3      High fuel prices hit BA's profits\\n\\nBritish A...\n",
       "4      Pernod takeover talk lifts Domecq\\n\\nShares in...\n",
       "                             ...                        \n",
       "505    Trial begins of Spain's top banker\\n\\nThe tria...\n",
       "506    UK economy ends year with spurt\\n\\nThe UK econ...\n",
       "507    HealthSouth ex-boss goes on trial\\n\\nThe forme...\n",
       "508    Euro firms miss out on optimism\\n\\nMore than 9...\n",
       "509    Lacroix label bought by US firm\\n\\nLuxury good...\n",
       "Name: text, Length: 510, dtype: object"
      ]
     },
     "execution_count": 127,
     "metadata": {},
     "output_type": "execute_result"
    }
   ],
   "source": [
    "texts"
   ]
  },
  {
   "cell_type": "code",
   "execution_count": 10,
   "id": "70fb6e41-5d88-45f1-87df-5df6b5b86151",
   "metadata": {
    "tags": []
   },
   "outputs": [],
   "source": [
    "from collections import Counter"
   ]
  },
  {
   "cell_type": "code",
   "execution_count": 167,
   "id": "f3d252ba-0503-491a-bee5-50e48c751c36",
   "metadata": {
    "tags": []
   },
   "outputs": [],
   "source": [
    "doc_freq = Counter({})\n",
    "index_tfidf ={}\n",
    "doc_size = len(texts)"
   ]
  },
  {
   "cell_type": "code",
   "execution_count": 168,
   "id": "ced2e6fe-116e-46a4-b056-037fe1b96426",
   "metadata": {
    "tags": []
   },
   "outputs": [],
   "source": [
    "for txt in texts:\n",
    "    txt_ = txt.rstrip()\n",
    "    txt_ = txt_.split()\n",
    "    doc_freq = doc_freq + Counter(set(txt_))"
   ]
  },
  {
   "cell_type": "code",
   "execution_count": 169,
   "id": "7ff8ae46-5631-4cb3-8afc-fd39be8aaf4f",
   "metadata": {
    "tags": []
   },
   "outputs": [],
   "source": [
    "for i in range(len(texts)):\n",
    "    txt_ = texts[i].rstrip()\n",
    "    txt_ = txt_.split()\n",
    "    doc_size = len(txt_)\n",
    "    '''\n",
    "    index_tfidf[i] = sorted([(x, round(y/np.log(doc_size/doc_freq[x]),2)) for x,y in Counter(txt_).items()],\\\n",
    "                             key = lambda t:t[1], reverse = True)\n",
    "    '''  \n",
    "    index_tfidf[i] = sorted([(x, round(y/doc_freq[x],2)) for x,y in Counter(txt_).items()],\\\n",
    "                             key = lambda t:t[1], reverse = True)"
   ]
  },
  {
   "cell_type": "code",
   "execution_count": 214,
   "id": "abbe18fd-5603-4a84-bd3f-c13091ada1b6",
   "metadata": {
    "tags": []
   },
   "outputs": [],
   "source": [
    "def mask_doc(doc_index, n_words = 10):\n",
    "    top_n = list(map(lambda x:x[0], index_tfidf[doc_index][:n_words]))\n",
    "    dict_replacements = {}\n",
    "    \n",
    "    for w in top_n:\n",
    "        res = mlm(texts.iloc[doc_index].replace(w,'<mask>',1))\n",
    "        dict_replacements[w] = res[0]['token_str']\n",
    "\n",
    "    \n",
    "    new_text = texts.iloc[doc_index]\n",
    "    for k,v in dict_replacements.items():\n",
    "        new_text = new_text.replace(k,v)\n",
    "        \n",
    "    return texts.iloc[doc_index], new_text, dict_replacements\n",
    "    "
   ]
  },
  {
   "cell_type": "code",
   "execution_count": 215,
   "id": "2fa97a5b-1760-4ac0-871c-4b11115b4db3",
   "metadata": {},
   "outputs": [],
   "source": [
    "# masking documents\n",
    "random_index = 1\n",
    "texto_original, texto_mask, dict_replaces = mask_doc(random_index)"
   ]
  },
  {
   "cell_type": "code",
   "execution_count": 216,
   "id": "669b0f05-f0f8-4d21-9375-81ad917275a7",
   "metadata": {
    "tags": []
   },
   "outputs": [
    {
     "data": {
      "text/plain": [
       "'Dollar gains on Greenspan speech\\n\\nThe dollar has hit its highest level against the euro in almost three months after the Federal Reserve head said the US trade deficit is set to stabilise.\\n\\nAnd Alan Greenspan highlighted the US government\\'s willingness to curb spending and rising household savings as factors which may help to reduce it. In late trading in New York, the dollar reached $1.2871 against the euro, from $1.2974 on Thursday. Market concerns about the deficit has hit the greenback in recent months. On Friday, Federal Reserve chairman Mr Greenspan\\'s speech in London ahead of the meeting of G7 finance ministers sent the dollar higher after it had earlier tumbled on the back of worse-than-expected US jobs data. \"I think the chairman\\'s taking a much more sanguine view on the current account deficit than he\\'s taken for some time,\" said Robert Sinche, head of currency strategy at Bank of America in New York. \"He\\'s taking a longer-term view, laying out a set of conditions under which the current account deficit can improve this year and next.\"\\n\\nWorries about the deficit concerns about China do, however, remain. China\\'s currency remains pegged to the dollar and the US currency\\'s sharp falls in recent months have therefore made Chinese export prices highly competitive. But calls for a shift in Beijing\\'s policy have fallen on deaf ears, despite recent comments in a major Chinese newspaper that the \"time is ripe\" for a loosening of the peg. The G7 meeting is thought unlikely to produce any meaningful movement in Chinese policy. In the meantime, the US Federal Reserve\\'s decision on 2 February to boost interest rates by a quarter of a point - the sixth such move in as many months - has opened up a differential with European rates. The half-point window, some believe, could be enough to keep US assets looking more attractive, and could help prop up the dollar. The recent falls have partly been the result of big budget deficits, as well as the US\\'s yawning current account gap, both of which need to be funded by the buying of US bonds and assets by foreign firms and governments. The White House will announce its budget on Monday, and many commentators believe the deficit will remain at close to half a trillion dollars.'"
      ]
     },
     "execution_count": 216,
     "metadata": {},
     "output_type": "execute_result"
    }
   ],
   "source": [
    "texto_original"
   ]
  },
  {
   "cell_type": "code",
   "execution_count": 217,
   "id": "0449dd36-fccc-49da-a901-b2869a57f428",
   "metadata": {
    "tags": []
   },
   "outputs": [
    {
     "data": {
      "text/plain": [
       "{'stabilise.': ' shrink',\n",
       " '$1.2871': ' parity',\n",
       " '$1.2974': ' lows',\n",
       " \"Greenspan's\": ' Carney',\n",
       " \"chairman's\": ' chairman',\n",
       " 'sanguine': ' nuanced',\n",
       " \"he's\": ' has',\n",
       " 'Sinche,': ' Dudley',\n",
       " 'view,': ' view',\n",
       " 'next.\"': ' beyond'}"
      ]
     },
     "execution_count": 217,
     "metadata": {},
     "output_type": "execute_result"
    }
   ],
   "source": [
    "dict_replaces"
   ]
  },
  {
   "cell_type": "markdown",
   "id": "493bb387-e53e-4089-a748-4d35a83daf62",
   "metadata": {},
   "source": [
    "# Task 4: NER"
   ]
  },
  {
   "cell_type": "code",
   "execution_count": 11,
   "id": "df6c2795-7341-416b-9aae-afca0f89b776",
   "metadata": {
    "tags": []
   },
   "outputs": [],
   "source": [
    "import pickle\n",
    "from nltk.tokenize.treebank import TreebankWordDetokenizer\n",
    "from sklearn.metrics import f1_score, accuracy_score"
   ]
  },
  {
   "cell_type": "code",
   "execution_count": 14,
   "id": "53be1206-31d1-4b3b-b4a3-8956e22ab463",
   "metadata": {
    "tags": []
   },
   "outputs": [
    {
     "name": "stderr",
     "output_type": "stream",
     "text": [
      "No model was supplied, defaulted to dbmdz/bert-large-cased-finetuned-conll03-english and revision f2482bf (https://huggingface.co/dbmdz/bert-large-cased-finetuned-conll03-english).\n",
      "Using a pipeline without specifying a model name and revision in production is not recommended.\n"
     ]
    }
   ],
   "source": [
    "ner = pipeline(\"ner\", aggregation_strategy ='simple')"
   ]
  },
  {
   "cell_type": "code",
   "execution_count": 15,
   "id": "46a1e98c-880d-4288-adeb-e9338aae1e20",
   "metadata": {
    "tags": []
   },
   "outputs": [],
   "source": [
    "with open('ner_train.pkl', 'rb') as f:\n",
    "    corpus_train = pickle.load(f)"
   ]
  },
  {
   "cell_type": "code",
   "execution_count": 16,
   "id": "a29e05d3-ac27-42e4-b599-3518864664ae",
   "metadata": {
    "tags": []
   },
   "outputs": [],
   "source": [
    "with open('ner_test.pkl', 'rb') as f:\n",
    "    corpus_test = pickle.load(f)"
   ]
  },
  {
   "cell_type": "code",
   "execution_count": 17,
   "id": "4b115b1c-1556-4d9b-bdfb-b22e613699f8",
   "metadata": {
    "tags": []
   },
   "outputs": [
    {
     "data": {
      "text/plain": [
       "[('CRICKET', 'O'),\n",
       " ('-', 'O'),\n",
       " ('LEICESTERSHIRE', 'B-ORG'),\n",
       " ('TAKE', 'O'),\n",
       " ('OVER', 'O'),\n",
       " ('AT', 'O'),\n",
       " ('TOP', 'O'),\n",
       " ('AFTER', 'O'),\n",
       " ('INNINGS', 'O'),\n",
       " ('VICTORY', 'O'),\n",
       " ('.', 'O')]"
      ]
     },
     "execution_count": 17,
     "metadata": {},
     "output_type": "execute_result"
    }
   ],
   "source": [
    "corpus_test[0]"
   ]
  },
  {
   "cell_type": "code",
   "execution_count": 18,
   "id": "60d1ec6e-e09c-473c-9f5f-e6332cb33d75",
   "metadata": {
    "tags": []
   },
   "outputs": [],
   "source": [
    "inputs = []\n",
    "targets = []\n",
    "\n",
    "for sentence_tag_pairs in corpus_test:\n",
    "    tokens = []\n",
    "    target = []\n",
    "    for toke, tag in sentence_tag_pairs:\n",
    "        tokens.append(toke)\n",
    "        target.append(tag)\n",
    "    inputs.append(tokens)\n",
    "    targets.append(target)"
   ]
  },
  {
   "cell_type": "code",
   "execution_count": 19,
   "id": "f018d1bb-fb2b-413f-b6ca-30d9bdd3165c",
   "metadata": {
    "tags": []
   },
   "outputs": [],
   "source": [
    "\n",
    "detokenizer = TreebankWordDetokenizer()"
   ]
  },
  {
   "cell_type": "code",
   "execution_count": 20,
   "id": "1d0bbd50-ec14-4b91-b189-3676924e70e6",
   "metadata": {
    "tags": []
   },
   "outputs": [
    {
     "data": {
      "text/plain": [
       "'He was well backed by England hopeful Mark Butcher who made 70 as Surrey closed on 429 for seven, a lead of 234.'"
      ]
     },
     "execution_count": 20,
     "metadata": {},
     "output_type": "execute_result"
    }
   ],
   "source": [
    "# Função que transforma lista de tokens em uma unica string,\n",
    "# se diferencia de \" \".join(str) por ser una detokenización inteligente\n",
    "# que interpreta donde colocar espacios, virgulas, pontos, hifens etc.\n",
    "\n",
    "detokenizer.detokenize(inputs[9])"
   ]
  },
  {
   "cell_type": "code",
   "execution_count": 21,
   "id": "81098ba1-f536-40ce-ad65-85ac78c7a981",
   "metadata": {
    "tags": []
   },
   "outputs": [
    {
     "data": {
      "text/plain": [
       "[{'entity_group': 'LOC',\n",
       "  'score': 0.99967515,\n",
       "  'word': 'England',\n",
       "  'start': 22,\n",
       "  'end': 29},\n",
       " {'entity_group': 'PER',\n",
       "  'score': 0.99974275,\n",
       "  'word': 'Mark Butcher',\n",
       "  'start': 38,\n",
       "  'end': 50},\n",
       " {'entity_group': 'ORG',\n",
       "  'score': 0.9996264,\n",
       "  'word': 'Surrey',\n",
       "  'start': 66,\n",
       "  'end': 72}]"
      ]
     },
     "execution_count": 21,
     "metadata": {},
     "output_type": "execute_result"
    }
   ],
   "source": [
    "ner(detokenizer.detokenize(inputs[9]))"
   ]
  },
  {
   "cell_type": "code",
   "execution_count": 30,
   "id": "9f4f32ee-5c8c-4ec2-8bf1-d689965541a4",
   "metadata": {
    "tags": []
   },
   "outputs": [],
   "source": [
    "def compute_prediction(tokens, input_, ner_result):\n",
    "    predicted_tags =[]\n",
    "    state = 'O'\n",
    "    current_idx = 0\n",
    "    for token in tokens:\n",
    "        index = input_.find(token)\n",
    "        \n",
    "        assert(index>=0)\n",
    "        current_idx +=index\n",
    "        tag='O'\n",
    "        for entity in ner_result:\n",
    "            if (current_idx >= entity['start'] and current_idx < entity['end']):\n",
    "                if (state == 'O'):\n",
    "                    state = 'B'\n",
    "                else:\n",
    "                    state = 'I'\n",
    "                tag = f\"{state}-{entity['entity_group']}\"\n",
    "                break\n",
    "        if (tag == 'O'):\n",
    "            state = 'O'\n",
    "        predicted_tags.append(tag)\n",
    "        input_ = input_[index + len(token):]\n",
    "        current_idx += len(token)\n",
    "    assert(len(predicted_tags) == len(tokens))\n",
    "    return predicted_tags"
   ]
  },
  {
   "cell_type": "code",
   "execution_count": 27,
   "id": "e27fca2c-1bb9-412e-9093-d5daefd9d0be",
   "metadata": {},
   "outputs": [],
   "source": [
    "input_ = detokenizer.detokenize(inputs[9])"
   ]
  },
  {
   "cell_type": "code",
   "execution_count": 28,
   "id": "c2181611-6deb-4de4-b9e0-184d1d8e5812",
   "metadata": {
    "tags": []
   },
   "outputs": [],
   "source": [
    "ner_result = ner(input_)"
   ]
  },
  {
   "cell_type": "code",
   "execution_count": 31,
   "id": "73528184-9275-418a-8871-5162ec2575a7",
   "metadata": {
    "tags": []
   },
   "outputs": [],
   "source": [
    "ptags = compute_prediction(inputs[9], input_, ner_result)"
   ]
  },
  {
   "cell_type": "code",
   "execution_count": 32,
   "id": "b593096c-80b1-43bc-a871-8fafcaa4dfcc",
   "metadata": {
    "tags": []
   },
   "outputs": [
    {
     "data": {
      "text/plain": [
       "['O',\n",
       " 'O',\n",
       " 'O',\n",
       " 'O',\n",
       " 'O',\n",
       " 'B-LOC',\n",
       " 'O',\n",
       " 'B-PER',\n",
       " 'I-PER',\n",
       " 'O',\n",
       " 'O',\n",
       " 'O',\n",
       " 'O',\n",
       " 'B-ORG',\n",
       " 'O',\n",
       " 'O',\n",
       " 'O',\n",
       " 'O',\n",
       " 'O',\n",
       " 'O',\n",
       " 'O',\n",
       " 'O',\n",
       " 'O',\n",
       " 'O',\n",
       " 'O']"
      ]
     },
     "execution_count": 32,
     "metadata": {},
     "output_type": "execute_result"
    }
   ],
   "source": [
    "ptags"
   ]
  },
  {
   "cell_type": "code",
   "execution_count": 35,
   "id": "b3f0a9d0-416b-45fe-85d3-1e0a16c90f58",
   "metadata": {
    "tags": []
   },
   "outputs": [
    {
     "data": {
      "text/plain": [
       "1.0"
      ]
     },
     "execution_count": 35,
     "metadata": {},
     "output_type": "execute_result"
    }
   ],
   "source": [
    "accuracy_score(targets[9], ptags)"
   ]
  },
  {
   "cell_type": "code",
   "execution_count": 36,
   "id": "91b329d3-fdc2-429a-9137-982e1ade373d",
   "metadata": {
    "tags": []
   },
   "outputs": [
    {
     "name": "stdout",
     "output_type": "stream",
     "text": [
      "O O\n",
      "O O\n",
      "O O\n",
      "O O\n",
      "O O\n",
      "B-LOC B-LOC\n",
      "O O\n",
      "B-PER B-PER\n",
      "I-PER I-PER\n",
      "O O\n",
      "O O\n",
      "O O\n",
      "O O\n",
      "B-ORG B-ORG\n",
      "O O\n",
      "O O\n",
      "O O\n",
      "O O\n",
      "O O\n",
      "O O\n",
      "O O\n",
      "O O\n",
      "O O\n",
      "O O\n",
      "O O\n"
     ]
    }
   ],
   "source": [
    "for targ, pred in zip(targets[9], ptags):\n",
    "    print(targ, pred)"
   ]
  },
  {
   "cell_type": "markdown",
   "id": "6656e2e8-0f53-4cdf-9e78-2dd66d4ccb42",
   "metadata": {},
   "source": [
    "# Task 5: Text Summarization"
   ]
  },
  {
   "cell_type": "code",
   "execution_count": 37,
   "id": "889bc723-1b78-4630-80d2-5f4ddce4922e",
   "metadata": {
    "tags": []
   },
   "outputs": [],
   "source": [
    "df_sum =pd.read_csv('bbc_text_cls.csv')"
   ]
  },
  {
   "cell_type": "code",
   "execution_count": 38,
   "id": "4e75e478-56b0-4df0-9ea9-9c46c0873cc8",
   "metadata": {
    "tags": []
   },
   "outputs": [
    {
     "data": {
      "application/vnd.jupyter.widget-view+json": {
       "model_id": "3710aedec2d54a9188a8b250e9f3da85"
      },
      "text/plain": [
       "                                                   text    labels\n",
       "0     Ad sales boost Time Warner profit\\n\\nQuarterly...  business\n",
       "1     Dollar gains on Greenspan speech\\n\\nThe dollar...  business\n",
       "2     Yukos unit buyer faces loan claim\\n\\nThe owner...  business\n",
       "3     High fuel prices hit BA's profits\\n\\nBritish A...  business\n",
       "4     Pernod takeover talk lifts Domecq\\n\\nShares in...  business\n",
       "...                                                 ...       ...\n",
       "2220  BT program to beat dialler scams\\n\\nBT is intr...      tech\n",
       "2221  Spam e-mails tempt net shoppers\\n\\nComputer us...      tech\n",
       "2222  Be careful how you code\\n\\nA new European dire...      tech\n",
       "2223  US cyber security chief resigns\\n\\nThe man mak...      tech\n",
       "2224  Losing yourself in online gaming\\n\\nOnline rol...      tech\n",
       "\n",
       "[2225 rows x 2 columns]"
      ]
     },
     "metadata": {},
     "output_type": "display_data"
    }
   ],
   "source": [
    "display(df_sum)"
   ]
  },
  {
   "cell_type": "code",
   "execution_count": 39,
   "id": "e189c6f4-7ae0-4627-81af-b91bbd121765",
   "metadata": {
    "tags": []
   },
   "outputs": [
    {
     "data": {
      "text/plain": [
       "text      2225\n",
       "labels    2225\n",
       "dtype: int64"
      ]
     },
     "execution_count": 39,
     "metadata": {},
     "output_type": "execute_result"
    }
   ],
   "source": [
    "df_sum.count()"
   ]
  },
  {
   "cell_type": "code",
   "execution_count": 40,
   "id": "7a06d2f0-665d-4bbd-8410-14d918acac35",
   "metadata": {
    "tags": []
   },
   "outputs": [
    {
     "data": {
      "text/plain": [
       "'Ad sales boost Time Warner profit\\n\\nQuarterly profits at US media giant TimeWarner jumped 76% to $1.13bn (£600m) for the three months to December, from $639m year-earlier.\\n\\nThe firm, which is now one of the biggest investors in Google, benefited from sales of high-speed internet connections and higher advert sales. TimeWarner said fourth quarter sales rose 2% to $11.1bn from $10.9bn. Its profits were buoyed by one-off gains which offset a profit dip at Warner Bros, and less users for AOL.\\n\\nTime Warner said on Friday that it now owns 8% of search-engine Google. But its own internet business, AOL, had has mixed fortunes. It lost 464,000 subscribers in the fourth quarter profits were lower than in the preceding three quarters. However, the company said AOL\\'s underlying profit before exceptional items rose 8% on the back of stronger internet advertising revenues. It hopes to increase subscribers by offering the online service free to TimeWarner internet customers and will try to sign up AOL\\'s existing customers for high-speed broadband. TimeWarner also has to restate 2000 and 2003 results following a probe by the US Securities Exchange Commission (SEC), which is close to concluding.\\n\\nTime Warner\\'s fourth quarter profits were slightly better than analysts\\' expectations. But its film division saw profits slump 27% to $284m, helped by box-office flops Alexander and Catwoman, a sharp contrast to year-earlier, when the third and final film in the Lord of the Rings trilogy boosted results. For the full-year, TimeWarner posted a profit of $3.36bn, up 27% from its 2003 performance, while revenues grew 6.4% to $42.09bn. \"Our financial performance was strong, meeting or exceeding all of our full-year objectives and greatly enhancing our flexibility,\" chairman and chief executive Richard Parsons said. For 2005, TimeWarner is projecting operating earnings growth of around 5%, and also expects higher revenue and wider profit margins.\\n\\nTimeWarner is to restate its accounts as part of efforts to resolve an inquiry into AOL by US market regulators. It has already offered to pay $300m to settle charges, in a deal that is under review by the SEC. The company said it was unable to estimate the amount it needed to set aside for legal reserves, which it previously set at $500m. It intends to adjust the way it accounts for a deal with German music publisher Bertelsmann\\'s purchase of a stake in AOL Europe, which it had reported as advertising revenue. It will now book the sale of its stake in AOL Europe as a loss on the value of that stake.'"
      ]
     },
     "execution_count": 40,
     "metadata": {},
     "output_type": "execute_result"
    }
   ],
   "source": [
    "df_sum.text.iloc[0]"
   ]
  },
  {
   "cell_type": "code",
   "execution_count": 42,
   "id": "5597134b-1c5f-48cd-b3be-ee2d48707f46",
   "metadata": {
    "tags": []
   },
   "outputs": [],
   "source": [
    "doc = df_sum[df_sum.labels == 'business']['text'].sample(random_state =42)"
   ]
  },
  {
   "cell_type": "code",
   "execution_count": 46,
   "id": "7f1ceaef-6c75-4f72-a14b-3f0f5488fcea",
   "metadata": {
    "tags": []
   },
   "outputs": [],
   "source": [
    "def wrap(x):\n",
    "    return textwrap.fill(x, replace_whitespace=False, fix_sentence_endings = True)"
   ]
  },
  {
   "cell_type": "code",
   "execution_count": 47,
   "id": "e0fe939b-6bd4-42f7-8837-7381314de62f",
   "metadata": {
    "tags": []
   },
   "outputs": [
    {
     "name": "stdout",
     "output_type": "stream",
     "text": [
      "Christmas sales worst since 1981\n",
      "\n",
      "UK retail sales fell in December,\n",
      "failing to meet expectations and making it by some counts the worst\n",
      "Christmas since 1981.\n",
      "\n",
      "Retail sales dropped by 1% on the month in\n",
      "December, after a 0.6% rise in November, the Office for National\n",
      "Statistics (ONS) said.  The ONS revised the annual 2004 rate of growth\n",
      "down from the 5.9% estimated in November to 3.2%. A number of\n",
      "retailers have already reported poor figures for December.  Clothing\n",
      "retailers and non-specialist stores were the worst hit with only\n",
      "internet retailers showing any significant growth, according to the\n",
      "ONS.\n",
      "\n",
      "The last time retailers endured a tougher Christmas was 23 years\n",
      "previously, when sales plunged 1.7%.\n",
      "\n",
      "The ONS echoed an earlier\n",
      "caution from Bank of England governor Mervyn King not to read too much\n",
      "into the poor December figures.  Some analysts put a positive gloss on\n",
      "the figures, pointing out that the non-seasonally-adjusted figures\n",
      "showed a performance comparable with 2003. The November-December jump\n",
      "last year was roughly comparable with recent averages, although some\n",
      "way below the serious booms seen in the 1990s.  And figures for retail\n",
      "volume outperformed measures of actual spending, an indication that\n",
      "consumers are looking for bargains, and retailers are cutting their\n",
      "prices.\n",
      "\n",
      "However, reports from some High Street retailers highlight\n",
      "the weakness of the sector.  Morrisons, Woolworths, House of Fraser,\n",
      "Marks & Spencer and Big Food all said that the festive period was\n",
      "disappointing.\n",
      "\n",
      "And a British Retail Consortium survey found that\n",
      "Christmas 2004 was the worst for 10 years.  Yet, other retailers -\n",
      "including HMV, Monsoon, Jessops, Body Shop and Tesco - reported that\n",
      "festive sales were well up on last year.  Investec chief economist\n",
      "Philip Shaw said he did not expect the poor retail figures to have any\n",
      "immediate effect on interest rates.  \"The retail sales figures are\n",
      "very weak, but as Bank of England governor Mervyn King indicated last\n",
      "night, you don't really get an accurate impression of Christmas\n",
      "trading until about Easter,\" said Mr Shaw.  \"Our view is the Bank of\n",
      "England will keep its powder dry and wait to see the big picture.\"\n"
     ]
    }
   ],
   "source": [
    "print(wrap(doc.iloc[0]))"
   ]
  },
  {
   "cell_type": "code",
   "execution_count": 48,
   "id": "402c19fd-ad8c-42d0-b129-4ff72e1c224a",
   "metadata": {
    "tags": []
   },
   "outputs": [
    {
     "name": "stderr",
     "output_type": "stream",
     "text": [
      "No model was supplied, defaulted to sshleifer/distilbart-cnn-12-6 and revision a4f8f3e (https://huggingface.co/sshleifer/distilbart-cnn-12-6).\n",
      "Using a pipeline without specifying a model name and revision in production is not recommended.\n"
     ]
    },
    {
     "data": {
      "application/vnd.jupyter.widget-view+json": {
       "model_id": "ebe9a39525dd4b79947ba2dc4c25d15b",
       "version_major": 2,
       "version_minor": 0
      },
      "text/plain": [
       "HBox(children=(FloatProgress(value=1.0, bar_style='info', description='Downloading (…)lve/main/config.json', m…"
      ]
     },
     "metadata": {},
     "output_type": "display_data"
    },
    {
     "name": "stdout",
     "output_type": "stream",
     "text": [
      "\n"
     ]
    },
    {
     "data": {
      "application/vnd.jupyter.widget-view+json": {
       "model_id": "620852afe6774402ad02abbfeed3b6b1",
       "version_major": 2,
       "version_minor": 0
      },
      "text/plain": [
       "HBox(children=(FloatProgress(value=0.0, description='Downloading pytorch_model.bin', max=1222317369.0, style=P…"
      ]
     },
     "metadata": {},
     "output_type": "display_data"
    },
    {
     "name": "stdout",
     "output_type": "stream",
     "text": [
      "\n"
     ]
    },
    {
     "data": {
      "application/vnd.jupyter.widget-view+json": {
       "model_id": "4cf0bff550a84c4f9d8a45f6f8a6ce90",
       "version_major": 2,
       "version_minor": 0
      },
      "text/plain": [
       "HBox(children=(FloatProgress(value=0.0, description='Downloading (…)okenizer_config.json', max=26.0, style=Pro…"
      ]
     },
     "metadata": {},
     "output_type": "display_data"
    },
    {
     "name": "stdout",
     "output_type": "stream",
     "text": [
      "\n"
     ]
    },
    {
     "data": {
      "application/vnd.jupyter.widget-view+json": {
       "model_id": "ed531d49709545b0a664f12d70f43d68",
       "version_major": 2,
       "version_minor": 0
      },
      "text/plain": [
       "HBox(children=(FloatProgress(value=1.0, bar_style='info', description='Downloading (…)olve/main/vocab.json', m…"
      ]
     },
     "metadata": {},
     "output_type": "display_data"
    },
    {
     "name": "stdout",
     "output_type": "stream",
     "text": [
      "\n"
     ]
    },
    {
     "data": {
      "application/vnd.jupyter.widget-view+json": {
       "model_id": "26f553ce10084cc4b88d5868acc8f713",
       "version_major": 2,
       "version_minor": 0
      },
      "text/plain": [
       "HBox(children=(FloatProgress(value=1.0, bar_style='info', description='Downloading (…)olve/main/merges.txt', m…"
      ]
     },
     "metadata": {},
     "output_type": "display_data"
    },
    {
     "name": "stdout",
     "output_type": "stream",
     "text": [
      "\n"
     ]
    }
   ],
   "source": [
    "summarizer = pipeline(\"summarization\")"
   ]
  },
  {
   "cell_type": "code",
   "execution_count": 50,
   "id": "c1515e78-98e9-45d5-ae40-010557b8e7f1",
   "metadata": {
    "tags": []
   },
   "outputs": [
    {
     "data": {
      "text/plain": [
       "['Christmas sales worst since 1981',\n",
       " '\\nUK retail sales fell in December, failing to meet expectations and making it by some counts the worst Christmas since 1981.\\n\\nRetail sales dropped by 1% on the month in December, after a 0.6% rise in November, the Office for National Statistics (ONS) said. The ONS revised the annual 2004 rate of growth down from the 5.9% estimated in November to 3.2%. A number of retailers have already reported poor figures for December. Clothing retailers and non-specialist stores were the worst hit with only internet retailers showing any significant growth, according to the ONS.\\n\\nThe last time retailers endured a tougher Christmas was 23 years previously, when sales plunged 1.7%.\\n\\nThe ONS echoed an earlier caution from Bank of England governor Mervyn King not to read too much into the poor December figures. Some analysts put a positive gloss on the figures, pointing out that the non-seasonally-adjusted figures showed a performance comparable with 2003. The November-December jump last year was roughly comparable with recent averages, although some way below the serious booms seen in the 1990s. And figures for retail volume outperformed measures of actual spending, an indication that consumers are looking for bargains, and retailers are cutting their prices.\\n\\nHowever, reports from some High Street retailers highlight the weakness of the sector. Morrisons, Woolworths, House of Fraser, Marks & Spencer and Big Food all said that the festive period was disappointing.\\n\\nAnd a British Retail Consortium survey found that Christmas 2004 was the worst for 10 years. Yet, other retailers - including HMV, Monsoon, Jessops, Body Shop and Tesco - reported that festive sales were well up on last year. Investec chief economist Philip Shaw said he did not expect the poor retail figures to have any immediate effect on interest rates. \"The retail sales figures are very weak, but as Bank of England governor Mervyn King indicated last night, you don\\'t really get an accurate impression of Christmas trading until about Easter,\" said Mr Shaw. \"Our view is the Bank of England will keep its powder dry and wait to see the big picture.\"']"
      ]
     },
     "execution_count": 50,
     "metadata": {},
     "output_type": "execute_result"
    }
   ],
   "source": [
    "doc.iloc[0].split(\"\\n\",1)"
   ]
  },
  {
   "cell_type": "code",
   "execution_count": 49,
   "id": "bcce950d-aa5c-4813-a75d-7a7eec070ea1",
   "metadata": {
    "tags": []
   },
   "outputs": [
    {
     "data": {
      "text/plain": [
       "'\\nUK retail sales fell in December, failing to meet expectations and making it by some counts the worst Christmas since 1981.\\n\\nRetail sales dropped by 1% on the month in December, after a 0.6% rise in November, the Office for National Statistics (ONS) said. The ONS revised the annual 2004 rate of growth down from the 5.9% estimated in November to 3.2%. A number of retailers have already reported poor figures for December. Clothing retailers and non-specialist stores were the worst hit with only internet retailers showing any significant growth, according to the ONS.\\n\\nThe last time retailers endured a tougher Christmas was 23 years previously, when sales plunged 1.7%.\\n\\nThe ONS echoed an earlier caution from Bank of England governor Mervyn King not to read too much into the poor December figures. Some analysts put a positive gloss on the figures, pointing out that the non-seasonally-adjusted figures showed a performance comparable with 2003. The November-December jump last year was roughly comparable with recent averages, although some way below the serious booms seen in the 1990s. And figures for retail volume outperformed measures of actual spending, an indication that consumers are looking for bargains, and retailers are cutting their prices.\\n\\nHowever, reports from some High Street retailers highlight the weakness of the sector. Morrisons, Woolworths, House of Fraser, Marks & Spencer and Big Food all said that the festive period was disappointing.\\n\\nAnd a British Retail Consortium survey found that Christmas 2004 was the worst for 10 years. Yet, other retailers - including HMV, Monsoon, Jessops, Body Shop and Tesco - reported that festive sales were well up on last year. Investec chief economist Philip Shaw said he did not expect the poor retail figures to have any immediate effect on interest rates. \"The retail sales figures are very weak, but as Bank of England governor Mervyn King indicated last night, you don\\'t really get an accurate impression of Christmas trading until about Easter,\" said Mr Shaw. \"Our view is the Bank of England will keep its powder dry and wait to see the big picture.\"'"
      ]
     },
     "execution_count": 49,
     "metadata": {},
     "output_type": "execute_result"
    }
   ],
   "source": [
    "doc.iloc[0].split(\"\\n\",1)[1]"
   ]
  },
  {
   "cell_type": "code",
   "execution_count": 51,
   "id": "1505740e-2fec-4789-96f5-692cad61a4f5",
   "metadata": {
    "tags": []
   },
   "outputs": [
    {
     "data": {
      "text/plain": [
       "[{'summary_text': ' Retail sales dropped by 1% on the month in December, after a 0.6% rise in November . Clothing retailers and non-specialist stores were the worst hit with only internet retailers showing any significant growth . The last time retailers endured a tougher Christmas was 23 years ago, when sales plunged 1.7% .'}]"
      ]
     },
     "execution_count": 51,
     "metadata": {},
     "output_type": "execute_result"
    }
   ],
   "source": [
    "summarizer(doc.iloc[0].split(\"\\n\",1)[1])"
   ]
  },
  {
   "cell_type": "code",
   "execution_count": 52,
   "id": "7dc77cb1-76a3-4781-9334-94534bd8b0da",
   "metadata": {
    "tags": []
   },
   "outputs": [],
   "source": [
    "def print_summary(doc_):\n",
    "    result = summarizer(doc_.iloc[0].split('\\n',1)[1])\n",
    "    print(wrap(result[0]['summary_text']))"
   ]
  },
  {
   "cell_type": "code",
   "execution_count": 53,
   "id": "d7e4be97-13db-4093-8b8b-36812a34016a",
   "metadata": {
    "tags": []
   },
   "outputs": [
    {
     "name": "stdout",
     "output_type": "stream",
     "text": [
      " Retail sales dropped by 1% on the month in December, after a 0.6%\n",
      "rise in November . Clothing retailers and non-specialist stores were\n",
      "the worst hit with only internet retailers showing any significant\n",
      "growth . The last time retailers endured a tougher Christmas was 23\n",
      "years ago, when sales plunged 1.7% .\n"
     ]
    }
   ],
   "source": [
    "print_summary(doc)"
   ]
  },
  {
   "cell_type": "code",
   "execution_count": 58,
   "id": "51020579-fcb7-4c48-89b7-2caf48df3d6e",
   "metadata": {
    "tags": []
   },
   "outputs": [
    {
     "name": "stderr",
     "output_type": "stream",
     "text": [
      "Your max_length is set to 142, but your input_length is only 7. Since this is a summarization task, where outputs shorter than the input are typically wanted, you might consider decreasing max_length manually, e.g. summarizer('...', max_length=3)\n"
     ]
    },
    {
     "data": {
      "text/plain": [
       "[{'summary_text': ' Christmas sales worst since 1981 with Christmas sales worse since 1981 . Christmas sales sales worst year-on-year since 1981, with Christmas Day sales worse than 1981 . Sales slump for the first time in more than 30 years, with sales down by more than a quarter of all sales down .'}]"
      ]
     },
     "execution_count": 58,
     "metadata": {},
     "output_type": "execute_result"
    }
   ],
   "source": [
    "summarizer(doc.iloc[0].split(\"\\n\",1)[0])"
   ]
  },
  {
   "cell_type": "code",
   "execution_count": 63,
   "id": "7b67117c-ed53-4856-9a7d-94d9f6924c80",
   "metadata": {
    "tags": []
   },
   "outputs": [],
   "source": [
    "doc_= df_sum[df_sum.labels == 'business']['text']"
   ]
  },
  {
   "cell_type": "code",
   "execution_count": 65,
   "id": "95852992-3433-478c-83c4-33e262981b1d",
   "metadata": {
    "tags": []
   },
   "outputs": [],
   "source": [
    "i = np.random.choice(len(doc_))"
   ]
  },
  {
   "cell_type": "code",
   "execution_count": 69,
   "id": "5eff1023-9c5d-4bfa-a8bd-805dac3ca54d",
   "metadata": {
    "tags": []
   },
   "outputs": [
    {
     "name": "stdout",
     "output_type": "stream",
     "text": [
      " BMW sold nearly 95,000 cars in Asia last year, up 2.6% on 2003 .\n",
      "German carmaker aiming to boost annual sales in Asia to 150,000 by\n",
      "2008 . China remains main area of concern for BMW after sales there\n",
      "fell 16% last year . BMW is launching a revamped version of its\n",
      "3-Series saloon class next month .\n"
     ]
    }
   ],
   "source": [
    "print(wrap(summarizer(doc_.iloc[i].split(\"\\n\", 1)[1])[0]['summary_text']))"
   ]
  },
  {
   "cell_type": "code",
   "execution_count": 68,
   "id": "d9ba523d-00cb-4b9f-9c9e-d1d151dff44e",
   "metadata": {
    "tags": []
   },
   "outputs": [
    {
     "name": "stdout",
     "output_type": "stream",
     "text": [
      "BMW drives record sales in Asia\n",
      "\n",
      "BMW has forecast sales growth of at\n",
      "least 10% in Asia this year after registering record sales there in\n",
      "2004.\n",
      "\n",
      "The luxury carmaker saw strong sales of its three marques -\n",
      "BMW, Mini and Rolls-Royce - in Asia last year after the launch of\n",
      "three new models.  The company, which is vying with Mercedes-Benz for\n",
      "the title of leading premium carmaker, is confident about its\n",
      "prospects for the region in 2005. It is launching a revamped version\n",
      "of its 3-Series saloon class next month.\n",
      "\n",
      "BMW sold nearly 95,000 cars\n",
      "in Asia last year, up 2.6% on 2003.\n",
      "\n",
      "BMW-brand sales rose 2.3% to\n",
      "80,600 while sales of Mini models rose 3.6% to 14,800. There was also\n",
      "a significant increase in sales of Rolls-Royces on the continent.  BMW\n",
      "sold more than 100 of the iconic models compared with just ten the\n",
      "previous year.  The German carmaker is aiming to boost annual sales in\n",
      "Asia to 150,000 by 2008. \"Here in Asia, we consider a double-digit\n",
      "increase in retail on the order of 10 to 15% to be realistic on the\n",
      "basis of current features,\" said Helmut Panke, BMW's group chief\n",
      "executive.\n",
      "\n",
      "China remains the main area of concern for BMW after sales\n",
      "there fell 16% last year.  However, BMW is hopeful of a much better\n",
      "year in 2005 as its direct investment in China begins to pay\n",
      "dividends.  The company only began assembling luxury high-powered\n",
      "sedans in China in 2003. 2004 was generally a good year for BMW, which\n",
      "saw revenues from its core car-making operations rise 11%.\n"
     ]
    }
   ],
   "source": [
    "print(wrap(doc_.iloc[i]))"
   ]
  },
  {
   "cell_type": "markdown",
   "id": "a4e7d7d9-7393-4680-9749-13ef7530dff1",
   "metadata": {},
   "source": [
    "# Task 5: Machine Translation"
   ]
  },
  {
   "cell_type": "code",
   "execution_count": 70,
   "id": "e7345eef-7ef3-4069-b00a-8a517b356450",
   "metadata": {
    "tags": []
   },
   "outputs": [],
   "source": [
    "!unzip -nq spa-eng.zip"
   ]
  },
  {
   "cell_type": "code",
   "execution_count": 71,
   "id": "22be716c-3941-49f8-903f-70cd8b89f720",
   "metadata": {
    "tags": []
   },
   "outputs": [
    {
     "name": "stdout",
     "output_type": "stream",
     "text": [
      "1.1GptContext.ipynb   AirlineTweets.csv\t\t ner_test.pkl\n",
      "1.2.FineTuning.ipynb  Untitled1.ipynb\t\t ner_train.pkl\n",
      "1.3.ChatGPT.ipynb     bbc_text_cls.csv\t\t robert_frost.txt\n",
      "1.GPT.ipynb\t      begincorner.ipynb\t\t spa-eng\n",
      "2.Dall-e.ipynb\t      cardio_alco.csv\t\t spa-eng.zip\n",
      "3.GPTClone.ipynb      cardio_base.csv\t\t treino.json\n",
      "4.TestaChat.ipynb     covid_data.csv\n",
      "5.GPTClone2.ipynb     machine_learning_examples\n"
     ]
    }
   ],
   "source": [
    "!ls"
   ]
  },
  {
   "cell_type": "code",
   "execution_count": 13,
   "id": "efb325b5-15f8-435d-b74c-07fc7c6cd379",
   "metadata": {
    "tags": []
   },
   "outputs": [
    {
     "name": "stdout",
     "output_type": "stream",
     "text": [
      "_about.txt  spa.txt\n"
     ]
    }
   ],
   "source": [
    "!ls spa-eng/"
   ]
  },
  {
   "cell_type": "code",
   "execution_count": 14,
   "id": "cd6ec2f2-53fc-4f98-bdf5-4304303206a5",
   "metadata": {
    "tags": []
   },
   "outputs": [
    {
     "name": "stdout",
     "output_type": "stream",
     "text": [
      "Go.\tVe.\n",
      "Go.\tVete.\n",
      "Go.\tVaya.\n",
      "Go.\tVáyase.\n",
      "Hi.\tHola.\n",
      "Run!\t¡Corre!\n",
      "Run.\tCorred.\n",
      "Who?\t¿Quién?\n",
      "Fire!\t¡Fuego!\n",
      "Fire!\t¡Incendio!\n"
     ]
    }
   ],
   "source": [
    "!head spa-eng/spa.txt"
   ]
  },
  {
   "cell_type": "code",
   "execution_count": 15,
   "id": "c02a2b26-2dd8-4ef1-be01-ac10e4fcb295",
   "metadata": {
    "tags": []
   },
   "outputs": [],
   "source": [
    "eng2spa = {}\n",
    "for line in open('spa-eng/spa.txt'):\n",
    "    line = line.rstrip()\n",
    "    eng, spa = line.split(\"\\t\")\n",
    "    if (eng not in eng2spa):\n",
    "        eng2spa[eng] =[]\n",
    "    eng2spa[eng].append(spa)"
   ]
  },
  {
   "cell_type": "code",
   "execution_count": 16,
   "id": "06a66177-308e-4e9b-9d5f-d8b1f7a024aa",
   "metadata": {
    "tags": []
   },
   "outputs": [],
   "source": [
    "from nltk.translate.bleu_score import sentence_bleu, SmoothingFunction\n",
    "from nltk.tokenize import RegexpTokenizer"
   ]
  },
  {
   "cell_type": "code",
   "execution_count": 17,
   "id": "75e9e734-4817-4868-9dca-6a4531e7585e",
   "metadata": {
    "tags": []
   },
   "outputs": [],
   "source": [
    "tokenizer = RegexpTokenizer(r'\\w+')"
   ]
  },
  {
   "cell_type": "code",
   "execution_count": 18,
   "id": "434dea87-560a-478e-9b7f-600e04e42fa9",
   "metadata": {
    "tags": []
   },
   "outputs": [],
   "source": [
    "tokens = tokenizer.tokenize(\"Qué me cuentas?\".lower())"
   ]
  },
  {
   "cell_type": "code",
   "execution_count": 19,
   "id": "fbef6d85-5f57-43e3-9877-c05b60e70e46",
   "metadata": {
    "tags": []
   },
   "outputs": [
    {
     "name": "stderr",
     "output_type": "stream",
     "text": [
      "/opt/conda/lib/python3.7/site-packages/nltk/translate/bleu_score.py:552: UserWarning: \n",
      "The hypothesis contains 0 counts of 4-gram overlaps.\n",
      "Therefore the BLEU score evaluates to 0, independently of\n",
      "how many N-gram overlaps of lower order it contains.\n",
      "Consider using lower n-gram order or use SmoothingFunction()\n",
      "  warnings.warn(_msg)\n"
     ]
    },
    {
     "data": {
      "text/plain": [
       "1.2213386697554703e-77"
      ]
     },
     "execution_count": 19,
     "metadata": {},
     "output_type": "execute_result"
    }
   ],
   "source": [
    "sentence_bleu([tokens], tokens)"
   ]
  },
  {
   "cell_type": "code",
   "execution_count": 12,
   "id": "278e3604-5ac6-4d1f-82b7-9808d0c38295",
   "metadata": {
    "tags": []
   },
   "outputs": [
    {
     "data": {
      "application/vnd.jupyter.widget-view+json": {
       "model_id": "1249e280e43d45e99b099fafa0c0214d",
       "version_major": 2,
       "version_minor": 0
      },
      "text/plain": [
       "HBox(children=(FloatProgress(value=0.0, description='Downloading (…)olve/main/source.spm', max=801636.0, style…"
      ]
     },
     "metadata": {},
     "output_type": "display_data"
    },
    {
     "name": "stdout",
     "output_type": "stream",
     "text": [
      "\n"
     ]
    },
    {
     "data": {
      "application/vnd.jupyter.widget-view+json": {
       "model_id": "df3a25c855794596ab9c20bc0d378b29",
       "version_major": 2,
       "version_minor": 0
      },
      "text/plain": [
       "HBox(children=(FloatProgress(value=0.0, description='Downloading (…)olve/main/target.spm', max=825924.0, style…"
      ]
     },
     "metadata": {},
     "output_type": "display_data"
    },
    {
     "name": "stdout",
     "output_type": "stream",
     "text": [
      "\n"
     ]
    },
    {
     "data": {
      "application/vnd.jupyter.widget-view+json": {
       "model_id": "76718df1f65f4cc690a8323b593df0a2",
       "version_major": 2,
       "version_minor": 0
      },
      "text/plain": [
       "HBox(children=(FloatProgress(value=1.0, bar_style='info', description='Downloading (…)olve/main/vocab.json', m…"
      ]
     },
     "metadata": {},
     "output_type": "display_data"
    },
    {
     "name": "stdout",
     "output_type": "stream",
     "text": [
      "\n"
     ]
    },
    {
     "name": "stderr",
     "output_type": "stream",
     "text": [
      "/opt/conda/lib/python3.7/site-packages/transformers/models/marian/tokenization_marian.py:194: UserWarning: Recommended: pip install sacremoses.\n",
      "  warnings.warn(\"Recommended: pip install sacremoses.\")\n"
     ]
    }
   ],
   "source": [
    "translator = pipeline(\"translation\", model=\"Helsinki-NLP/opus-mt-en-es\")"
   ]
  },
  {
   "cell_type": "code",
   "execution_count": 20,
   "id": "8abdf077-85e7-4406-930a-2a473d8e9502",
   "metadata": {
    "tags": []
   },
   "outputs": [
    {
     "data": {
      "text/plain": [
       "[{'translation_text': 'Me gustan los huevos y el jamón.'}]"
      ]
     },
     "execution_count": 20,
     "metadata": {},
     "output_type": "execute_result"
    }
   ],
   "source": [
    "translator(\"I like eggs and ham\")"
   ]
  },
  {
   "cell_type": "code",
   "execution_count": 21,
   "id": "d2d00b2a-76fa-4717-b296-24043a639383",
   "metadata": {
    "tags": []
   },
   "outputs": [],
   "source": [
    "eng_phrases = list(eng2spa.keys())"
   ]
  },
  {
   "cell_type": "code",
   "execution_count": 22,
   "id": "a7385b58-a335-4d94-a4df-bddd15fdb8fe",
   "metadata": {
    "tags": []
   },
   "outputs": [
    {
     "data": {
      "text/plain": [
       "102904"
      ]
     },
     "execution_count": 22,
     "metadata": {},
     "output_type": "execute_result"
    }
   ],
   "source": [
    "len(eng_phrases)"
   ]
  },
  {
   "cell_type": "code",
   "execution_count": 25,
   "id": "033cd44e-760c-4a5c-9766-73ac2e40abc1",
   "metadata": {
    "tags": []
   },
   "outputs": [],
   "source": [
    "eng_phrases_subset =  eng_phrases[20000:20100]"
   ]
  },
  {
   "cell_type": "code",
   "execution_count": 26,
   "id": "38bf371a-3d16-4e69-a0e2-2dfecb5f40b2",
   "metadata": {
    "tags": []
   },
   "outputs": [],
   "source": [
    "translations =  translator(eng_phrases_subset)"
   ]
  },
  {
   "cell_type": "code",
   "execution_count": 28,
   "id": "85fe5e24-0213-4c88-bbbd-f31a1e8049e2",
   "metadata": {
    "tags": []
   },
   "outputs": [
    {
     "name": "stderr",
     "output_type": "stream",
     "text": [
      "/opt/conda/lib/python3.7/site-packages/nltk/translate/bleu_score.py:552: UserWarning: \n",
      "The hypothesis contains 0 counts of 2-gram overlaps.\n",
      "Therefore the BLEU score evaluates to 0, independently of\n",
      "how many N-gram overlaps of lower order it contains.\n",
      "Consider using lower n-gram order or use SmoothingFunction()\n",
      "  warnings.warn(_msg)\n",
      "/opt/conda/lib/python3.7/site-packages/nltk/translate/bleu_score.py:552: UserWarning: \n",
      "The hypothesis contains 0 counts of 3-gram overlaps.\n",
      "Therefore the BLEU score evaluates to 0, independently of\n",
      "how many N-gram overlaps of lower order it contains.\n",
      "Consider using lower n-gram order or use SmoothingFunction()\n",
      "  warnings.warn(_msg)\n"
     ]
    }
   ],
   "source": [
    "scores = []\n",
    "for eng, pred in zip (eng_phrases_subset, translations):\n",
    "    matches = eng2spa[eng]\n",
    "    spa_pred = tokenizer.tokenize(pred['translation_text'].lower())\n",
    "    \n",
    "    score = sentence_bleu(matches, spa_pred)\n",
    "    scores.append(score)"
   ]
  },
  {
   "cell_type": "code",
   "execution_count": 29,
   "id": "acfc4b3b-78a1-4364-91bf-512b036e605a",
   "metadata": {
    "tags": []
   },
   "outputs": [
    {
     "data": {
      "text/plain": [
       "[0,\n",
       " 0,\n",
       " 0,\n",
       " 0,\n",
       " 0,\n",
       " 2.725503796035106e-233,\n",
       " 0,\n",
       " 0,\n",
       " 0,\n",
       " 0,\n",
       " 0,\n",
       " 0,\n",
       " 0,\n",
       " 0,\n",
       " 1.826959830028561e-233,\n",
       " 0,\n",
       " 0,\n",
       " 0,\n",
       " 6.065720248837714e-233,\n",
       " 0,\n",
       " 0,\n",
       " 0,\n",
       " 0,\n",
       " 0,\n",
       " 0,\n",
       " 0,\n",
       " 0,\n",
       " 0,\n",
       " 0,\n",
       " 0,\n",
       " 0,\n",
       " 0,\n",
       " 0,\n",
       " 0,\n",
       " 0,\n",
       " 0,\n",
       " 0,\n",
       " 0,\n",
       " 0,\n",
       " 0,\n",
       " 0,\n",
       " 0,\n",
       " 0,\n",
       " 0,\n",
       " 0,\n",
       " 0,\n",
       " 0,\n",
       " 0,\n",
       " 0,\n",
       " 0,\n",
       " 0,\n",
       " 5.576354408956027e-233,\n",
       " 1.4957881974825052e-233,\n",
       " 2.518691618724825e-233,\n",
       " 2.518691618724825e-233,\n",
       " 0,\n",
       " 0,\n",
       " 0,\n",
       " 0,\n",
       " 0,\n",
       " 0,\n",
       " 0,\n",
       " 0,\n",
       " 0,\n",
       " 0,\n",
       " 0,\n",
       " 0,\n",
       " 0,\n",
       " 2.2314537754447196e-233,\n",
       " 0,\n",
       " 0,\n",
       " 0,\n",
       " 0,\n",
       " 0,\n",
       " 0,\n",
       " 0,\n",
       " 0,\n",
       " 0,\n",
       " 0,\n",
       " 0,\n",
       " 0,\n",
       " 0,\n",
       " 4.152620446125756e-233,\n",
       " 0,\n",
       " 0,\n",
       " 1.8167085284303287e-233,\n",
       " 2.975482570578e-233,\n",
       " 1.8167085284303287e-233,\n",
       " 0,\n",
       " 1.8375610538439091e-233,\n",
       " 0,\n",
       " 0,\n",
       " 0,\n",
       " 0,\n",
       " 4.905741404709443e-233,\n",
       " 0,\n",
       " 0,\n",
       " 0,\n",
       " 0,\n",
       " 0]"
      ]
     },
     "execution_count": 29,
     "metadata": {},
     "output_type": "execute_result"
    }
   ],
   "source": [
    "scores"
   ]
  },
  {
   "cell_type": "code",
   "execution_count": 31,
   "id": "d073f2e5-2737-4999-901b-ef8ed0c245c8",
   "metadata": {
    "tags": []
   },
   "outputs": [],
   "source": [
    "import matplotlib.pyplot as plt"
   ]
  },
  {
   "cell_type": "code",
   "execution_count": 33,
   "id": "8957325e-9692-41e9-918c-74396ec19c3f",
   "metadata": {
    "tags": []
   },
   "outputs": [
    {
     "data": {
      "text/plain": [
       "(array([86.,  0.,  0.,  0.,  0.,  0.,  0.,  0.,  0.,  0.,  0.,  0.,  1.,\n",
       "         0.,  2.,  2.,  0.,  0.,  1.,  0.,  2.,  0.,  1.,  0.,  1.,  0.,\n",
       "         0.,  0.,  0.,  0.,  0.,  0.,  0.,  0.,  1.,  0.,  0.,  0.,  0.,\n",
       "         0.,  1.,  0.,  0.,  0.,  0.,  1.,  0.,  0.,  0.,  1.]),\n",
       " array([0.00000000e+000, 1.21314405e-234, 2.42628810e-234, 3.63943215e-234,\n",
       "        4.85257620e-234, 6.06572025e-234, 7.27886430e-234, 8.49200835e-234,\n",
       "        9.70515240e-234, 1.09182964e-233, 1.21314405e-233, 1.33445845e-233,\n",
       "        1.45577286e-233, 1.57708726e-233, 1.69840167e-233, 1.81971607e-233,\n",
       "        1.94103048e-233, 2.06234488e-233, 2.18365929e-233, 2.30497369e-233,\n",
       "        2.42628810e-233, 2.54760250e-233, 2.66891691e-233, 2.79023131e-233,\n",
       "        2.91154572e-233, 3.03286012e-233, 3.15417453e-233, 3.27548893e-233,\n",
       "        3.39680334e-233, 3.51811774e-233, 3.63943215e-233, 3.76074655e-233,\n",
       "        3.88206096e-233, 4.00337536e-233, 4.12468977e-233, 4.24600417e-233,\n",
       "        4.36731858e-233, 4.48863298e-233, 4.60994739e-233, 4.73126179e-233,\n",
       "        4.85257620e-233, 4.97389060e-233, 5.09520501e-233, 5.21651941e-233,\n",
       "        5.33783382e-233, 5.45914822e-233, 5.58046263e-233, 5.70177703e-233,\n",
       "        5.82309144e-233, 5.94440584e-233, 6.06572025e-233]),\n",
       " <a list of 50 Patch objects>)"
      ]
     },
     "execution_count": 33,
     "metadata": {},
     "output_type": "execute_result"
    },
    {
     "data": {
      "image/png": "[encoded data removed]",
      "text/plain": [
       "<Figure size 640x480 with 1 Axes>"
      ]
     },
     "metadata": {},
     "output_type": "display_data"
    }
   ],
   "source": [
    "%matplotlib inline\n",
    "plt.hist(scores, bins = 50)"
   ]
  },
  {
   "cell_type": "code",
   "execution_count": 34,
   "id": "d70707c9-ead3-49f8-a772-39da4ff8b56f",
   "metadata": {
    "tags": []
   },
   "outputs": [
    {
     "data": {
      "text/plain": [
       "4.2463986026352043e-234"
      ]
     },
     "execution_count": 34,
     "metadata": {},
     "output_type": "execute_result"
    }
   ],
   "source": [
    "np.mean(scores)"
   ]
  },
  {
   "cell_type": "markdown",
   "id": "955a51df-bb63-48ed-a7d9-c4bacbd90f8d",
   "metadata": {},
   "source": [
    "# Task 6: Machine Translation"
   ]
  },
  {
   "cell_type": "code",
   "execution_count": 36,
   "id": "2a057c82-333d-431e-8270-e38850d676e2",
   "metadata": {
    "tags": []
   },
   "outputs": [
    {
     "name": "stderr",
     "output_type": "stream",
     "text": [
      "No model was supplied, defaulted to distilbert-base-cased-distilled-squad and revision 626af31 (https://huggingface.co/distilbert-base-cased-distilled-squad).\n",
      "Using a pipeline without specifying a model name and revision in production is not recommended.\n"
     ]
    },
    {
     "data": {
      "application/vnd.jupyter.widget-view+json": {
       "model_id": "4db6d68cfa964e0cbe925c24746253a0",
       "version_major": 2,
       "version_minor": 0
      },
      "text/plain": [
       "HBox(children=(FloatProgress(value=0.0, description='Downloading (…)lve/main/config.json', max=473.0, style=Pr…"
      ]
     },
     "metadata": {},
     "output_type": "display_data"
    },
    {
     "name": "stdout",
     "output_type": "stream",
     "text": [
      "\n"
     ]
    },
    {
     "data": {
      "application/vnd.jupyter.widget-view+json": {
       "model_id": "1d427358c1ed495390017cfbf2a39aff",
       "version_major": 2,
       "version_minor": 0
      },
      "text/plain": [
       "HBox(children=(FloatProgress(value=0.0, description='Downloading model.safetensors', max=260782156.0, style=Pr…"
      ]
     },
     "metadata": {},
     "output_type": "display_data"
    },
    {
     "name": "stdout",
     "output_type": "stream",
     "text": [
      "\n"
     ]
    },
    {
     "data": {
      "application/vnd.jupyter.widget-view+json": {
       "model_id": "06821778009443468ee684381fe92da2",
       "version_major": 2,
       "version_minor": 0
      },
      "text/plain": [
       "HBox(children=(FloatProgress(value=0.0, description='Downloading (…)okenizer_config.json', max=29.0, style=Pro…"
      ]
     },
     "metadata": {},
     "output_type": "display_data"
    },
    {
     "name": "stdout",
     "output_type": "stream",
     "text": [
      "\n"
     ]
    },
    {
     "data": {
      "application/vnd.jupyter.widget-view+json": {
       "model_id": "ea7e4debcae048d4b432958c5a9c1c93",
       "version_major": 2,
       "version_minor": 0
      },
      "text/plain": [
       "HBox(children=(FloatProgress(value=1.0, bar_style='info', description='Downloading (…)solve/main/vocab.txt', m…"
      ]
     },
     "metadata": {},
     "output_type": "display_data"
    },
    {
     "name": "stdout",
     "output_type": "stream",
     "text": [
      "\n"
     ]
    },
    {
     "data": {
      "application/vnd.jupyter.widget-view+json": {
       "model_id": "fa4a8972b10a4d079bdb66a274b5d49d",
       "version_major": 2,
       "version_minor": 0
      },
      "text/plain": [
       "HBox(children=(FloatProgress(value=1.0, bar_style='info', description='Downloading (…)/main/tokenizer.json', m…"
      ]
     },
     "metadata": {},
     "output_type": "display_data"
    },
    {
     "name": "stdout",
     "output_type": "stream",
     "text": [
      "\n"
     ]
    }
   ],
   "source": [
    "qa = pipeline (\"question-answering\")"
   ]
  },
  {
   "cell_type": "code",
   "execution_count": 45,
   "id": "121e3eb7-12ea-4f00-b33a-9487adc2f58a",
   "metadata": {
    "tags": []
   },
   "outputs": [],
   "source": [
    "context = \" Today I went to the store to purchase a carton of milk.\"\n",
    "question = \"finally, what was buyed\""
   ]
  },
  {
   "cell_type": "code",
   "execution_count": 46,
   "id": "b164c2bd-5ad1-45f4-bfe8-5e766ae5676e",
   "metadata": {
    "tags": []
   },
   "outputs": [
    {
     "data": {
      "text/plain": [
       "{'score': 0.544958770275116,\n",
       " 'start': 39,\n",
       " 'end': 55,\n",
       " 'answer': 'a carton of milk'}"
      ]
     },
     "execution_count": 46,
     "metadata": {},
     "output_type": "execute_result"
    }
   ],
   "source": [
    "qa(context = context, question=question)"
   ]
  },
  {
   "cell_type": "code",
   "execution_count": 51,
   "id": "bf218e15-2eca-4d7f-a26b-3516d6810dba",
   "metadata": {
    "tags": []
   },
   "outputs": [],
   "source": [
    "context = \"Out of all colors, I like blue the best\"\n",
    "question = \"What is your favourite color?\""
   ]
  },
  {
   "cell_type": "code",
   "execution_count": 52,
   "id": "f9d86e5f-17ef-466f-acbb-f4f1dea86be5",
   "metadata": {
    "tags": []
   },
   "outputs": [
    {
     "data": {
      "text/plain": [
       "{'score': 0.9929803013801575, 'start': 26, 'end': 30, 'answer': 'blue'}"
      ]
     },
     "execution_count": 52,
     "metadata": {},
     "output_type": "execute_result"
    }
   ],
   "source": [
    "qa(context = context, question=question)"
   ]
  },
  {
   "cell_type": "markdown",
   "id": "8538e2cc-c274-421c-ad31-92829f849c9d",
   "metadata": {},
   "source": [
    "# Task 7: Zero-Shot Classification"
   ]
  },
  {
   "cell_type": "code",
   "execution_count": 53,
   "id": "f4ed1008-1858-476e-94ba-5be0f4df4f6d",
   "metadata": {
    "tags": []
   },
   "outputs": [
    {
     "name": "stderr",
     "output_type": "stream",
     "text": [
      "No model was supplied, defaulted to facebook/bart-large-mnli and revision c626438 (https://huggingface.co/facebook/bart-large-mnli).\n",
      "Using a pipeline without specifying a model name and revision in production is not recommended.\n"
     ]
    },
    {
     "data": {
      "application/vnd.jupyter.widget-view+json": {
       "model_id": "90a2c7cfe32e4c4dbb07b740f81f461d",
       "version_major": 2,
       "version_minor": 0
      },
      "text/plain": [
       "HBox(children=(FloatProgress(value=1.0, bar_style='info', description='Downloading (…)lve/main/config.json', m…"
      ]
     },
     "metadata": {},
     "output_type": "display_data"
    },
    {
     "name": "stdout",
     "output_type": "stream",
     "text": [
      "\n"
     ]
    },
    {
     "data": {
      "application/vnd.jupyter.widget-view+json": {
       "model_id": "4cf6b36014854d2cbe6206abee91cb48",
       "version_major": 2,
       "version_minor": 0
      },
      "text/plain": [
       "HBox(children=(FloatProgress(value=0.0, description='Downloading model.safetensors', max=1629437147.0, style=P…"
      ]
     },
     "metadata": {},
     "output_type": "display_data"
    },
    {
     "name": "stdout",
     "output_type": "stream",
     "text": [
      "\n"
     ]
    },
    {
     "data": {
      "application/vnd.jupyter.widget-view+json": {
       "model_id": "450779787c8444c9a8cbac8455f25dca",
       "version_major": 2,
       "version_minor": 0
      },
      "text/plain": [
       "HBox(children=(FloatProgress(value=0.0, description='Downloading (…)okenizer_config.json', max=26.0, style=Pro…"
      ]
     },
     "metadata": {},
     "output_type": "display_data"
    },
    {
     "name": "stdout",
     "output_type": "stream",
     "text": [
      "\n"
     ]
    },
    {
     "data": {
      "application/vnd.jupyter.widget-view+json": {
       "model_id": "fbf3278d2845432983358042a358dec5",
       "version_major": 2,
       "version_minor": 0
      },
      "text/plain": [
       "HBox(children=(FloatProgress(value=1.0, bar_style='info', description='Downloading (…)olve/main/vocab.json', m…"
      ]
     },
     "metadata": {},
     "output_type": "display_data"
    },
    {
     "name": "stdout",
     "output_type": "stream",
     "text": [
      "\n"
     ]
    },
    {
     "data": {
      "application/vnd.jupyter.widget-view+json": {
       "model_id": "d67593a2ac9c4a66a6f027850ab5e9d9",
       "version_major": 2,
       "version_minor": 0
      },
      "text/plain": [
       "HBox(children=(FloatProgress(value=1.0, bar_style='info', description='Downloading (…)olve/main/merges.txt', m…"
      ]
     },
     "metadata": {},
     "output_type": "display_data"
    },
    {
     "name": "stdout",
     "output_type": "stream",
     "text": [
      "\n"
     ]
    },
    {
     "data": {
      "application/vnd.jupyter.widget-view+json": {
       "model_id": "823e2fc39b8941b19d3678e297ed8b1a",
       "version_major": 2,
       "version_minor": 0
      },
      "text/plain": [
       "HBox(children=(FloatProgress(value=1.0, bar_style='info', description='Downloading (…)/main/tokenizer.json', m…"
      ]
     },
     "metadata": {},
     "output_type": "display_data"
    },
    {
     "name": "stdout",
     "output_type": "stream",
     "text": [
      "\n"
     ]
    }
   ],
   "source": [
    "classifier = pipeline(\"zero-shot-classification\")"
   ]
  },
  {
   "cell_type": "code",
   "execution_count": 54,
   "id": "448eb649-769b-497a-8c5b-5b44c45b4dbe",
   "metadata": {
    "tags": []
   },
   "outputs": [
    {
     "data": {
      "text/plain": [
       "{'sequence': 'This is a great movie',\n",
       " 'labels': ['positive', 'negative'],\n",
       " 'scores': [0.9969461560249329, 0.003053841879591346]}"
      ]
     },
     "execution_count": 54,
     "metadata": {},
     "output_type": "execute_result"
    }
   ],
   "source": [
    "classifier(\"This is a great movie\", candidate_labels=[\"positive\", \"negative\"])"
   ]
  },
  {
   "cell_type": "code",
   "execution_count": 55,
   "id": "c16ef0a7-be38-4ea9-88ce-d9918ab3fb99",
   "metadata": {
    "tags": []
   },
   "outputs": [],
   "source": [
    "df_bbc = pd.read_csv('bbc_text_cls.csv')"
   ]
  },
  {
   "cell_type": "code",
   "execution_count": 56,
   "id": "6aaaea25-2843-4159-9462-78137c7e5354",
   "metadata": {
    "tags": []
   },
   "outputs": [
    {
     "data": {
      "text/plain": [
       "2225"
      ]
     },
     "execution_count": 56,
     "metadata": {},
     "output_type": "execute_result"
    }
   ],
   "source": [
    "len(df_bbc)"
   ]
  },
  {
   "cell_type": "code",
   "execution_count": 57,
   "id": "93919a88-6eef-4e41-b863-f4c002749732",
   "metadata": {
    "tags": []
   },
   "outputs": [
    {
     "data": {
      "application/vnd.jupyter.widget-view+json": {
       "model_id": "1f96776326f341f1b1298f82be5f0ccc"
      },
      "text/plain": [
       "                                                   text         labels\n",
       "1319  O'Sullivan commits to Dublin race\\n\\nSonia O'S...          sport\n",
       "892   French honour for director Parker\\n\\nBritish f...  entertainment\n",
       "1266  Howard pitches for UK ethnic vote\\n\\nMichael H...       politics\n",
       "283   Iraqi voters turn to economic issues\\n\\nBeyond...       business\n",
       "1834  UK net users leading TV downloads\\n\\nBritish T...           tech"
      ]
     },
     "metadata": {},
     "output_type": "display_data"
    }
   ],
   "source": [
    "df_bbc.sample(frac=1).head()"
   ]
  },
  {
   "cell_type": "code",
   "execution_count": 58,
   "id": "8687ae31-ae41-4bbb-aef2-e8a1a63cd76f",
   "metadata": {
    "tags": []
   },
   "outputs": [],
   "source": [
    "labels = list(set(df_bbc.labels))"
   ]
  },
  {
   "cell_type": "code",
   "execution_count": 59,
   "id": "b54b5e86-1149-4f67-a92b-4d7cd358cfcf",
   "metadata": {
    "tags": []
   },
   "outputs": [
    {
     "data": {
      "text/plain": [
       "['tech', 'politics', 'entertainment', 'sport', 'business']"
      ]
     },
     "execution_count": 59,
     "metadata": {},
     "output_type": "execute_result"
    }
   ],
   "source": [
    "labels"
   ]
  },
  {
   "cell_type": "code",
   "execution_count": 61,
   "id": "d442af0c-a941-492e-8ffc-d0f406d68e48",
   "metadata": {
    "tags": []
   },
   "outputs": [
    {
     "data": {
      "text/plain": [
       "'UK troops on Ivory Coast standby\\n\\nDowning Street has confirmed British troops are on standby in case they need to help evacuate several hundred UK citizens from Ivory Coast.\\n\\nThe news came as it emerged France had begun evacuating its hostages after days of anti-French demonstrations. Trouble flared after nine French peacekeepers were killed and President Jacques Chirac ordered the destruction of the Ivory Coast\\'s air force. A company of 100-120 UK troops is understood to have been put on standby. They are ready to fly out and secure the route from the embassy to the airport if called upon. Prime Minister Tony Blair\\'s official spokesman said: \"There are British nationals in Ivory Coast and as you can imagine we are making the usual contingency plans in case the situation deteriorates further, but that\\'s all I can say at this stage.\"\\n\\nHe added the situation would be monitored carefully in case evacuation became necessary. France has played a lead role in international peacekeeping in Ivory Coast - a former colony - after President Laurent Gbagbo broke an 18-month ceasefire with rebels bombing their positions and killing the nine French soldiers. The decision to destroy the African nation\\'s small air force prompted riots against French and other foreign nationals. The Spanish have already put their forces on standby to evacuate their nationals if necessary.'"
      ]
     },
     "execution_count": 61,
     "metadata": {},
     "output_type": "execute_result"
    }
   ],
   "source": [
    "df_bbc.iloc[1024]['text']"
   ]
  },
  {
   "cell_type": "code",
   "execution_count": 60,
   "id": "46aa1f42-6a62-4c22-b166-dc50b4bf6252",
   "metadata": {
    "tags": []
   },
   "outputs": [
    {
     "name": "stdout",
     "output_type": "stream",
     "text": [
      "UK troops on Ivory Coast standby  Downing Street has confirmed British\n",
      "troops are on standby in case they need to help evacuate several\n",
      "hundred UK citizens from Ivory Coast.  The news came as it emerged\n",
      "France had begun evacuating its hostages after days of anti-French\n",
      "demonstrations. Trouble flared after nine French peacekeepers were\n",
      "killed and President Jacques Chirac ordered the destruction of the\n",
      "Ivory Coast's air force. A company of 100-120 UK troops is understood\n",
      "to have been put on standby. They are ready to fly out and secure the\n",
      "route from the embassy to the airport if called upon. Prime Minister\n",
      "Tony Blair's official spokesman said: \"There are British nationals in\n",
      "Ivory Coast and as you can imagine we are making the usual contingency\n",
      "plans in case the situation deteriorates further, but that's all I can\n",
      "say at this stage.\"  He added the situation would be monitored\n",
      "carefully in case evacuation became necessary. France has played a\n",
      "lead role in international peacekeeping in Ivory Coast - a former\n",
      "colony - after President Laurent Gbagbo broke an 18-month ceasefire\n",
      "with rebels bombing their positions and killing the nine French\n",
      "soldiers. The decision to destroy the African nation's small air force\n",
      "prompted riots against French and other foreign nationals. The Spanish\n",
      "have already put their forces on standby to evacuate their nationals\n",
      "if necessary.\n"
     ]
    }
   ],
   "source": [
    "print(textwrap.fill(df_bbc.iloc[1024]['text']))"
   ]
  },
  {
   "cell_type": "code",
   "execution_count": 62,
   "id": "a9404256-80cf-4d0b-8b87-e56d8ca30fc2",
   "metadata": {
    "tags": []
   },
   "outputs": [
    {
     "data": {
      "text/plain": [
       "'politics'"
      ]
     },
     "execution_count": 62,
     "metadata": {},
     "output_type": "execute_result"
    }
   ],
   "source": [
    "df_bbc.iloc[1024]['labels']"
   ]
  },
  {
   "cell_type": "code",
   "execution_count": 63,
   "id": "8fe4850d-7bae-4b2f-a4d1-0e148ab0d15d",
   "metadata": {
    "tags": []
   },
   "outputs": [
    {
     "data": {
      "text/plain": [
       "{'sequence': 'UK troops on Ivory Coast standby\\n\\nDowning Street has confirmed British troops are on standby in case they need to help evacuate several hundred UK citizens from Ivory Coast.\\n\\nThe news came as it emerged France had begun evacuating its hostages after days of anti-French demonstrations. Trouble flared after nine French peacekeepers were killed and President Jacques Chirac ordered the destruction of the Ivory Coast\\'s air force. A company of 100-120 UK troops is understood to have been put on standby. They are ready to fly out and secure the route from the embassy to the airport if called upon. Prime Minister Tony Blair\\'s official spokesman said: \"There are British nationals in Ivory Coast and as you can imagine we are making the usual contingency plans in case the situation deteriorates further, but that\\'s all I can say at this stage.\"\\n\\nHe added the situation would be monitored carefully in case evacuation became necessary. France has played a lead role in international peacekeeping in Ivory Coast - a former colony - after President Laurent Gbagbo broke an 18-month ceasefire with rebels bombing their positions and killing the nine French soldiers. The decision to destroy the African nation\\'s small air force prompted riots against French and other foreign nationals. The Spanish have already put their forces on standby to evacuate their nationals if necessary.',\n",
       " 'labels': ['politics', 'tech', 'business', 'entertainment', 'sport'],\n",
       " 'scores': [0.417532354593277,\n",
       "  0.21155515313148499,\n",
       "  0.20523832738399506,\n",
       "  0.11830590665340424,\n",
       "  0.04736820608377457]}"
      ]
     },
     "execution_count": 63,
     "metadata": {},
     "output_type": "execute_result"
    }
   ],
   "source": [
    "classifier(df_bbc.iloc[1024]['text'], candidate_labels=labels)"
   ]
  },
  {
   "cell_type": "code",
   "execution_count": 76,
   "id": "de1669eb-0dd8-4006-99d6-94f9af1ec287",
   "metadata": {
    "tags": []
   },
   "outputs": [],
   "source": [
    "new_df_bbc = df_bbc.sample(frac=0.001)"
   ]
  },
  {
   "cell_type": "code",
   "execution_count": 77,
   "id": "c782f48b-55d0-40ce-b70b-85abb8038fc1",
   "metadata": {
    "tags": []
   },
   "outputs": [
    {
     "data": {
      "text/plain": [
       "2"
      ]
     },
     "execution_count": 77,
     "metadata": {},
     "output_type": "execute_result"
    }
   ],
   "source": [
    "len(new_df_bbc)"
   ]
  },
  {
   "cell_type": "code",
   "execution_count": 78,
   "id": "31aefade-bede-4341-ac1c-068bcdd718e5",
   "metadata": {
    "tags": []
   },
   "outputs": [],
   "source": [
    "text_bbc_ds = new_df_bbc['text'].tolist()\n",
    "labels_bbc_ds = new_df_bbc['labels'].tolist()"
   ]
  },
  {
   "cell_type": "code",
   "execution_count": 79,
   "id": "662e4183-315d-4f6a-b7f7-f9b50aaf2dc6",
   "metadata": {
    "tags": []
   },
   "outputs": [],
   "source": [
    "zero_shot_preds = classifier(text_bbc_ds, candidate_labels=labels)"
   ]
  },
  {
   "cell_type": "code",
   "execution_count": 80,
   "id": "40e07d6e-92cc-414e-8aea-9f5e20fbfb58",
   "metadata": {
    "tags": []
   },
   "outputs": [],
   "source": [
    "zero_shot_preds = [clf['labels'][0] for clf in zero_shot_preds]"
   ]
  },
  {
   "cell_type": "code",
   "execution_count": 81,
   "id": "9f3fc7bb-436f-43aa-99af-e1a6f07b14bd",
   "metadata": {
    "tags": []
   },
   "outputs": [],
   "source": [
    "new_df_bbc['predictions'] = zero_shot_preds"
   ]
  },
  {
   "cell_type": "code",
   "execution_count": 82,
   "id": "5968adcc-b020-4e4f-9124-7b679c28a20e",
   "metadata": {
    "tags": []
   },
   "outputs": [
    {
     "name": "stdout",
     "output_type": "stream",
     "text": [
      "acc: 0.5\n"
     ]
    }
   ],
   "source": [
    "print(\"acc:\", np.mean(new_df_bbc['predictions']==new_df_bbc['labels']))"
   ]
  },
  {
   "cell_type": "code",
   "execution_count": null,
   "id": "cdfca668-019e-4adf-a4a3-100675c5efd5",
   "metadata": {},
   "outputs": [],
   "source": []
  }
 ],
 "metadata": {
  "availableInstances": [
   {
    "_defaultOrder": 0,
    "_isFastLaunch": true,
    "category": "General purpose",
    "gpuNum": 0,
    "hideHardwareSpecs": false,
    "memoryGiB": 4,
    "name": "ml.t3.medium",
    "vcpuNum": 2
   },
   {
    "_defaultOrder": 1,
    "_isFastLaunch": false,
    "category": "General purpose",
    "gpuNum": 0,
    "hideHardwareSpecs": false,
    "memoryGiB": 8,
    "name": "ml.t3.large",
    "vcpuNum": 2
   },
   {
    "_defaultOrder": 2,
    "_isFastLaunch": false,
    "category": "General purpose",
    "gpuNum": 0,
    "hideHardwareSpecs": false,
    "memoryGiB": 16,
    "name": "ml.t3.xlarge",
    "vcpuNum": 4
   },
   {
    "_defaultOrder": 3,
    "_isFastLaunch": false,
    "category": "General purpose",
    "gpuNum": 0,
    "hideHardwareSpecs": false,
    "memoryGiB": 32,
    "name": "ml.t3.2xlarge",
    "vcpuNum": 8
   },
   {
    "_defaultOrder": 4,
    "_isFastLaunch": true,
    "category": "General purpose",
    "gpuNum": 0,
    "hideHardwareSpecs": false,
    "memoryGiB": 8,
    "name": "ml.m5.large",
    "vcpuNum": 2
   },
   {
    "_defaultOrder": 5,
    "_isFastLaunch": false,
    "category": "General purpose",
    "gpuNum": 0,
    "hideHardwareSpecs": false,
    "memoryGiB": 16,
    "name": "ml.m5.xlarge",
    "vcpuNum": 4
   },
   {
    "_defaultOrder": 6,
    "_isFastLaunch": false,
    "category": "General purpose",
    "gpuNum": 0,
    "hideHardwareSpecs": false,
    "memoryGiB": 32,
    "name": "ml.m5.2xlarge",
    "vcpuNum": 8
   },
   {
    "_defaultOrder": 7,
    "_isFastLaunch": false,
    "category": "General purpose",
    "gpuNum": 0,
    "hideHardwareSpecs": false,
    "memoryGiB": 64,
    "name": "ml.m5.4xlarge",
    "vcpuNum": 16
   },
   {
    "_defaultOrder": 8,
    "_isFastLaunch": false,
    "category": "General purpose",
    "gpuNum": 0,
    "hideHardwareSpecs": false,
    "memoryGiB": 128,
    "name": "ml.m5.8xlarge",
    "vcpuNum": 32
   },
   {
    "_defaultOrder": 9,
    "_isFastLaunch": false,
    "category": "General purpose",
    "gpuNum": 0,
    "hideHardwareSpecs": false,
    "memoryGiB": 192,
    "name": "ml.m5.12xlarge",
    "vcpuNum": 48
   },
   {
    "_defaultOrder": 10,
    "_isFastLaunch": false,
    "category": "General purpose",
    "gpuNum": 0,
    "hideHardwareSpecs": false,
    "memoryGiB": 256,
    "name": "ml.m5.16xlarge",
    "vcpuNum": 64
   },
   {
    "_defaultOrder": 11,
    "_isFastLaunch": false,
    "category": "General purpose",
    "gpuNum": 0,
    "hideHardwareSpecs": false,
    "memoryGiB": 384,
    "name": "ml.m5.24xlarge",
    "vcpuNum": 96
   },
   {
    "_defaultOrder": 12,
    "_isFastLaunch": false,
    "category": "General purpose",
    "gpuNum": 0,
    "hideHardwareSpecs": false,
    "memoryGiB": 8,
    "name": "ml.m5d.large",
    "vcpuNum": 2
   },
   {
    "_defaultOrder": 13,
    "_isFastLaunch": false,
    "category": "General purpose",
    "gpuNum": 0,
    "hideHardwareSpecs": false,
    "memoryGiB": 16,
    "name": "ml.m5d.xlarge",
    "vcpuNum": 4
   },
   {
    "_defaultOrder": 14,
    "_isFastLaunch": false,
    "category": "General purpose",
    "gpuNum": 0,
    "hideHardwareSpecs": false,
    "memoryGiB": 32,
    "name": "ml.m5d.2xlarge",
    "vcpuNum": 8
   },
   {
    "_defaultOrder": 15,
    "_isFastLaunch": false,
    "category": "General purpose",
    "gpuNum": 0,
    "hideHardwareSpecs": false,
    "memoryGiB": 64,
    "name": "ml.m5d.4xlarge",
    "vcpuNum": 16
   },
   {
    "_defaultOrder": 16,
    "_isFastLaunch": false,
    "category": "General purpose",
    "gpuNum": 0,
    "hideHardwareSpecs": false,
    "memoryGiB": 128,
    "name": "ml.m5d.8xlarge",
    "vcpuNum": 32
   },
   {
    "_defaultOrder": 17,
    "_isFastLaunch": false,
    "category": "General purpose",
    "gpuNum": 0,
    "hideHardwareSpecs": false,
    "memoryGiB": 192,
    "name": "ml.m5d.12xlarge",
    "vcpuNum": 48
   },
   {
    "_defaultOrder": 18,
    "_isFastLaunch": false,
    "category": "General purpose",
    "gpuNum": 0,
    "hideHardwareSpecs": false,
    "memoryGiB": 256,
    "name": "ml.m5d.16xlarge",
    "vcpuNum": 64
   },
   {
    "_defaultOrder": 19,
    "_isFastLaunch": false,
    "category": "General purpose",
    "gpuNum": 0,
    "hideHardwareSpecs": false,
    "memoryGiB": 384,
    "name": "ml.m5d.24xlarge",
    "vcpuNum": 96
   },
   {
    "_defaultOrder": 20,
    "_isFastLaunch": false,
    "category": "General purpose",
    "gpuNum": 0,
    "hideHardwareSpecs": true,
    "memoryGiB": 0,
    "name": "ml.geospatial.interactive",
    "supportedImageNames": [
     "sagemaker-geospatial-v1-0"
    ],
    "vcpuNum": 0
   },
   {
    "_defaultOrder": 21,
    "_isFastLaunch": true,
    "category": "Compute optimized",
    "gpuNum": 0,
    "hideHardwareSpecs": false,
    "memoryGiB": 4,
    "name": "ml.c5.large",
    "vcpuNum": 2
   },
   {
    "_defaultOrder": 22,
    "_isFastLaunch": false,
    "category": "Compute optimized",
    "gpuNum": 0,
    "hideHardwareSpecs": false,
    "memoryGiB": 8,
    "name": "ml.c5.xlarge",
    "vcpuNum": 4
   },
   {
    "_defaultOrder": 23,
    "_isFastLaunch": false,
    "category": "Compute optimized",
    "gpuNum": 0,
    "hideHardwareSpecs": false,
    "memoryGiB": 16,
    "name": "ml.c5.2xlarge",
    "vcpuNum": 8
   },
   {
    "_defaultOrder": 24,
    "_isFastLaunch": false,
    "category": "Compute optimized",
    "gpuNum": 0,
    "hideHardwareSpecs": false,
    "memoryGiB": 32,
    "name": "ml.c5.4xlarge",
    "vcpuNum": 16
   },
   {
    "_defaultOrder": 25,
    "_isFastLaunch": false,
    "category": "Compute optimized",
    "gpuNum": 0,
    "hideHardwareSpecs": false,
    "memoryGiB": 72,
    "name": "ml.c5.9xlarge",
    "vcpuNum": 36
   },
   {
    "_defaultOrder": 26,
    "_isFastLaunch": false,
    "category": "Compute optimized",
    "gpuNum": 0,
    "hideHardwareSpecs": false,
    "memoryGiB": 96,
    "name": "ml.c5.12xlarge",
    "vcpuNum": 48
   },
   {
    "_defaultOrder": 27,
    "_isFastLaunch": false,
    "category": "Compute optimized",
    "gpuNum": 0,
    "hideHardwareSpecs": false,
    "memoryGiB": 144,
    "name": "ml.c5.18xlarge",
    "vcpuNum": 72
   },
   {
    "_defaultOrder": 28,
    "_isFastLaunch": false,
    "category": "Compute optimized",
    "gpuNum": 0,
    "hideHardwareSpecs": false,
    "memoryGiB": 192,
    "name": "ml.c5.24xlarge",
    "vcpuNum": 96
   },
   {
    "_defaultOrder": 29,
    "_isFastLaunch": true,
    "category": "Accelerated computing",
    "gpuNum": 1,
    "hideHardwareSpecs": false,
    "memoryGiB": 16,
    "name": "ml.g4dn.xlarge",
    "vcpuNum": 4
   },
   {
    "_defaultOrder": 30,
    "_isFastLaunch": false,
    "category": "Accelerated computing",
    "gpuNum": 1,
    "hideHardwareSpecs": false,
    "memoryGiB": 32,
    "name": "ml.g4dn.2xlarge",
    "vcpuNum": 8
   },
   {
    "_defaultOrder": 31,
    "_isFastLaunch": false,
    "category": "Accelerated computing",
    "gpuNum": 1,
    "hideHardwareSpecs": false,
    "memoryGiB": 64,
    "name": "ml.g4dn.4xlarge",
    "vcpuNum": 16
   },
   {
    "_defaultOrder": 32,
    "_isFastLaunch": false,
    "category": "Accelerated computing",
    "gpuNum": 1,
    "hideHardwareSpecs": false,
    "memoryGiB": 128,
    "name": "ml.g4dn.8xlarge",
    "vcpuNum": 32
   },
   {
    "_defaultOrder": 33,
    "_isFastLaunch": false,
    "category": "Accelerated computing",
    "gpuNum": 4,
    "hideHardwareSpecs": false,
    "memoryGiB": 192,
    "name": "ml.g4dn.12xlarge",
    "vcpuNum": 48
   },
   {
    "_defaultOrder": 34,
    "_isFastLaunch": false,
    "category": "Accelerated computing",
    "gpuNum": 1,
    "hideHardwareSpecs": false,
    "memoryGiB": 256,
    "name": "ml.g4dn.16xlarge",
    "vcpuNum": 64
   },
   {
    "_defaultOrder": 35,
    "_isFastLaunch": false,
    "category": "Accelerated computing",
    "gpuNum": 1,
    "hideHardwareSpecs": false,
    "memoryGiB": 61,
    "name": "ml.p3.2xlarge",
    "vcpuNum": 8
   },
   {
    "_defaultOrder": 36,
    "_isFastLaunch": false,
    "category": "Accelerated computing",
    "gpuNum": 4,
    "hideHardwareSpecs": false,
    "memoryGiB": 244,
    "name": "ml.p3.8xlarge",
    "vcpuNum": 32
   },
   {
    "_defaultOrder": 37,
    "_isFastLaunch": false,
    "category": "Accelerated computing",
    "gpuNum": 8,
    "hideHardwareSpecs": false,
    "memoryGiB": 488,
    "name": "ml.p3.16xlarge",
    "vcpuNum": 64
   },
   {
    "_defaultOrder": 38,
    "_isFastLaunch": false,
    "category": "Accelerated computing",
    "gpuNum": 8,
    "hideHardwareSpecs": false,
    "memoryGiB": 768,
    "name": "ml.p3dn.24xlarge",
    "vcpuNum": 96
   },
   {
    "_defaultOrder": 39,
    "_isFastLaunch": false,
    "category": "Memory Optimized",
    "gpuNum": 0,
    "hideHardwareSpecs": false,
    "memoryGiB": 16,
    "name": "ml.r5.large",
    "vcpuNum": 2
   },
   {
    "_defaultOrder": 40,
    "_isFastLaunch": false,
    "category": "Memory Optimized",
    "gpuNum": 0,
    "hideHardwareSpecs": false,
    "memoryGiB": 32,
    "name": "ml.r5.xlarge",
    "vcpuNum": 4
   },
   {
    "_defaultOrder": 41,
    "_isFastLaunch": false,
    "category": "Memory Optimized",
    "gpuNum": 0,
    "hideHardwareSpecs": false,
    "memoryGiB": 64,
    "name": "ml.r5.2xlarge",
    "vcpuNum": 8
   },
   {
    "_defaultOrder": 42,
    "_isFastLaunch": false,
    "category": "Memory Optimized",
    "gpuNum": 0,
    "hideHardwareSpecs": false,
    "memoryGiB": 128,
    "name": "ml.r5.4xlarge",
    "vcpuNum": 16
   },
   {
    "_defaultOrder": 43,
    "_isFastLaunch": false,
    "category": "Memory Optimized",
    "gpuNum": 0,
    "hideHardwareSpecs": false,
    "memoryGiB": 256,
    "name": "ml.r5.8xlarge",
    "vcpuNum": 32
   },
   {
    "_defaultOrder": 44,
    "_isFastLaunch": false,
    "category": "Memory Optimized",
    "gpuNum": 0,
    "hideHardwareSpecs": false,
    "memoryGiB": 384,
    "name": "ml.r5.12xlarge",
    "vcpuNum": 48
   },
   {
    "_defaultOrder": 45,
    "_isFastLaunch": false,
    "category": "Memory Optimized",
    "gpuNum": 0,
    "hideHardwareSpecs": false,
    "memoryGiB": 512,
    "name": "ml.r5.16xlarge",
    "vcpuNum": 64
   },
   {
    "_defaultOrder": 46,
    "_isFastLaunch": false,
    "category": "Memory Optimized",
    "gpuNum": 0,
    "hideHardwareSpecs": false,
    "memoryGiB": 768,
    "name": "ml.r5.24xlarge",
    "vcpuNum": 96
   },
   {
    "_defaultOrder": 47,
    "_isFastLaunch": false,
    "category": "Accelerated computing",
    "gpuNum": 1,
    "hideHardwareSpecs": false,
    "memoryGiB": 16,
    "name": "ml.g5.xlarge",
    "vcpuNum": 4
   },
   {
    "_defaultOrder": 48,
    "_isFastLaunch": false,
    "category": "Accelerated computing",
    "gpuNum": 1,
    "hideHardwareSpecs": false,
    "memoryGiB": 32,
    "name": "ml.g5.2xlarge",
    "vcpuNum": 8
   },
   {
    "_defaultOrder": 49,
    "_isFastLaunch": false,
    "category": "Accelerated computing",
    "gpuNum": 1,
    "hideHardwareSpecs": false,
    "memoryGiB": 64,
    "name": "ml.g5.4xlarge",
    "vcpuNum": 16
   },
   {
    "_defaultOrder": 50,
    "_isFastLaunch": false,
    "category": "Accelerated computing",
    "gpuNum": 1,
    "hideHardwareSpecs": false,
    "memoryGiB": 128,
    "name": "ml.g5.8xlarge",
    "vcpuNum": 32
   },
   {
    "_defaultOrder": 51,
    "_isFastLaunch": false,
    "category": "Accelerated computing",
    "gpuNum": 1,
    "hideHardwareSpecs": false,
    "memoryGiB": 256,
    "name": "ml.g5.16xlarge",
    "vcpuNum": 64
   },
   {
    "_defaultOrder": 52,
    "_isFastLaunch": false,
    "category": "Accelerated computing",
    "gpuNum": 4,
    "hideHardwareSpecs": false,
    "memoryGiB": 192,
    "name": "ml.g5.12xlarge",
    "vcpuNum": 48
   },
   {
    "_defaultOrder": 53,
    "_isFastLaunch": false,
    "category": "Accelerated computing",
    "gpuNum": 4,
    "hideHardwareSpecs": false,
    "memoryGiB": 384,
    "name": "ml.g5.24xlarge",
    "vcpuNum": 96
   },
   {
    "_defaultOrder": 54,
    "_isFastLaunch": false,
    "category": "Accelerated computing",
    "gpuNum": 8,
    "hideHardwareSpecs": false,
    "memoryGiB": 768,
    "name": "ml.g5.48xlarge",
    "vcpuNum": 192
   },
   {
    "_defaultOrder": 55,
    "_isFastLaunch": false,
    "category": "Accelerated computing",
    "gpuNum": 8,
    "hideHardwareSpecs": false,
    "memoryGiB": 1152,
    "name": "ml.p4d.24xlarge",
    "vcpuNum": 96
   },
   {
    "_defaultOrder": 56,
    "_isFastLaunch": false,
    "category": "Accelerated computing",
    "gpuNum": 8,
    "hideHardwareSpecs": false,
    "memoryGiB": 1152,
    "name": "ml.p4de.24xlarge",
    "vcpuNum": 96
   }
  ],
  "instance_type": "ml.t3.medium",
  "kernelspec": {
   "display_name": "Python 3 (Data Science)",
   "language": "python",
   "name": "python3__SAGEMAKER_INTERNAL__arn:aws:sagemaker:us-east-1:081325390199:image/datascience-1.0"
  },
  "language_info": {
   "codemirror_mode": {
    "name": "ipython",
    "version": 3
   },
   "file_extension": ".py",
   "mimetype": "text/x-python",
   "name": "python",
   "nbconvert_exporter": "python",
   "pygments_lexer": "ipython3",
   "version": "3.7.10"
  }
 },
 "nbformat": 4,
 "nbformat_minor": 5
}
